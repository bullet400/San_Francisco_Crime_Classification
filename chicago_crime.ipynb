{
  "nbformat": 4,
  "nbformat_minor": 0,
  "metadata": {
    "colab": {
      "name": "Copy of chicago_crime.ipynb",
      "provenance": [],
      "collapsed_sections": [],
      "toc_visible": true,
      "include_colab_link": true
    },
    "kernelspec": {
      "display_name": "Python 3",
      "language": "python",
      "name": "python3"
    },
    "language_info": {
      "codemirror_mode": {
        "name": "ipython",
        "version": 3
      },
      "file_extension": ".py",
      "mimetype": "text/x-python",
      "name": "python",
      "nbconvert_exporter": "python",
      "pygments_lexer": "ipython3",
      "version": "3.7.7"
    },
    "widgets": {
      "application/vnd.jupyter.widget-state+json": {
        "412948e5942049f4a609cc880a7bd040": {
          "model_module": "@jupyter-widgets/controls",
          "model_name": "HBoxModel",
          "state": {
            "_view_name": "HBoxView",
            "_dom_classes": [],
            "_model_name": "HBoxModel",
            "_view_module": "@jupyter-widgets/controls",
            "_model_module_version": "1.5.0",
            "_view_count": null,
            "_view_module_version": "1.5.0",
            "box_style": "",
            "layout": "IPY_MODEL_6938a1f8be4f4bcfb2b7346f5fffee65",
            "_model_module": "@jupyter-widgets/controls",
            "children": [
              "IPY_MODEL_cd5454a453d74c8ab2a4fee51fb6afd8",
              "IPY_MODEL_a8d02f61afb44950851a50a5f9c9a7a7"
            ]
          }
        },
        "6938a1f8be4f4bcfb2b7346f5fffee65": {
          "model_module": "@jupyter-widgets/base",
          "model_name": "LayoutModel",
          "state": {
            "_view_name": "LayoutView",
            "grid_template_rows": null,
            "right": null,
            "justify_content": null,
            "_view_module": "@jupyter-widgets/base",
            "overflow": null,
            "_model_module_version": "1.2.0",
            "_view_count": null,
            "flex_flow": null,
            "width": null,
            "min_width": null,
            "border": null,
            "align_items": null,
            "bottom": null,
            "_model_module": "@jupyter-widgets/base",
            "top": null,
            "grid_column": null,
            "overflow_y": null,
            "overflow_x": null,
            "grid_auto_flow": null,
            "grid_area": null,
            "grid_template_columns": null,
            "flex": null,
            "_model_name": "LayoutModel",
            "justify_items": null,
            "grid_row": null,
            "max_height": null,
            "align_content": null,
            "visibility": null,
            "align_self": null,
            "height": null,
            "min_height": null,
            "padding": null,
            "grid_auto_rows": null,
            "grid_gap": null,
            "max_width": null,
            "order": null,
            "_view_module_version": "1.2.0",
            "grid_template_areas": null,
            "object_position": null,
            "object_fit": null,
            "grid_auto_columns": null,
            "margin": null,
            "display": null,
            "left": null
          }
        },
        "cd5454a453d74c8ab2a4fee51fb6afd8": {
          "model_module": "@jupyter-widgets/controls",
          "model_name": "FloatProgressModel",
          "state": {
            "_view_name": "ProgressView",
            "style": "IPY_MODEL_3774edc655c74057ac1e6ba68231af3b",
            "_dom_classes": [],
            "description": "100%",
            "_model_name": "FloatProgressModel",
            "bar_style": "success",
            "max": 2,
            "_view_module": "@jupyter-widgets/controls",
            "_model_module_version": "1.5.0",
            "value": 2,
            "_view_count": null,
            "_view_module_version": "1.5.0",
            "orientation": "horizontal",
            "min": 0,
            "description_tooltip": null,
            "_model_module": "@jupyter-widgets/controls",
            "layout": "IPY_MODEL_1ff8cfc9aeda476c96e7148d00f13ac0"
          }
        },
        "a8d02f61afb44950851a50a5f9c9a7a7": {
          "model_module": "@jupyter-widgets/controls",
          "model_name": "HTMLModel",
          "state": {
            "_view_name": "HTMLView",
            "style": "IPY_MODEL_c3ebb312718a4a81bdc1590f00a04db9",
            "_dom_classes": [],
            "description": "",
            "_model_name": "HTMLModel",
            "placeholder": "​",
            "_view_module": "@jupyter-widgets/controls",
            "_model_module_version": "1.5.0",
            "value": " 2/2 [00:25&lt;00:00, 12.82s/it]",
            "_view_count": null,
            "_view_module_version": "1.5.0",
            "description_tooltip": null,
            "_model_module": "@jupyter-widgets/controls",
            "layout": "IPY_MODEL_5022ef4b33ab4e50bd2f467918cd0a4d"
          }
        },
        "3774edc655c74057ac1e6ba68231af3b": {
          "model_module": "@jupyter-widgets/controls",
          "model_name": "ProgressStyleModel",
          "state": {
            "_view_name": "StyleView",
            "_model_name": "ProgressStyleModel",
            "description_width": "initial",
            "_view_module": "@jupyter-widgets/base",
            "_model_module_version": "1.5.0",
            "_view_count": null,
            "_view_module_version": "1.2.0",
            "bar_color": null,
            "_model_module": "@jupyter-widgets/controls"
          }
        },
        "1ff8cfc9aeda476c96e7148d00f13ac0": {
          "model_module": "@jupyter-widgets/base",
          "model_name": "LayoutModel",
          "state": {
            "_view_name": "LayoutView",
            "grid_template_rows": null,
            "right": null,
            "justify_content": null,
            "_view_module": "@jupyter-widgets/base",
            "overflow": null,
            "_model_module_version": "1.2.0",
            "_view_count": null,
            "flex_flow": null,
            "width": null,
            "min_width": null,
            "border": null,
            "align_items": null,
            "bottom": null,
            "_model_module": "@jupyter-widgets/base",
            "top": null,
            "grid_column": null,
            "overflow_y": null,
            "overflow_x": null,
            "grid_auto_flow": null,
            "grid_area": null,
            "grid_template_columns": null,
            "flex": null,
            "_model_name": "LayoutModel",
            "justify_items": null,
            "grid_row": null,
            "max_height": null,
            "align_content": null,
            "visibility": null,
            "align_self": null,
            "height": null,
            "min_height": null,
            "padding": null,
            "grid_auto_rows": null,
            "grid_gap": null,
            "max_width": null,
            "order": null,
            "_view_module_version": "1.2.0",
            "grid_template_areas": null,
            "object_position": null,
            "object_fit": null,
            "grid_auto_columns": null,
            "margin": null,
            "display": null,
            "left": null
          }
        },
        "c3ebb312718a4a81bdc1590f00a04db9": {
          "model_module": "@jupyter-widgets/controls",
          "model_name": "DescriptionStyleModel",
          "state": {
            "_view_name": "StyleView",
            "_model_name": "DescriptionStyleModel",
            "description_width": "",
            "_view_module": "@jupyter-widgets/base",
            "_model_module_version": "1.5.0",
            "_view_count": null,
            "_view_module_version": "1.2.0",
            "_model_module": "@jupyter-widgets/controls"
          }
        },
        "5022ef4b33ab4e50bd2f467918cd0a4d": {
          "model_module": "@jupyter-widgets/base",
          "model_name": "LayoutModel",
          "state": {
            "_view_name": "LayoutView",
            "grid_template_rows": null,
            "right": null,
            "justify_content": null,
            "_view_module": "@jupyter-widgets/base",
            "overflow": null,
            "_model_module_version": "1.2.0",
            "_view_count": null,
            "flex_flow": null,
            "width": null,
            "min_width": null,
            "border": null,
            "align_items": null,
            "bottom": null,
            "_model_module": "@jupyter-widgets/base",
            "top": null,
            "grid_column": null,
            "overflow_y": null,
            "overflow_x": null,
            "grid_auto_flow": null,
            "grid_area": null,
            "grid_template_columns": null,
            "flex": null,
            "_model_name": "LayoutModel",
            "justify_items": null,
            "grid_row": null,
            "max_height": null,
            "align_content": null,
            "visibility": null,
            "align_self": null,
            "height": null,
            "min_height": null,
            "padding": null,
            "grid_auto_rows": null,
            "grid_gap": null,
            "max_width": null,
            "order": null,
            "_view_module_version": "1.2.0",
            "grid_template_areas": null,
            "object_position": null,
            "object_fit": null,
            "grid_auto_columns": null,
            "margin": null,
            "display": null,
            "left": null
          }
        },
        "c1fabef00ae9467f927d729ace14beeb": {
          "model_module": "@jupyter-widgets/controls",
          "model_name": "HBoxModel",
          "state": {
            "_view_name": "HBoxView",
            "_dom_classes": [],
            "_model_name": "HBoxModel",
            "_view_module": "@jupyter-widgets/controls",
            "_model_module_version": "1.5.0",
            "_view_count": null,
            "_view_module_version": "1.5.0",
            "box_style": "",
            "layout": "IPY_MODEL_c98442eab6a143c8b7f1e52ebf6719b5",
            "_model_module": "@jupyter-widgets/controls",
            "children": [
              "IPY_MODEL_b98d71851128455caaeb7c02d94bc5af",
              "IPY_MODEL_28cd2fc2f1f64a9a8f8ef3f955137ed9"
            ]
          }
        },
        "c98442eab6a143c8b7f1e52ebf6719b5": {
          "model_module": "@jupyter-widgets/base",
          "model_name": "LayoutModel",
          "state": {
            "_view_name": "LayoutView",
            "grid_template_rows": null,
            "right": null,
            "justify_content": null,
            "_view_module": "@jupyter-widgets/base",
            "overflow": null,
            "_model_module_version": "1.2.0",
            "_view_count": null,
            "flex_flow": null,
            "width": null,
            "min_width": null,
            "border": null,
            "align_items": null,
            "bottom": null,
            "_model_module": "@jupyter-widgets/base",
            "top": null,
            "grid_column": null,
            "overflow_y": null,
            "overflow_x": null,
            "grid_auto_flow": null,
            "grid_area": null,
            "grid_template_columns": null,
            "flex": null,
            "_model_name": "LayoutModel",
            "justify_items": null,
            "grid_row": null,
            "max_height": null,
            "align_content": null,
            "visibility": null,
            "align_self": null,
            "height": null,
            "min_height": null,
            "padding": null,
            "grid_auto_rows": null,
            "grid_gap": null,
            "max_width": null,
            "order": null,
            "_view_module_version": "1.2.0",
            "grid_template_areas": null,
            "object_position": null,
            "object_fit": null,
            "grid_auto_columns": null,
            "margin": null,
            "display": null,
            "left": null
          }
        },
        "b98d71851128455caaeb7c02d94bc5af": {
          "model_module": "@jupyter-widgets/controls",
          "model_name": "FloatProgressModel",
          "state": {
            "_view_name": "ProgressView",
            "style": "IPY_MODEL_1e99252c4f4c4c8195b6033e74bdd865",
            "_dom_classes": [],
            "description": "100%",
            "_model_name": "FloatProgressModel",
            "bar_style": "success",
            "max": 2,
            "_view_module": "@jupyter-widgets/controls",
            "_model_module_version": "1.5.0",
            "value": 2,
            "_view_count": null,
            "_view_module_version": "1.5.0",
            "orientation": "horizontal",
            "min": 0,
            "description_tooltip": null,
            "_model_module": "@jupyter-widgets/controls",
            "layout": "IPY_MODEL_5dd8e90542e74bc5b03ec372e031b5df"
          }
        },
        "28cd2fc2f1f64a9a8f8ef3f955137ed9": {
          "model_module": "@jupyter-widgets/controls",
          "model_name": "HTMLModel",
          "state": {
            "_view_name": "HTMLView",
            "style": "IPY_MODEL_73ea2b1674424ded89c3867538fb8a0e",
            "_dom_classes": [],
            "description": "",
            "_model_name": "HTMLModel",
            "placeholder": "​",
            "_view_module": "@jupyter-widgets/controls",
            "_model_module_version": "1.5.0",
            "value": " 2/2 [01:30&lt;00:00, 45.08s/it]",
            "_view_count": null,
            "_view_module_version": "1.5.0",
            "description_tooltip": null,
            "_model_module": "@jupyter-widgets/controls",
            "layout": "IPY_MODEL_be4bcd8bc1424fb681f49df68536d05e"
          }
        },
        "1e99252c4f4c4c8195b6033e74bdd865": {
          "model_module": "@jupyter-widgets/controls",
          "model_name": "ProgressStyleModel",
          "state": {
            "_view_name": "StyleView",
            "_model_name": "ProgressStyleModel",
            "description_width": "initial",
            "_view_module": "@jupyter-widgets/base",
            "_model_module_version": "1.5.0",
            "_view_count": null,
            "_view_module_version": "1.2.0",
            "bar_color": null,
            "_model_module": "@jupyter-widgets/controls"
          }
        },
        "5dd8e90542e74bc5b03ec372e031b5df": {
          "model_module": "@jupyter-widgets/base",
          "model_name": "LayoutModel",
          "state": {
            "_view_name": "LayoutView",
            "grid_template_rows": null,
            "right": null,
            "justify_content": null,
            "_view_module": "@jupyter-widgets/base",
            "overflow": null,
            "_model_module_version": "1.2.0",
            "_view_count": null,
            "flex_flow": null,
            "width": null,
            "min_width": null,
            "border": null,
            "align_items": null,
            "bottom": null,
            "_model_module": "@jupyter-widgets/base",
            "top": null,
            "grid_column": null,
            "overflow_y": null,
            "overflow_x": null,
            "grid_auto_flow": null,
            "grid_area": null,
            "grid_template_columns": null,
            "flex": null,
            "_model_name": "LayoutModel",
            "justify_items": null,
            "grid_row": null,
            "max_height": null,
            "align_content": null,
            "visibility": null,
            "align_self": null,
            "height": null,
            "min_height": null,
            "padding": null,
            "grid_auto_rows": null,
            "grid_gap": null,
            "max_width": null,
            "order": null,
            "_view_module_version": "1.2.0",
            "grid_template_areas": null,
            "object_position": null,
            "object_fit": null,
            "grid_auto_columns": null,
            "margin": null,
            "display": null,
            "left": null
          }
        },
        "73ea2b1674424ded89c3867538fb8a0e": {
          "model_module": "@jupyter-widgets/controls",
          "model_name": "DescriptionStyleModel",
          "state": {
            "_view_name": "StyleView",
            "_model_name": "DescriptionStyleModel",
            "description_width": "",
            "_view_module": "@jupyter-widgets/base",
            "_model_module_version": "1.5.0",
            "_view_count": null,
            "_view_module_version": "1.2.0",
            "_model_module": "@jupyter-widgets/controls"
          }
        },
        "be4bcd8bc1424fb681f49df68536d05e": {
          "model_module": "@jupyter-widgets/base",
          "model_name": "LayoutModel",
          "state": {
            "_view_name": "LayoutView",
            "grid_template_rows": null,
            "right": null,
            "justify_content": null,
            "_view_module": "@jupyter-widgets/base",
            "overflow": null,
            "_model_module_version": "1.2.0",
            "_view_count": null,
            "flex_flow": null,
            "width": null,
            "min_width": null,
            "border": null,
            "align_items": null,
            "bottom": null,
            "_model_module": "@jupyter-widgets/base",
            "top": null,
            "grid_column": null,
            "overflow_y": null,
            "overflow_x": null,
            "grid_auto_flow": null,
            "grid_area": null,
            "grid_template_columns": null,
            "flex": null,
            "_model_name": "LayoutModel",
            "justify_items": null,
            "grid_row": null,
            "max_height": null,
            "align_content": null,
            "visibility": null,
            "align_self": null,
            "height": null,
            "min_height": null,
            "padding": null,
            "grid_auto_rows": null,
            "grid_gap": null,
            "max_width": null,
            "order": null,
            "_view_module_version": "1.2.0",
            "grid_template_areas": null,
            "object_position": null,
            "object_fit": null,
            "grid_auto_columns": null,
            "margin": null,
            "display": null,
            "left": null
          }
        },
        "fee31298d6c0409fa7ea8a7938dc53b1": {
          "model_module": "@jupyter-widgets/controls",
          "model_name": "HBoxModel",
          "state": {
            "_view_name": "HBoxView",
            "_dom_classes": [],
            "_model_name": "HBoxModel",
            "_view_module": "@jupyter-widgets/controls",
            "_model_module_version": "1.5.0",
            "_view_count": null,
            "_view_module_version": "1.5.0",
            "box_style": "",
            "layout": "IPY_MODEL_c41b80cda56c439bbc200e943cce8a6c",
            "_model_module": "@jupyter-widgets/controls",
            "children": [
              "IPY_MODEL_06055e10d73b437e8fe8404a51b65d6a",
              "IPY_MODEL_d7cae1eefe7d474fb0524af433dcb7d0"
            ]
          }
        },
        "c41b80cda56c439bbc200e943cce8a6c": {
          "model_module": "@jupyter-widgets/base",
          "model_name": "LayoutModel",
          "state": {
            "_view_name": "LayoutView",
            "grid_template_rows": null,
            "right": null,
            "justify_content": null,
            "_view_module": "@jupyter-widgets/base",
            "overflow": null,
            "_model_module_version": "1.2.0",
            "_view_count": null,
            "flex_flow": null,
            "width": null,
            "min_width": null,
            "border": null,
            "align_items": null,
            "bottom": null,
            "_model_module": "@jupyter-widgets/base",
            "top": null,
            "grid_column": null,
            "overflow_y": null,
            "overflow_x": null,
            "grid_auto_flow": null,
            "grid_area": null,
            "grid_template_columns": null,
            "flex": null,
            "_model_name": "LayoutModel",
            "justify_items": null,
            "grid_row": null,
            "max_height": null,
            "align_content": null,
            "visibility": null,
            "align_self": null,
            "height": null,
            "min_height": null,
            "padding": null,
            "grid_auto_rows": null,
            "grid_gap": null,
            "max_width": null,
            "order": null,
            "_view_module_version": "1.2.0",
            "grid_template_areas": null,
            "object_position": null,
            "object_fit": null,
            "grid_auto_columns": null,
            "margin": null,
            "display": null,
            "left": null
          }
        },
        "06055e10d73b437e8fe8404a51b65d6a": {
          "model_module": "@jupyter-widgets/controls",
          "model_name": "FloatProgressModel",
          "state": {
            "_view_name": "ProgressView",
            "style": "IPY_MODEL_e9667155e92b4e2cac7f6514901c6314",
            "_dom_classes": [],
            "description": "100%",
            "_model_name": "FloatProgressModel",
            "bar_style": "success",
            "max": 2,
            "_view_module": "@jupyter-widgets/controls",
            "_model_module_version": "1.5.0",
            "value": 2,
            "_view_count": null,
            "_view_module_version": "1.5.0",
            "orientation": "horizontal",
            "min": 0,
            "description_tooltip": null,
            "_model_module": "@jupyter-widgets/controls",
            "layout": "IPY_MODEL_1eea816093a24b1d921516f695205772"
          }
        },
        "d7cae1eefe7d474fb0524af433dcb7d0": {
          "model_module": "@jupyter-widgets/controls",
          "model_name": "HTMLModel",
          "state": {
            "_view_name": "HTMLView",
            "style": "IPY_MODEL_fb807a3c178347ad98899ebf0f793d4c",
            "_dom_classes": [],
            "description": "",
            "_model_name": "HTMLModel",
            "placeholder": "​",
            "_view_module": "@jupyter-widgets/controls",
            "_model_module_version": "1.5.0",
            "value": " 2/2 [01:05&lt;00:00, 32.68s/it]",
            "_view_count": null,
            "_view_module_version": "1.5.0",
            "description_tooltip": null,
            "_model_module": "@jupyter-widgets/controls",
            "layout": "IPY_MODEL_78c5dccaad824fb0904a18d75a479d50"
          }
        },
        "e9667155e92b4e2cac7f6514901c6314": {
          "model_module": "@jupyter-widgets/controls",
          "model_name": "ProgressStyleModel",
          "state": {
            "_view_name": "StyleView",
            "_model_name": "ProgressStyleModel",
            "description_width": "initial",
            "_view_module": "@jupyter-widgets/base",
            "_model_module_version": "1.5.0",
            "_view_count": null,
            "_view_module_version": "1.2.0",
            "bar_color": null,
            "_model_module": "@jupyter-widgets/controls"
          }
        },
        "1eea816093a24b1d921516f695205772": {
          "model_module": "@jupyter-widgets/base",
          "model_name": "LayoutModel",
          "state": {
            "_view_name": "LayoutView",
            "grid_template_rows": null,
            "right": null,
            "justify_content": null,
            "_view_module": "@jupyter-widgets/base",
            "overflow": null,
            "_model_module_version": "1.2.0",
            "_view_count": null,
            "flex_flow": null,
            "width": null,
            "min_width": null,
            "border": null,
            "align_items": null,
            "bottom": null,
            "_model_module": "@jupyter-widgets/base",
            "top": null,
            "grid_column": null,
            "overflow_y": null,
            "overflow_x": null,
            "grid_auto_flow": null,
            "grid_area": null,
            "grid_template_columns": null,
            "flex": null,
            "_model_name": "LayoutModel",
            "justify_items": null,
            "grid_row": null,
            "max_height": null,
            "align_content": null,
            "visibility": null,
            "align_self": null,
            "height": null,
            "min_height": null,
            "padding": null,
            "grid_auto_rows": null,
            "grid_gap": null,
            "max_width": null,
            "order": null,
            "_view_module_version": "1.2.0",
            "grid_template_areas": null,
            "object_position": null,
            "object_fit": null,
            "grid_auto_columns": null,
            "margin": null,
            "display": null,
            "left": null
          }
        },
        "fb807a3c178347ad98899ebf0f793d4c": {
          "model_module": "@jupyter-widgets/controls",
          "model_name": "DescriptionStyleModel",
          "state": {
            "_view_name": "StyleView",
            "_model_name": "DescriptionStyleModel",
            "description_width": "",
            "_view_module": "@jupyter-widgets/base",
            "_model_module_version": "1.5.0",
            "_view_count": null,
            "_view_module_version": "1.2.0",
            "_model_module": "@jupyter-widgets/controls"
          }
        },
        "78c5dccaad824fb0904a18d75a479d50": {
          "model_module": "@jupyter-widgets/base",
          "model_name": "LayoutModel",
          "state": {
            "_view_name": "LayoutView",
            "grid_template_rows": null,
            "right": null,
            "justify_content": null,
            "_view_module": "@jupyter-widgets/base",
            "overflow": null,
            "_model_module_version": "1.2.0",
            "_view_count": null,
            "flex_flow": null,
            "width": null,
            "min_width": null,
            "border": null,
            "align_items": null,
            "bottom": null,
            "_model_module": "@jupyter-widgets/base",
            "top": null,
            "grid_column": null,
            "overflow_y": null,
            "overflow_x": null,
            "grid_auto_flow": null,
            "grid_area": null,
            "grid_template_columns": null,
            "flex": null,
            "_model_name": "LayoutModel",
            "justify_items": null,
            "grid_row": null,
            "max_height": null,
            "align_content": null,
            "visibility": null,
            "align_self": null,
            "height": null,
            "min_height": null,
            "padding": null,
            "grid_auto_rows": null,
            "grid_gap": null,
            "max_width": null,
            "order": null,
            "_view_module_version": "1.2.0",
            "grid_template_areas": null,
            "object_position": null,
            "object_fit": null,
            "grid_auto_columns": null,
            "margin": null,
            "display": null,
            "left": null
          }
        },
        "3c2ac5921c9c4a2e918274ba63d2b811": {
          "model_module": "@jupyter-widgets/controls",
          "model_name": "HBoxModel",
          "state": {
            "_view_name": "HBoxView",
            "_dom_classes": [],
            "_model_name": "HBoxModel",
            "_view_module": "@jupyter-widgets/controls",
            "_model_module_version": "1.5.0",
            "_view_count": null,
            "_view_module_version": "1.5.0",
            "box_style": "",
            "layout": "IPY_MODEL_7041f7ac81434c3e891c7e6f2b4ea6e2",
            "_model_module": "@jupyter-widgets/controls",
            "children": [
              "IPY_MODEL_7b64a4039eab408fb138c3c3b38c17cb",
              "IPY_MODEL_8c908855961f48698c8df0a2cf6dd402"
            ]
          }
        },
        "7041f7ac81434c3e891c7e6f2b4ea6e2": {
          "model_module": "@jupyter-widgets/base",
          "model_name": "LayoutModel",
          "state": {
            "_view_name": "LayoutView",
            "grid_template_rows": null,
            "right": null,
            "justify_content": null,
            "_view_module": "@jupyter-widgets/base",
            "overflow": null,
            "_model_module_version": "1.2.0",
            "_view_count": null,
            "flex_flow": null,
            "width": null,
            "min_width": null,
            "border": null,
            "align_items": null,
            "bottom": null,
            "_model_module": "@jupyter-widgets/base",
            "top": null,
            "grid_column": null,
            "overflow_y": null,
            "overflow_x": null,
            "grid_auto_flow": null,
            "grid_area": null,
            "grid_template_columns": null,
            "flex": null,
            "_model_name": "LayoutModel",
            "justify_items": null,
            "grid_row": null,
            "max_height": null,
            "align_content": null,
            "visibility": null,
            "align_self": null,
            "height": null,
            "min_height": null,
            "padding": null,
            "grid_auto_rows": null,
            "grid_gap": null,
            "max_width": null,
            "order": null,
            "_view_module_version": "1.2.0",
            "grid_template_areas": null,
            "object_position": null,
            "object_fit": null,
            "grid_auto_columns": null,
            "margin": null,
            "display": null,
            "left": null
          }
        },
        "7b64a4039eab408fb138c3c3b38c17cb": {
          "model_module": "@jupyter-widgets/controls",
          "model_name": "FloatProgressModel",
          "state": {
            "_view_name": "ProgressView",
            "style": "IPY_MODEL_101b607fa83842509558c18ad492be4c",
            "_dom_classes": [],
            "description": "100%",
            "_model_name": "FloatProgressModel",
            "bar_style": "success",
            "max": 3,
            "_view_module": "@jupyter-widgets/controls",
            "_model_module_version": "1.5.0",
            "value": 3,
            "_view_count": null,
            "_view_module_version": "1.5.0",
            "orientation": "horizontal",
            "min": 0,
            "description_tooltip": null,
            "_model_module": "@jupyter-widgets/controls",
            "layout": "IPY_MODEL_d767c80bf87c4b3e8e4f0ee901f35723"
          }
        },
        "8c908855961f48698c8df0a2cf6dd402": {
          "model_module": "@jupyter-widgets/controls",
          "model_name": "HTMLModel",
          "state": {
            "_view_name": "HTMLView",
            "style": "IPY_MODEL_fe8261342cac4e968ace81f7a3f56e29",
            "_dom_classes": [],
            "description": "",
            "_model_name": "HTMLModel",
            "placeholder": "​",
            "_view_module": "@jupyter-widgets/controls",
            "_model_module_version": "1.5.0",
            "value": " 3/3 [02:00&lt;00:00, 40.29s/it]",
            "_view_count": null,
            "_view_module_version": "1.5.0",
            "description_tooltip": null,
            "_model_module": "@jupyter-widgets/controls",
            "layout": "IPY_MODEL_c92dd6a0424e4dcaa0a0b4b77024b2a0"
          }
        },
        "101b607fa83842509558c18ad492be4c": {
          "model_module": "@jupyter-widgets/controls",
          "model_name": "ProgressStyleModel",
          "state": {
            "_view_name": "StyleView",
            "_model_name": "ProgressStyleModel",
            "description_width": "initial",
            "_view_module": "@jupyter-widgets/base",
            "_model_module_version": "1.5.0",
            "_view_count": null,
            "_view_module_version": "1.2.0",
            "bar_color": null,
            "_model_module": "@jupyter-widgets/controls"
          }
        },
        "d767c80bf87c4b3e8e4f0ee901f35723": {
          "model_module": "@jupyter-widgets/base",
          "model_name": "LayoutModel",
          "state": {
            "_view_name": "LayoutView",
            "grid_template_rows": null,
            "right": null,
            "justify_content": null,
            "_view_module": "@jupyter-widgets/base",
            "overflow": null,
            "_model_module_version": "1.2.0",
            "_view_count": null,
            "flex_flow": null,
            "width": null,
            "min_width": null,
            "border": null,
            "align_items": null,
            "bottom": null,
            "_model_module": "@jupyter-widgets/base",
            "top": null,
            "grid_column": null,
            "overflow_y": null,
            "overflow_x": null,
            "grid_auto_flow": null,
            "grid_area": null,
            "grid_template_columns": null,
            "flex": null,
            "_model_name": "LayoutModel",
            "justify_items": null,
            "grid_row": null,
            "max_height": null,
            "align_content": null,
            "visibility": null,
            "align_self": null,
            "height": null,
            "min_height": null,
            "padding": null,
            "grid_auto_rows": null,
            "grid_gap": null,
            "max_width": null,
            "order": null,
            "_view_module_version": "1.2.0",
            "grid_template_areas": null,
            "object_position": null,
            "object_fit": null,
            "grid_auto_columns": null,
            "margin": null,
            "display": null,
            "left": null
          }
        },
        "fe8261342cac4e968ace81f7a3f56e29": {
          "model_module": "@jupyter-widgets/controls",
          "model_name": "DescriptionStyleModel",
          "state": {
            "_view_name": "StyleView",
            "_model_name": "DescriptionStyleModel",
            "description_width": "",
            "_view_module": "@jupyter-widgets/base",
            "_model_module_version": "1.5.0",
            "_view_count": null,
            "_view_module_version": "1.2.0",
            "_model_module": "@jupyter-widgets/controls"
          }
        },
        "c92dd6a0424e4dcaa0a0b4b77024b2a0": {
          "model_module": "@jupyter-widgets/base",
          "model_name": "LayoutModel",
          "state": {
            "_view_name": "LayoutView",
            "grid_template_rows": null,
            "right": null,
            "justify_content": null,
            "_view_module": "@jupyter-widgets/base",
            "overflow": null,
            "_model_module_version": "1.2.0",
            "_view_count": null,
            "flex_flow": null,
            "width": null,
            "min_width": null,
            "border": null,
            "align_items": null,
            "bottom": null,
            "_model_module": "@jupyter-widgets/base",
            "top": null,
            "grid_column": null,
            "overflow_y": null,
            "overflow_x": null,
            "grid_auto_flow": null,
            "grid_area": null,
            "grid_template_columns": null,
            "flex": null,
            "_model_name": "LayoutModel",
            "justify_items": null,
            "grid_row": null,
            "max_height": null,
            "align_content": null,
            "visibility": null,
            "align_self": null,
            "height": null,
            "min_height": null,
            "padding": null,
            "grid_auto_rows": null,
            "grid_gap": null,
            "max_width": null,
            "order": null,
            "_view_module_version": "1.2.0",
            "grid_template_areas": null,
            "object_position": null,
            "object_fit": null,
            "grid_auto_columns": null,
            "margin": null,
            "display": null,
            "left": null
          }
        },
        "15ef1c90cfab4657b3b70f5678486258": {
          "model_module": "@jupyter-widgets/controls",
          "model_name": "HBoxModel",
          "state": {
            "_view_name": "HBoxView",
            "_dom_classes": [],
            "_model_name": "HBoxModel",
            "_view_module": "@jupyter-widgets/controls",
            "_model_module_version": "1.5.0",
            "_view_count": null,
            "_view_module_version": "1.5.0",
            "box_style": "",
            "layout": "IPY_MODEL_c5ecefe0bb204006b1c4f7e9fa81c8a0",
            "_model_module": "@jupyter-widgets/controls",
            "children": [
              "IPY_MODEL_ae8aa83e89c64887b00cc86da71d57d1",
              "IPY_MODEL_d5a455c3ae20449f9b646c16d3663200"
            ]
          }
        },
        "c5ecefe0bb204006b1c4f7e9fa81c8a0": {
          "model_module": "@jupyter-widgets/base",
          "model_name": "LayoutModel",
          "state": {
            "_view_name": "LayoutView",
            "grid_template_rows": null,
            "right": null,
            "justify_content": null,
            "_view_module": "@jupyter-widgets/base",
            "overflow": null,
            "_model_module_version": "1.2.0",
            "_view_count": null,
            "flex_flow": null,
            "width": null,
            "min_width": null,
            "border": null,
            "align_items": null,
            "bottom": null,
            "_model_module": "@jupyter-widgets/base",
            "top": null,
            "grid_column": null,
            "overflow_y": null,
            "overflow_x": null,
            "grid_auto_flow": null,
            "grid_area": null,
            "grid_template_columns": null,
            "flex": null,
            "_model_name": "LayoutModel",
            "justify_items": null,
            "grid_row": null,
            "max_height": null,
            "align_content": null,
            "visibility": null,
            "align_self": null,
            "height": null,
            "min_height": null,
            "padding": null,
            "grid_auto_rows": null,
            "grid_gap": null,
            "max_width": null,
            "order": null,
            "_view_module_version": "1.2.0",
            "grid_template_areas": null,
            "object_position": null,
            "object_fit": null,
            "grid_auto_columns": null,
            "margin": null,
            "display": null,
            "left": null
          }
        },
        "ae8aa83e89c64887b00cc86da71d57d1": {
          "model_module": "@jupyter-widgets/controls",
          "model_name": "FloatProgressModel",
          "state": {
            "_view_name": "ProgressView",
            "style": "IPY_MODEL_86b7aeb14ddc4a4eaac0df13f558bd76",
            "_dom_classes": [],
            "description": "100%",
            "_model_name": "FloatProgressModel",
            "bar_style": "success",
            "max": 5,
            "_view_module": "@jupyter-widgets/controls",
            "_model_module_version": "1.5.0",
            "value": 5,
            "_view_count": null,
            "_view_module_version": "1.5.0",
            "orientation": "horizontal",
            "min": 0,
            "description_tooltip": null,
            "_model_module": "@jupyter-widgets/controls",
            "layout": "IPY_MODEL_4b3c619dc1f64b8a8ddedf02d9962605"
          }
        },
        "d5a455c3ae20449f9b646c16d3663200": {
          "model_module": "@jupyter-widgets/controls",
          "model_name": "HTMLModel",
          "state": {
            "_view_name": "HTMLView",
            "style": "IPY_MODEL_ceee43abaf264a0ea1f4e6af34ca7b16",
            "_dom_classes": [],
            "description": "",
            "_model_name": "HTMLModel",
            "placeholder": "​",
            "_view_module": "@jupyter-widgets/controls",
            "_model_module_version": "1.5.0",
            "value": " 5/5 [00:48&lt;00:00,  9.64s/it]",
            "_view_count": null,
            "_view_module_version": "1.5.0",
            "description_tooltip": null,
            "_model_module": "@jupyter-widgets/controls",
            "layout": "IPY_MODEL_6ee8de7b6b254decbdf50b1db398f27b"
          }
        },
        "86b7aeb14ddc4a4eaac0df13f558bd76": {
          "model_module": "@jupyter-widgets/controls",
          "model_name": "ProgressStyleModel",
          "state": {
            "_view_name": "StyleView",
            "_model_name": "ProgressStyleModel",
            "description_width": "initial",
            "_view_module": "@jupyter-widgets/base",
            "_model_module_version": "1.5.0",
            "_view_count": null,
            "_view_module_version": "1.2.0",
            "bar_color": null,
            "_model_module": "@jupyter-widgets/controls"
          }
        },
        "4b3c619dc1f64b8a8ddedf02d9962605": {
          "model_module": "@jupyter-widgets/base",
          "model_name": "LayoutModel",
          "state": {
            "_view_name": "LayoutView",
            "grid_template_rows": null,
            "right": null,
            "justify_content": null,
            "_view_module": "@jupyter-widgets/base",
            "overflow": null,
            "_model_module_version": "1.2.0",
            "_view_count": null,
            "flex_flow": null,
            "width": null,
            "min_width": null,
            "border": null,
            "align_items": null,
            "bottom": null,
            "_model_module": "@jupyter-widgets/base",
            "top": null,
            "grid_column": null,
            "overflow_y": null,
            "overflow_x": null,
            "grid_auto_flow": null,
            "grid_area": null,
            "grid_template_columns": null,
            "flex": null,
            "_model_name": "LayoutModel",
            "justify_items": null,
            "grid_row": null,
            "max_height": null,
            "align_content": null,
            "visibility": null,
            "align_self": null,
            "height": null,
            "min_height": null,
            "padding": null,
            "grid_auto_rows": null,
            "grid_gap": null,
            "max_width": null,
            "order": null,
            "_view_module_version": "1.2.0",
            "grid_template_areas": null,
            "object_position": null,
            "object_fit": null,
            "grid_auto_columns": null,
            "margin": null,
            "display": null,
            "left": null
          }
        },
        "ceee43abaf264a0ea1f4e6af34ca7b16": {
          "model_module": "@jupyter-widgets/controls",
          "model_name": "DescriptionStyleModel",
          "state": {
            "_view_name": "StyleView",
            "_model_name": "DescriptionStyleModel",
            "description_width": "",
            "_view_module": "@jupyter-widgets/base",
            "_model_module_version": "1.5.0",
            "_view_count": null,
            "_view_module_version": "1.2.0",
            "_model_module": "@jupyter-widgets/controls"
          }
        },
        "6ee8de7b6b254decbdf50b1db398f27b": {
          "model_module": "@jupyter-widgets/base",
          "model_name": "LayoutModel",
          "state": {
            "_view_name": "LayoutView",
            "grid_template_rows": null,
            "right": null,
            "justify_content": null,
            "_view_module": "@jupyter-widgets/base",
            "overflow": null,
            "_model_module_version": "1.2.0",
            "_view_count": null,
            "flex_flow": null,
            "width": null,
            "min_width": null,
            "border": null,
            "align_items": null,
            "bottom": null,
            "_model_module": "@jupyter-widgets/base",
            "top": null,
            "grid_column": null,
            "overflow_y": null,
            "overflow_x": null,
            "grid_auto_flow": null,
            "grid_area": null,
            "grid_template_columns": null,
            "flex": null,
            "_model_name": "LayoutModel",
            "justify_items": null,
            "grid_row": null,
            "max_height": null,
            "align_content": null,
            "visibility": null,
            "align_self": null,
            "height": null,
            "min_height": null,
            "padding": null,
            "grid_auto_rows": null,
            "grid_gap": null,
            "max_width": null,
            "order": null,
            "_view_module_version": "1.2.0",
            "grid_template_areas": null,
            "object_position": null,
            "object_fit": null,
            "grid_auto_columns": null,
            "margin": null,
            "display": null,
            "left": null
          }
        }
      }
    }
  },
  "cells": [
    {
      "cell_type": "markdown",
      "metadata": {
        "id": "view-in-github",
        "colab_type": "text"
      },
      "source": [
        "<a href=\"https://colab.research.google.com/github/bullet400/San_Francisco_Crime_Classification/blob/master/chicago_crime.ipynb\" target=\"_parent\"><img src=\"https://colab.research.google.com/assets/colab-badge.svg\" alt=\"Open In Colab\"/></a>"
      ]
    },
    {
      "cell_type": "code",
      "metadata": {
        "id": "2NjYp2aTxhg9"
      },
      "source": [
        "                                                                                                                                                                                                                                                                                                                                                                    from google.colab import drive\n",
        "#drive.mount('/content/drive')"
      ],
      "execution_count": 1,
      "outputs": []
    },
    {
      "cell_type": "code",
      "metadata": {
        "id": "2hF08LlvW5Ps"
      },
      "source": [
        "import numpy as np\n",
        "import pandas as pd\n",
        "import seaborn as sns\n",
        "import matplotlib.pyplot as plt\n",
        "from fbprophet import Prophet"
      ],
      "execution_count": 2,
      "outputs": []
    },
    {
      "cell_type": "code",
      "metadata": {
        "id": "3s130nF3W5Pu"
      },
      "source": [
        "%matplotlib inline"
      ],
      "execution_count": 3,
      "outputs": []
    },
    {
      "cell_type": "code",
      "metadata": {
        "id": "DxWAqYJXW5Pu"
      },
      "source": [
        "\n",
        "chicago_crime  =pd.read_csv('/content/drive/MyDrive/Chicago_Crimes_2012.csv', error_bad_lines =False)"
      ],
      "execution_count": 4,
      "outputs": []
    },
    {
      "cell_type": "code",
      "metadata": {
        "id": "x77hYjNYW5Pu",
        "colab": {
          "base_uri": "https://localhost:8080/"
        },
        "outputId": "ebec2c84-9592-4c6b-9f80-fcf7c4b675ab"
      },
      "source": [
        "chicago_crime.shape"
      ],
      "execution_count": 5,
      "outputs": [
        {
          "output_type": "execute_result",
          "data": {
            "text/plain": [
              "(1456714, 23)"
            ]
          },
          "metadata": {
            "tags": []
          },
          "execution_count": 5
        }
      ]
    },
    {
      "cell_type": "code",
      "metadata": {
        "id": "809dCbxRW5Px",
        "colab": {
          "base_uri": "https://localhost:8080/",
          "height": 217
        },
        "outputId": "73a0bc2d-6974-41b0-f024-2b2867f83d0d"
      },
      "source": [
        "chicago_crime.head(2)"
      ],
      "execution_count": 6,
      "outputs": [
        {
          "output_type": "execute_result",
          "data": {
            "text/html": [
              "<div>\n",
              "<style scoped>\n",
              "    .dataframe tbody tr th:only-of-type {\n",
              "        vertical-align: middle;\n",
              "    }\n",
              "\n",
              "    .dataframe tbody tr th {\n",
              "        vertical-align: top;\n",
              "    }\n",
              "\n",
              "    .dataframe thead th {\n",
              "        text-align: right;\n",
              "    }\n",
              "</style>\n",
              "<table border=\"1\" class=\"dataframe\">\n",
              "  <thead>\n",
              "    <tr style=\"text-align: right;\">\n",
              "      <th></th>\n",
              "      <th>Unnamed: 0</th>\n",
              "      <th>ID</th>\n",
              "      <th>Case Number</th>\n",
              "      <th>Date</th>\n",
              "      <th>Block</th>\n",
              "      <th>IUCR</th>\n",
              "      <th>Primary Type</th>\n",
              "      <th>Description</th>\n",
              "      <th>Location Description</th>\n",
              "      <th>Arrest</th>\n",
              "      <th>Domestic</th>\n",
              "      <th>Beat</th>\n",
              "      <th>District</th>\n",
              "      <th>Ward</th>\n",
              "      <th>Community Area</th>\n",
              "      <th>FBI Code</th>\n",
              "      <th>X Coordinate</th>\n",
              "      <th>Y Coordinate</th>\n",
              "      <th>Year</th>\n",
              "      <th>Updated On</th>\n",
              "      <th>Latitude</th>\n",
              "      <th>Longitude</th>\n",
              "      <th>Location</th>\n",
              "    </tr>\n",
              "  </thead>\n",
              "  <tbody>\n",
              "    <tr>\n",
              "      <th>0</th>\n",
              "      <td>3</td>\n",
              "      <td>10508693</td>\n",
              "      <td>HZ250496</td>\n",
              "      <td>05/03/2016 11:40:00 PM</td>\n",
              "      <td>013XX S SAWYER AVE</td>\n",
              "      <td>0486</td>\n",
              "      <td>BATTERY</td>\n",
              "      <td>DOMESTIC BATTERY SIMPLE</td>\n",
              "      <td>APARTMENT</td>\n",
              "      <td>True</td>\n",
              "      <td>True</td>\n",
              "      <td>1022</td>\n",
              "      <td>10.0</td>\n",
              "      <td>24.0</td>\n",
              "      <td>29.0</td>\n",
              "      <td>08B</td>\n",
              "      <td>1154907.0</td>\n",
              "      <td>1893681.0</td>\n",
              "      <td>2016</td>\n",
              "      <td>05/10/2016 03:56:50 PM</td>\n",
              "      <td>41.864073</td>\n",
              "      <td>-87.706819</td>\n",
              "      <td>(41.864073157, -87.706818608)</td>\n",
              "    </tr>\n",
              "    <tr>\n",
              "      <th>1</th>\n",
              "      <td>89</td>\n",
              "      <td>10508695</td>\n",
              "      <td>HZ250409</td>\n",
              "      <td>05/03/2016 09:40:00 PM</td>\n",
              "      <td>061XX S DREXEL AVE</td>\n",
              "      <td>0486</td>\n",
              "      <td>BATTERY</td>\n",
              "      <td>DOMESTIC BATTERY SIMPLE</td>\n",
              "      <td>RESIDENCE</td>\n",
              "      <td>False</td>\n",
              "      <td>True</td>\n",
              "      <td>313</td>\n",
              "      <td>3.0</td>\n",
              "      <td>20.0</td>\n",
              "      <td>42.0</td>\n",
              "      <td>08B</td>\n",
              "      <td>1183066.0</td>\n",
              "      <td>1864330.0</td>\n",
              "      <td>2016</td>\n",
              "      <td>05/10/2016 03:56:50 PM</td>\n",
              "      <td>41.782922</td>\n",
              "      <td>-87.604363</td>\n",
              "      <td>(41.782921527, -87.60436317)</td>\n",
              "    </tr>\n",
              "  </tbody>\n",
              "</table>\n",
              "</div>"
            ],
            "text/plain": [
              "   Unnamed: 0        ID  ...  Longitude                       Location\n",
              "0           3  10508693  ... -87.706819  (41.864073157, -87.706818608)\n",
              "1          89  10508695  ... -87.604363   (41.782921527, -87.60436317)\n",
              "\n",
              "[2 rows x 23 columns]"
            ]
          },
          "metadata": {
            "tags": []
          },
          "execution_count": 6
        }
      ]
    },
    {
      "cell_type": "code",
      "metadata": {
        "id": "OxKl41odW5Py",
        "colab": {
          "base_uri": "https://localhost:8080/",
          "height": 331
        },
        "outputId": "6fce781e-01c7-4672-e2b3-614b03ed44dd"
      },
      "source": [
        "chicago_crime.describe()"
      ],
      "execution_count": 7,
      "outputs": [
        {
          "output_type": "execute_result",
          "data": {
            "text/html": [
              "<div>\n",
              "<style scoped>\n",
              "    .dataframe tbody tr th:only-of-type {\n",
              "        vertical-align: middle;\n",
              "    }\n",
              "\n",
              "    .dataframe tbody tr th {\n",
              "        vertical-align: top;\n",
              "    }\n",
              "\n",
              "    .dataframe thead th {\n",
              "        text-align: right;\n",
              "    }\n",
              "</style>\n",
              "<table border=\"1\" class=\"dataframe\">\n",
              "  <thead>\n",
              "    <tr style=\"text-align: right;\">\n",
              "      <th></th>\n",
              "      <th>Unnamed: 0</th>\n",
              "      <th>ID</th>\n",
              "      <th>Beat</th>\n",
              "      <th>District</th>\n",
              "      <th>Ward</th>\n",
              "      <th>Community Area</th>\n",
              "      <th>X Coordinate</th>\n",
              "      <th>Y Coordinate</th>\n",
              "      <th>Year</th>\n",
              "      <th>Latitude</th>\n",
              "      <th>Longitude</th>\n",
              "    </tr>\n",
              "  </thead>\n",
              "  <tbody>\n",
              "    <tr>\n",
              "      <th>count</th>\n",
              "      <td>1.456714e+06</td>\n",
              "      <td>1.456714e+06</td>\n",
              "      <td>1.456714e+06</td>\n",
              "      <td>1.456713e+06</td>\n",
              "      <td>1.456700e+06</td>\n",
              "      <td>1.456674e+06</td>\n",
              "      <td>1.419631e+06</td>\n",
              "      <td>1.419631e+06</td>\n",
              "      <td>1.456714e+06</td>\n",
              "      <td>1.419631e+06</td>\n",
              "      <td>1.419631e+06</td>\n",
              "    </tr>\n",
              "    <tr>\n",
              "      <th>mean</th>\n",
              "      <td>3.308606e+06</td>\n",
              "      <td>9.597550e+06</td>\n",
              "      <td>1.150644e+03</td>\n",
              "      <td>1.125920e+01</td>\n",
              "      <td>2.287027e+01</td>\n",
              "      <td>3.745632e+01</td>\n",
              "      <td>1.164398e+06</td>\n",
              "      <td>1.885523e+06</td>\n",
              "      <td>2.013897e+03</td>\n",
              "      <td>4.184147e+01</td>\n",
              "      <td>-8.767224e+01</td>\n",
              "    </tr>\n",
              "    <tr>\n",
              "      <th>std</th>\n",
              "      <td>1.235350e+06</td>\n",
              "      <td>8.083505e+05</td>\n",
              "      <td>6.916466e+02</td>\n",
              "      <td>6.904691e+00</td>\n",
              "      <td>1.380589e+01</td>\n",
              "      <td>2.144029e+01</td>\n",
              "      <td>1.850835e+04</td>\n",
              "      <td>3.424775e+04</td>\n",
              "      <td>1.449584e+00</td>\n",
              "      <td>9.430126e-02</td>\n",
              "      <td>6.661726e-02</td>\n",
              "    </tr>\n",
              "    <tr>\n",
              "      <th>min</th>\n",
              "      <td>3.000000e+00</td>\n",
              "      <td>2.022400e+04</td>\n",
              "      <td>1.110000e+02</td>\n",
              "      <td>1.000000e+00</td>\n",
              "      <td>1.000000e+00</td>\n",
              "      <td>0.000000e+00</td>\n",
              "      <td>0.000000e+00</td>\n",
              "      <td>0.000000e+00</td>\n",
              "      <td>2.012000e+03</td>\n",
              "      <td>3.661945e+01</td>\n",
              "      <td>-9.168657e+01</td>\n",
              "    </tr>\n",
              "    <tr>\n",
              "      <th>25%</th>\n",
              "      <td>2.698636e+06</td>\n",
              "      <td>9.002709e+06</td>\n",
              "      <td>6.130000e+02</td>\n",
              "      <td>6.000000e+00</td>\n",
              "      <td>1.000000e+01</td>\n",
              "      <td>2.300000e+01</td>\n",
              "      <td>1.152544e+06</td>\n",
              "      <td>1.858762e+06</td>\n",
              "      <td>2.013000e+03</td>\n",
              "      <td>4.176787e+01</td>\n",
              "      <td>-8.771528e+01</td>\n",
              "    </tr>\n",
              "    <tr>\n",
              "      <th>50%</th>\n",
              "      <td>3.063654e+06</td>\n",
              "      <td>9.605776e+06</td>\n",
              "      <td>1.024000e+03</td>\n",
              "      <td>1.000000e+01</td>\n",
              "      <td>2.300000e+01</td>\n",
              "      <td>3.200000e+01</td>\n",
              "      <td>1.166021e+06</td>\n",
              "      <td>1.891502e+06</td>\n",
              "      <td>2.014000e+03</td>\n",
              "      <td>4.185797e+01</td>\n",
              "      <td>-8.766613e+01</td>\n",
              "    </tr>\n",
              "    <tr>\n",
              "      <th>75%</th>\n",
              "      <td>3.428849e+06</td>\n",
              "      <td>1.022577e+07</td>\n",
              "      <td>1.711000e+03</td>\n",
              "      <td>1.700000e+01</td>\n",
              "      <td>3.400000e+01</td>\n",
              "      <td>5.600000e+01</td>\n",
              "      <td>1.176363e+06</td>\n",
              "      <td>1.908713e+06</td>\n",
              "      <td>2.015000e+03</td>\n",
              "      <td>4.190529e+01</td>\n",
              "      <td>-8.762813e+01</td>\n",
              "    </tr>\n",
              "    <tr>\n",
              "      <th>max</th>\n",
              "      <td>6.253474e+06</td>\n",
              "      <td>1.082788e+07</td>\n",
              "      <td>2.535000e+03</td>\n",
              "      <td>3.100000e+01</td>\n",
              "      <td>5.000000e+01</td>\n",
              "      <td>7.700000e+01</td>\n",
              "      <td>1.205119e+06</td>\n",
              "      <td>1.951573e+06</td>\n",
              "      <td>2.017000e+03</td>\n",
              "      <td>4.202271e+01</td>\n",
              "      <td>-8.752453e+01</td>\n",
              "    </tr>\n",
              "  </tbody>\n",
              "</table>\n",
              "</div>"
            ],
            "text/plain": [
              "         Unnamed: 0            ID  ...      Latitude     Longitude\n",
              "count  1.456714e+06  1.456714e+06  ...  1.419631e+06  1.419631e+06\n",
              "mean   3.308606e+06  9.597550e+06  ...  4.184147e+01 -8.767224e+01\n",
              "std    1.235350e+06  8.083505e+05  ...  9.430126e-02  6.661726e-02\n",
              "min    3.000000e+00  2.022400e+04  ...  3.661945e+01 -9.168657e+01\n",
              "25%    2.698636e+06  9.002709e+06  ...  4.176787e+01 -8.771528e+01\n",
              "50%    3.063654e+06  9.605776e+06  ...  4.185797e+01 -8.766613e+01\n",
              "75%    3.428849e+06  1.022577e+07  ...  4.190529e+01 -8.762813e+01\n",
              "max    6.253474e+06  1.082788e+07  ...  4.202271e+01 -8.752453e+01\n",
              "\n",
              "[8 rows x 11 columns]"
            ]
          },
          "metadata": {
            "tags": []
          },
          "execution_count": 7
        }
      ]
    },
    {
      "cell_type": "code",
      "metadata": {
        "id": "TlHu9xxFW5Py",
        "colab": {
          "base_uri": "https://localhost:8080/",
          "height": 361
        },
        "outputId": "d9615aa1-51a3-4855-f4fd-a40bca72f5c4"
      },
      "source": [
        "sns.heatmap(chicago_crime.corr())"
      ],
      "execution_count": 8,
      "outputs": [
        {
          "output_type": "execute_result",
          "data": {
            "text/plain": [
              "<matplotlib.axes._subplots.AxesSubplot at 0x7f3afe8a0e80>"
            ]
          },
          "metadata": {
            "tags": []
          },
          "execution_count": 8
        },
        {
          "output_type": "display_data",
          "data": {
            "image/png": "[encoded data removed]",
            "text/plain": [
              "<Figure size 432x288 with 2 Axes>"
            ]
          },
          "metadata": {
            "tags": [],
            "needs_background": "light"
          }
        }
      ]
    },
    {
      "cell_type": "code",
      "metadata": {
        "colab": {
          "base_uri": "https://localhost:8080/",
          "height": 379
        },
        "id": "qpLsY2E-W5Pz",
        "outputId": "7d9e9bd3-cd2d-44c4-d9e8-70b8ec92bddc"
      },
      "source": [
        "sns.heatmap(chicago_crime.isnull())"
      ],
      "execution_count": 9,
      "outputs": [
        {
          "output_type": "execute_result",
          "data": {
            "text/plain": [
              "<matplotlib.axes._subplots.AxesSubplot at 0x7f3afbf6c710>"
            ]
          },
          "metadata": {
            "tags": []
          },
          "execution_count": 9
        },
        {
          "output_type": "display_data",
          "data": {
            "image/png": "[encoded data removed]",
            "text/plain": [
              "<Figure size 432x288 with 2 Axes>"
            ]
          },
          "metadata": {
            "tags": [],
            "needs_background": "light"
          }
        }
      ]
    },
    {
      "cell_type": "code",
      "metadata": {
        "id": "Sbuhe4r5uba9"
      },
      "source": [
        "chicago_crime.dropna(inplace=True)"
      ],
      "execution_count": 10,
      "outputs": []
    },
    {
      "cell_type": "code",
      "metadata": {
        "colab": {
          "base_uri": "https://localhost:8080/",
          "height": 307
        },
        "id": "iLmPU6-8W5Pz",
        "outputId": "02fac6d2-da67-42ec-8d5d-3dc5b5249268"
      },
      "source": [
        "sns.countplot(x='Domestic', data=chicago_crime)"
      ],
      "execution_count": 11,
      "outputs": [
        {
          "output_type": "execute_result",
          "data": {
            "text/plain": [
              "<matplotlib.axes._subplots.AxesSubplot at 0x7f3afba10da0>"
            ]
          },
          "metadata": {
            "tags": []
          },
          "execution_count": 11
        },
        {
          "output_type": "display_data",
          "data": {
            "image/png": "[encoded data removed]",
            "text/plain": [
              "<Figure size 432x288 with 1 Axes>"
            ]
          },
          "metadata": {
            "tags": [],
            "needs_background": "light"
          }
        }
      ]
    },
    {
      "cell_type": "code",
      "metadata": {
        "colab": {
          "base_uri": "https://localhost:8080/",
          "height": 307
        },
        "id": "dAQklEUtW5P0",
        "outputId": "c2545723-5949-4b50-9131-481744b46cfa"
      },
      "source": [
        "sns.countplot(x='Arrest', data=chicago_crime)"
      ],
      "execution_count": 12,
      "outputs": [
        {
          "output_type": "execute_result",
          "data": {
            "text/plain": [
              "<matplotlib.axes._subplots.AxesSubplot at 0x7f3afba33860>"
            ]
          },
          "metadata": {
            "tags": []
          },
          "execution_count": 12
        },
        {
          "output_type": "display_data",
          "data": {
            "image/png": "[encoded data removed]",
            "text/plain": [
              "<Figure size 432x288 with 1 Axes>"
            ]
          },
          "metadata": {
            "tags": [],
            "needs_background": "light"
          }
        }
      ]
    },
    {
      "cell_type": "code",
      "metadata": {
        "id": "kGIJGBNoW5P0",
        "colab": {
          "base_uri": "https://localhost:8080/"
        },
        "outputId": "3c2d2c56-f5a3-44ee-e6db-57af63089448"
      },
      "source": [
        "chicago_crime['Location Description'].nunique(dropna=True)"
      ],
      "execution_count": 13,
      "outputs": [
        {
          "output_type": "execute_result",
          "data": {
            "text/plain": [
              "140"
            ]
          },
          "metadata": {
            "tags": []
          },
          "execution_count": 13
        }
      ]
    },
    {
      "cell_type": "code",
      "metadata": {
        "id": "6W9V05VPW5P1"
      },
      "source": [
        "df=chicago_crime.drop(['Unnamed: 0','ID','FBI Code','IUCR','X Coordinate','Y Coordinate','Updated On','Case Number','District','Latitude','Longitude','Beat',\n",
        "                      'Community Area','Ward','Year','Location'],axis=1)"
      ],
      "execution_count": 14,
      "outputs": []
    },
    {
      "cell_type": "code",
      "metadata": {
        "id": "wlgSqOS-W5P1",
        "colab": {
          "base_uri": "https://localhost:8080/",
          "height": 719
        },
        "outputId": "50e44600-1a42-43a0-c7c9-f53e430ed6c2"
      },
      "source": [
        "df.tail(10)"
      ],
      "execution_count": 15,
      "outputs": [
        {
          "output_type": "execute_result",
          "data": {
            "text/html": [
              "<div>\n",
              "<style scoped>\n",
              "    .dataframe tbody tr th:only-of-type {\n",
              "        vertical-align: middle;\n",
              "    }\n",
              "\n",
              "    .dataframe tbody tr th {\n",
              "        vertical-align: top;\n",
              "    }\n",
              "\n",
              "    .dataframe thead th {\n",
              "        text-align: right;\n",
              "    }\n",
              "</style>\n",
              "<table border=\"1\" class=\"dataframe\">\n",
              "  <thead>\n",
              "    <tr style=\"text-align: right;\">\n",
              "      <th></th>\n",
              "      <th>Date</th>\n",
              "      <th>Block</th>\n",
              "      <th>Primary Type</th>\n",
              "      <th>Description</th>\n",
              "      <th>Location Description</th>\n",
              "      <th>Arrest</th>\n",
              "      <th>Domestic</th>\n",
              "    </tr>\n",
              "  </thead>\n",
              "  <tbody>\n",
              "    <tr>\n",
              "      <th>1456704</th>\n",
              "      <td>05/03/2016 11:30:00 PM</td>\n",
              "      <td>053XX S PULASKI RD</td>\n",
              "      <td>ROBBERY</td>\n",
              "      <td>STRONGARM - NO WEAPON</td>\n",
              "      <td>SIDEWALK</td>\n",
              "      <td>False</td>\n",
              "      <td>False</td>\n",
              "    </tr>\n",
              "    <tr>\n",
              "      <th>1456705</th>\n",
              "      <td>05/03/2016 11:50:00 PM</td>\n",
              "      <td>036XX E 106TH ST</td>\n",
              "      <td>OTHER OFFENSE</td>\n",
              "      <td>FALSE/STOLEN/ALTERED TRP</td>\n",
              "      <td>ALLEY</td>\n",
              "      <td>True</td>\n",
              "      <td>False</td>\n",
              "    </tr>\n",
              "    <tr>\n",
              "      <th>1456706</th>\n",
              "      <td>05/03/2016 10:25:00 PM</td>\n",
              "      <td>071XX S MOZART ST</td>\n",
              "      <td>BATTERY</td>\n",
              "      <td>SIMPLE</td>\n",
              "      <td>SIDEWALK</td>\n",
              "      <td>True</td>\n",
              "      <td>False</td>\n",
              "    </tr>\n",
              "    <tr>\n",
              "      <th>1456707</th>\n",
              "      <td>05/03/2016 11:00:00 PM</td>\n",
              "      <td>085XX S MAY ST</td>\n",
              "      <td>ROBBERY</td>\n",
              "      <td>STRONGARM - NO WEAPON</td>\n",
              "      <td>SIDEWALK</td>\n",
              "      <td>False</td>\n",
              "      <td>False</td>\n",
              "    </tr>\n",
              "    <tr>\n",
              "      <th>1456708</th>\n",
              "      <td>05/03/2016 11:28:00 PM</td>\n",
              "      <td>088XX S LAFLIN ST</td>\n",
              "      <td>BATTERY</td>\n",
              "      <td>AGGRAVATED: HANDGUN</td>\n",
              "      <td>STREET</td>\n",
              "      <td>False</td>\n",
              "      <td>False</td>\n",
              "    </tr>\n",
              "    <tr>\n",
              "      <th>1456709</th>\n",
              "      <td>05/03/2016 11:33:00 PM</td>\n",
              "      <td>026XX W 23RD PL</td>\n",
              "      <td>BATTERY</td>\n",
              "      <td>DOMESTIC BATTERY SIMPLE</td>\n",
              "      <td>APARTMENT</td>\n",
              "      <td>True</td>\n",
              "      <td>True</td>\n",
              "    </tr>\n",
              "    <tr>\n",
              "      <th>1456710</th>\n",
              "      <td>05/03/2016 11:30:00 PM</td>\n",
              "      <td>073XX S HARVARD AVE</td>\n",
              "      <td>CRIMINAL DAMAGE</td>\n",
              "      <td>TO PROPERTY</td>\n",
              "      <td>APARTMENT</td>\n",
              "      <td>True</td>\n",
              "      <td>True</td>\n",
              "    </tr>\n",
              "    <tr>\n",
              "      <th>1456711</th>\n",
              "      <td>05/03/2016 12:15:00 AM</td>\n",
              "      <td>024XX W 63RD ST</td>\n",
              "      <td>BATTERY</td>\n",
              "      <td>AGGRAVATED: HANDGUN</td>\n",
              "      <td>SIDEWALK</td>\n",
              "      <td>False</td>\n",
              "      <td>False</td>\n",
              "    </tr>\n",
              "    <tr>\n",
              "      <th>1456712</th>\n",
              "      <td>05/03/2016 09:07:00 PM</td>\n",
              "      <td>082XX S EXCHANGE AVE</td>\n",
              "      <td>BATTERY</td>\n",
              "      <td>DOMESTIC BATTERY SIMPLE</td>\n",
              "      <td>SIDEWALK</td>\n",
              "      <td>False</td>\n",
              "      <td>True</td>\n",
              "    </tr>\n",
              "    <tr>\n",
              "      <th>1456713</th>\n",
              "      <td>05/03/2016 11:38:00 PM</td>\n",
              "      <td>001XX E 75TH ST</td>\n",
              "      <td>OTHER OFFENSE</td>\n",
              "      <td>OTHER WEAPONS VIOLATION</td>\n",
              "      <td>PARKING LOT/GARAGE(NON.RESID.)</td>\n",
              "      <td>True</td>\n",
              "      <td>False</td>\n",
              "    </tr>\n",
              "  </tbody>\n",
              "</table>\n",
              "</div>"
            ],
            "text/plain": [
              "                           Date                 Block  ... Arrest Domestic\n",
              "1456704  05/03/2016 11:30:00 PM    053XX S PULASKI RD  ...  False    False\n",
              "1456705  05/03/2016 11:50:00 PM      036XX E 106TH ST  ...   True    False\n",
              "1456706  05/03/2016 10:25:00 PM     071XX S MOZART ST  ...   True    False\n",
              "1456707  05/03/2016 11:00:00 PM        085XX S MAY ST  ...  False    False\n",
              "1456708  05/03/2016 11:28:00 PM     088XX S LAFLIN ST  ...  False    False\n",
              "1456709  05/03/2016 11:33:00 PM       026XX W 23RD PL  ...   True     True\n",
              "1456710  05/03/2016 11:30:00 PM   073XX S HARVARD AVE  ...   True     True\n",
              "1456711  05/03/2016 12:15:00 AM       024XX W 63RD ST  ...  False    False\n",
              "1456712  05/03/2016 09:07:00 PM  082XX S EXCHANGE AVE  ...  False     True\n",
              "1456713  05/03/2016 11:38:00 PM       001XX E 75TH ST  ...   True    False\n",
              "\n",
              "[10 rows x 7 columns]"
            ]
          },
          "metadata": {
            "tags": []
          },
          "execution_count": 15
        }
      ]
    },
    {
      "cell_type": "markdown",
      "metadata": {
        "id": "8tNOJnfSW5P1"
      },
      "source": [
        "## conversion of the date into a datetime format"
      ]
    },
    {
      "cell_type": "code",
      "metadata": {
        "id": "ND2_irFKW5P1"
      },
      "source": [
        "df.Date =pd.to_datetime(df.Date, format ='%m/%d/%Y %I:%M:%S %p')"
      ],
      "execution_count": 16,
      "outputs": []
    },
    {
      "cell_type": "code",
      "metadata": {
        "id": "li4N1kz6W5P1"
      },
      "source": [
        "df.index =pd.DatetimeIndex(df.Date)"
      ],
      "execution_count": 17,
      "outputs": []
    },
    {
      "cell_type": "code",
      "metadata": {
        "id": "IYPgQUFyW5P1",
        "colab": {
          "base_uri": "https://localhost:8080/"
        },
        "outputId": "1948102f-0e0a-43c3-99f5-6baa3b3bc2e0"
      },
      "source": [
        "df['Date'].unique()"
      ],
      "execution_count": 18,
      "outputs": [
        {
          "output_type": "execute_result",
          "data": {
            "text/plain": [
              "array(['2016-05-03T23:40:00.000000000', '2016-05-03T21:40:00.000000000',\n",
              "       '2016-05-03T23:31:00.000000000', ...,\n",
              "       '2016-05-03T23:28:00.000000000', '2016-05-03T23:33:00.000000000',\n",
              "       '2016-05-03T21:07:00.000000000'], dtype='datetime64[ns]')"
            ]
          },
          "metadata": {
            "tags": []
          },
          "execution_count": 18
        }
      ]
    },
    {
      "cell_type": "code",
      "metadata": {
        "id": "mwM_S0HVW5P1",
        "colab": {
          "base_uri": "https://localhost:8080/",
          "height": 337
        },
        "outputId": "881e65b9-0b4f-4d19-a54b-e164dda5a412"
      },
      "source": [
        "df.head()"
      ],
      "execution_count": 19,
      "outputs": [
        {
          "output_type": "execute_result",
          "data": {
            "text/html": [
              "<div>\n",
              "<style scoped>\n",
              "    .dataframe tbody tr th:only-of-type {\n",
              "        vertical-align: middle;\n",
              "    }\n",
              "\n",
              "    .dataframe tbody tr th {\n",
              "        vertical-align: top;\n",
              "    }\n",
              "\n",
              "    .dataframe thead th {\n",
              "        text-align: right;\n",
              "    }\n",
              "</style>\n",
              "<table border=\"1\" class=\"dataframe\">\n",
              "  <thead>\n",
              "    <tr style=\"text-align: right;\">\n",
              "      <th></th>\n",
              "      <th>Date</th>\n",
              "      <th>Block</th>\n",
              "      <th>Primary Type</th>\n",
              "      <th>Description</th>\n",
              "      <th>Location Description</th>\n",
              "      <th>Arrest</th>\n",
              "      <th>Domestic</th>\n",
              "    </tr>\n",
              "    <tr>\n",
              "      <th>Date</th>\n",
              "      <th></th>\n",
              "      <th></th>\n",
              "      <th></th>\n",
              "      <th></th>\n",
              "      <th></th>\n",
              "      <th></th>\n",
              "      <th></th>\n",
              "    </tr>\n",
              "  </thead>\n",
              "  <tbody>\n",
              "    <tr>\n",
              "      <th>2016-05-03 23:40:00</th>\n",
              "      <td>2016-05-03 23:40:00</td>\n",
              "      <td>013XX S SAWYER AVE</td>\n",
              "      <td>BATTERY</td>\n",
              "      <td>DOMESTIC BATTERY SIMPLE</td>\n",
              "      <td>APARTMENT</td>\n",
              "      <td>True</td>\n",
              "      <td>True</td>\n",
              "    </tr>\n",
              "    <tr>\n",
              "      <th>2016-05-03 21:40:00</th>\n",
              "      <td>2016-05-03 21:40:00</td>\n",
              "      <td>061XX S DREXEL AVE</td>\n",
              "      <td>BATTERY</td>\n",
              "      <td>DOMESTIC BATTERY SIMPLE</td>\n",
              "      <td>RESIDENCE</td>\n",
              "      <td>False</td>\n",
              "      <td>True</td>\n",
              "    </tr>\n",
              "    <tr>\n",
              "      <th>2016-05-03 23:31:00</th>\n",
              "      <td>2016-05-03 23:31:00</td>\n",
              "      <td>053XX W CHICAGO AVE</td>\n",
              "      <td>PUBLIC PEACE VIOLATION</td>\n",
              "      <td>RECKLESS CONDUCT</td>\n",
              "      <td>STREET</td>\n",
              "      <td>False</td>\n",
              "      <td>False</td>\n",
              "    </tr>\n",
              "    <tr>\n",
              "      <th>2016-05-03 22:10:00</th>\n",
              "      <td>2016-05-03 22:10:00</td>\n",
              "      <td>049XX W FULTON ST</td>\n",
              "      <td>BATTERY</td>\n",
              "      <td>SIMPLE</td>\n",
              "      <td>SIDEWALK</td>\n",
              "      <td>False</td>\n",
              "      <td>False</td>\n",
              "    </tr>\n",
              "    <tr>\n",
              "      <th>2016-05-03 22:00:00</th>\n",
              "      <td>2016-05-03 22:00:00</td>\n",
              "      <td>003XX N LOTUS AVE</td>\n",
              "      <td>THEFT</td>\n",
              "      <td>$500 AND UNDER</td>\n",
              "      <td>RESIDENCE</td>\n",
              "      <td>False</td>\n",
              "      <td>True</td>\n",
              "    </tr>\n",
              "  </tbody>\n",
              "</table>\n",
              "</div>"
            ],
            "text/plain": [
              "                                   Date                Block  ... Arrest Domestic\n",
              "Date                                                          ...                \n",
              "2016-05-03 23:40:00 2016-05-03 23:40:00   013XX S SAWYER AVE  ...   True     True\n",
              "2016-05-03 21:40:00 2016-05-03 21:40:00   061XX S DREXEL AVE  ...  False     True\n",
              "2016-05-03 23:31:00 2016-05-03 23:31:00  053XX W CHICAGO AVE  ...  False    False\n",
              "2016-05-03 22:10:00 2016-05-03 22:10:00    049XX W FULTON ST  ...  False    False\n",
              "2016-05-03 22:00:00 2016-05-03 22:00:00    003XX N LOTUS AVE  ...  False     True\n",
              "\n",
              "[5 rows x 7 columns]"
            ]
          },
          "metadata": {
            "tags": []
          },
          "execution_count": 19
        }
      ]
    },
    {
      "cell_type": "code",
      "metadata": {
        "id": "usltARPBW5P2",
        "colab": {
          "base_uri": "https://localhost:8080/"
        },
        "outputId": "fac69da1-40a8-45b6-9496-b955a38b4bc0"
      },
      "source": [
        "df['Primary Type'].value_counts()"
      ],
      "execution_count": 20,
      "outputs": [
        {
          "output_type": "execute_result",
          "data": {
            "text/plain": [
              "THEFT                                321950\n",
              "BATTERY                              258941\n",
              "CRIMINAL DAMAGE                      152812\n",
              "NARCOTICS                            131177\n",
              "ASSAULT                               89508\n",
              "OTHER OFFENSE                         85361\n",
              "BURGLARY                              81668\n",
              "DECEPTIVE PRACTICE                    67609\n",
              "MOTOR VEHICLE THEFT                   59856\n",
              "ROBBERY                               56092\n",
              "CRIMINAL TRESPASS                     36429\n",
              "WEAPONS VIOLATION                     16983\n",
              "PUBLIC PEACE VIOLATION                13015\n",
              "OFFENSE INVOLVING CHILDREN            10590\n",
              "PROSTITUTION                           7567\n",
              "CRIM SEXUAL ASSAULT                    6298\n",
              "INTERFERENCE WITH PUBLIC OFFICER       6136\n",
              "SEX OFFENSE                            4491\n",
              "HOMICIDE                               2590\n",
              "GAMBLING                               2211\n",
              "ARSON                                  2175\n",
              "LIQUOR LAW VIOLATION                   1928\n",
              "KIDNAPPING                             1075\n",
              "STALKING                                774\n",
              "INTIMIDATION                            643\n",
              "OBSCENITY                               169\n",
              "CONCEALED CARRY LICENSE VIOLATION        84\n",
              "NON-CRIMINAL                             80\n",
              "PUBLIC INDECENCY                         61\n",
              "NON - CRIMINAL                           38\n",
              "OTHER NARCOTIC VIOLATION                 30\n",
              "HUMAN TRAFFICKING                        20\n",
              "NON-CRIMINAL (SUBJECT SPECIFIED)          4\n",
              "Name: Primary Type, dtype: int64"
            ]
          },
          "metadata": {
            "tags": []
          },
          "execution_count": 20
        }
      ]
    },
    {
      "cell_type": "code",
      "metadata": {
        "id": "ZOdpjj9GW5P2",
        "colab": {
          "base_uri": "https://localhost:8080/"
        },
        "outputId": "7dbf0d7e-1254-4e52-a3da-061e72de6c49"
      },
      "source": [
        "df['Description'].value_counts()"
      ],
      "execution_count": 21,
      "outputs": [
        {
          "output_type": "execute_result",
          "data": {
            "text/plain": [
              "SIMPLE                            147845\n",
              "$500 AND UNDER                    132848\n",
              "DOMESTIC BATTERY SIMPLE           128283\n",
              "TO VEHICLE                         74572\n",
              "OVER $500                          72957\n",
              "                                   ...  \n",
              "EMPLOY MINOR                           1\n",
              "JUVENILE PIMPING                       1\n",
              "POSS. KEYS OR DEV.TO COIN MACH         1\n",
              "ALTER COINS                            1\n",
              "REFUSING TO AID AN OFFICER             1\n",
              "Name: Description, Length: 340, dtype: int64"
            ]
          },
          "metadata": {
            "tags": []
          },
          "execution_count": 21
        }
      ]
    },
    {
      "cell_type": "markdown",
      "metadata": {
        "id": "YGUIK7RLW5P3"
      },
      "source": [
        "## finding the top 10 crimes that was comitted"
      ]
    },
    {
      "cell_type": "code",
      "metadata": {
        "id": "ai2ky6SzW5P3",
        "colab": {
          "base_uri": "https://localhost:8080/"
        },
        "outputId": "9583de69-7b49-42d1-f7ea-3f963bacfde0"
      },
      "source": [
        "df['Primary Type'].value_counts().iloc[:10]"
      ],
      "execution_count": 22,
      "outputs": [
        {
          "output_type": "execute_result",
          "data": {
            "text/plain": [
              "THEFT                  321950\n",
              "BATTERY                258941\n",
              "CRIMINAL DAMAGE        152812\n",
              "NARCOTICS              131177\n",
              "ASSAULT                 89508\n",
              "OTHER OFFENSE           85361\n",
              "BURGLARY                81668\n",
              "DECEPTIVE PRACTICE      67609\n",
              "MOTOR VEHICLE THEFT     59856\n",
              "ROBBERY                 56092\n",
              "Name: Primary Type, dtype: int64"
            ]
          },
          "metadata": {
            "tags": []
          },
          "execution_count": 22
        }
      ]
    },
    {
      "cell_type": "code",
      "metadata": {
        "id": "MuT_7YlLW5P3"
      },
      "source": [
        "order_num =df['Primary Type'].value_counts().iloc[:10].index"
      ],
      "execution_count": 23,
      "outputs": []
    },
    {
      "cell_type": "code",
      "metadata": {
        "id": "u85fD81LW5P3",
        "colab": {
          "base_uri": "https://localhost:8080/",
          "height": 297
        },
        "outputId": "20711403-b3a8-49cc-f452-52d1aa7bc797"
      },
      "source": [
        "sns.countplot(y='Primary Type', data=df, order=order_num)"
      ],
      "execution_count": 24,
      "outputs": [
        {
          "output_type": "execute_result",
          "data": {
            "text/plain": [
              "<matplotlib.axes._subplots.AxesSubplot at 0x7f3afa6c1e48>"
            ]
          },
          "metadata": {
            "tags": []
          },
          "execution_count": 24
        },
        {
          "output_type": "display_data",
          "data": {
            "image/png": "[encoded data removed]",
            "text/plain": [
              "<Figure size 432x288 with 1 Axes>"
            ]
          },
          "metadata": {
            "tags": [],
            "needs_background": "light"
          }
        }
      ]
    },
    {
      "cell_type": "markdown",
      "metadata": {
        "id": "jDxzjHPfW5P3"
      },
      "source": [
        "## finding how many of the crimes are street base,(location)"
      ]
    },
    {
      "cell_type": "code",
      "metadata": {
        "id": "wJ4G4PI4W5P3",
        "colab": {
          "base_uri": "https://localhost:8080/",
          "height": 405
        },
        "outputId": "309519de-7e99-4ac7-ca41-003ff5b108d0"
      },
      "source": [
        "order_num2 =df['Location Description'].value_counts().iloc[:10].index\n",
        "plt.figure(figsize=(10,6))\n",
        "sns.countplot(y='Location Description', data=df, order =order_num2)"
      ],
      "execution_count": 25,
      "outputs": [
        {
          "output_type": "execute_result",
          "data": {
            "text/plain": [
              "<matplotlib.axes._subplots.AxesSubplot at 0x7f3afa64b828>"
            ]
          },
          "metadata": {
            "tags": []
          },
          "execution_count": 25
        },
        {
          "output_type": "display_data",
          "data": {
            "image/png": "[encoded data removed]",
            "text/plain": [
              "<Figure size 720x432 with 1 Axes>"
            ]
          },
          "metadata": {
            "tags": [],
            "needs_background": "light"
          }
        }
      ]
    },
    {
      "cell_type": "markdown",
      "metadata": {
        "id": "3etZYd7VW5P3"
      },
      "source": [
        "## finding the number of specific crime that occured in a specific month"
      ]
    },
    {
      "cell_type": "code",
      "metadata": {
        "id": "OWv1HvNPW5P3",
        "colab": {
          "base_uri": "https://localhost:8080/"
        },
        "outputId": "7f94338a-cfe9-4a44-d31a-e61c69997cfb"
      },
      "source": [
        "df.resample('Y').size()"
      ],
      "execution_count": 26,
      "outputs": [
        {
          "output_type": "execute_result",
          "data": {
            "text/plain": [
              "Date\n",
              "2012-12-31    334397\n",
              "2013-12-31    304267\n",
              "2014-12-31    269329\n",
              "2015-12-31    259610\n",
              "2016-12-31    250732\n",
              "2017-12-31        30\n",
              "Freq: A-DEC, dtype: int64"
            ]
          },
          "metadata": {
            "tags": []
          },
          "execution_count": 26
        }
      ]
    },
    {
      "cell_type": "code",
      "metadata": {
        "id": "JgWRQwrwW5P3",
        "colab": {
          "base_uri": "https://localhost:8080/",
          "height": 313
        },
        "outputId": "2ee5ce28-4869-4bb3-94a2-a2440497d365"
      },
      "source": [
        "plt.plot(df.resample('Y').size())\n",
        "plt.title('Crimes per Year')\n",
        "plt.xlabel('Year')\n",
        "plt.ylabel('Number of Crimes in a year')"
      ],
      "execution_count": 27,
      "outputs": [
        {
          "output_type": "execute_result",
          "data": {
            "text/plain": [
              "Text(0, 0.5, 'Number of Crimes in a year')"
            ]
          },
          "metadata": {
            "tags": []
          },
          "execution_count": 27
        },
        {
          "output_type": "display_data",
          "data": {
            "image/png": "[encoded data removed]",
            "text/plain": [
              "<Figure size 432x288 with 1 Axes>"
            ]
          },
          "metadata": {
            "tags": [],
            "needs_background": "light"
          }
        }
      ]
    },
    {
      "cell_type": "code",
      "metadata": {
        "id": "-EVAtxCXW5P3",
        "colab": {
          "base_uri": "https://localhost:8080/"
        },
        "outputId": "86912540-3b86-48c3-faaa-dda3af0e5537"
      },
      "source": [
        "df.resample('M').size()"
      ],
      "execution_count": 28,
      "outputs": [
        {
          "output_type": "execute_result",
          "data": {
            "text/plain": [
              "Date\n",
              "2012-01-31    26006\n",
              "2012-02-29    23762\n",
              "2012-03-31    28461\n",
              "2012-04-30    27085\n",
              "2012-05-31    29986\n",
              "              ...  \n",
              "2016-09-30    22402\n",
              "2016-10-31    22530\n",
              "2016-11-30    20428\n",
              "2016-12-31    19070\n",
              "2017-01-31       30\n",
              "Freq: M, Length: 61, dtype: int64"
            ]
          },
          "metadata": {
            "tags": []
          },
          "execution_count": 28
        }
      ]
    },
    {
      "cell_type": "code",
      "metadata": {
        "id": "HVwvhsBUW5P3",
        "colab": {
          "base_uri": "https://localhost:8080/",
          "height": 313
        },
        "outputId": "8128cabd-a53d-4d4a-9f20-d9525be66a10"
      },
      "source": [
        "plt.plot(df.resample('M').size())\n",
        "plt.title('Crimes per Month')\n",
        "plt.xlabel('months')\n",
        "plt.ylabel('Number of Crimes in a month')"
      ],
      "execution_count": 29,
      "outputs": [
        {
          "output_type": "execute_result",
          "data": {
            "text/plain": [
              "Text(0, 0.5, 'Number of Crimes in a month')"
            ]
          },
          "metadata": {
            "tags": []
          },
          "execution_count": 29
        },
        {
          "output_type": "display_data",
          "data": {
            "image/png": "[encoded data removed]",
            "text/plain": [
              "<Figure size 432x288 with 1 Axes>"
            ]
          },
          "metadata": {
            "tags": [],
            "needs_background": "light"
          }
        }
      ]
    },
    {
      "cell_type": "code",
      "metadata": {
        "id": "-jov1EpXW5P3",
        "colab": {
          "base_uri": "https://localhost:8080/",
          "height": 313
        },
        "outputId": "3524d00c-08ff-4316-8a72-7cbefb2ccaf5"
      },
      "source": [
        "plt.plot(df.resample('d').size())\n",
        "plt.title('Crimes per Day')\n",
        "plt.xlabel('day')\n",
        "plt.ylabel('Number of Crimes in a day')"
      ],
      "execution_count": 30,
      "outputs": [
        {
          "output_type": "execute_result",
          "data": {
            "text/plain": [
              "Text(0, 0.5, 'Number of Crimes in a day')"
            ]
          },
          "metadata": {
            "tags": []
          },
          "execution_count": 30
        },
        {
          "output_type": "display_data",
          "data": {
            "image/png": "[encoded data removed]",
            "text/plain": [
              "<Figure size 432x288 with 1 Axes>"
            ]
          },
          "metadata": {
            "tags": [],
            "needs_background": "light"
          }
        }
      ]
    },
    {
      "cell_type": "code",
      "metadata": {
        "id": "FrZAnjIgW5P3",
        "colab": {
          "base_uri": "https://localhost:8080/",
          "height": 313
        },
        "outputId": "937938d3-b42f-40c9-f407-3aebb184953d"
      },
      "source": [
        "plt.plot(df.resample('Q').size())\n",
        "plt.title('Crimes per Quaterly')\n",
        "plt.xlabel('Quater')\n",
        "plt.ylabel('Number of Crimes in a Quater')"
      ],
      "execution_count": 31,
      "outputs": [
        {
          "output_type": "execute_result",
          "data": {
            "text/plain": [
              "Text(0, 0.5, 'Number of Crimes in a Quater')"
            ]
          },
          "metadata": {
            "tags": []
          },
          "execution_count": 31
        },
        {
          "output_type": "display_data",
          "data": {
            "image/png": "[encoded data removed]",
            "text/plain": [
              "<Figure size 432x288 with 1 Axes>"
            ]
          },
          "metadata": {
            "tags": [],
            "needs_background": "light"
          }
        }
      ]
    },
    {
      "cell_type": "code",
      "metadata": {
        "id": "lLfOfIwjW5P3"
      },
      "source": [
        "df_1 =df.resample('M').size().reset_index()"
      ],
      "execution_count": 32,
      "outputs": []
    },
    {
      "cell_type": "code",
      "metadata": {
        "id": "cxChpaa3W5P3",
        "colab": {
          "base_uri": "https://localhost:8080/",
          "height": 415
        },
        "outputId": "88bd427b-d243-4a4c-f174-4de29f103452"
      },
      "source": [
        "df_1"
      ],
      "execution_count": 33,
      "outputs": [
        {
          "output_type": "execute_result",
          "data": {
            "text/html": [
              "<div>\n",
              "<style scoped>\n",
              "    .dataframe tbody tr th:only-of-type {\n",
              "        vertical-align: middle;\n",
              "    }\n",
              "\n",
              "    .dataframe tbody tr th {\n",
              "        vertical-align: top;\n",
              "    }\n",
              "\n",
              "    .dataframe thead th {\n",
              "        text-align: right;\n",
              "    }\n",
              "</style>\n",
              "<table border=\"1\" class=\"dataframe\">\n",
              "  <thead>\n",
              "    <tr style=\"text-align: right;\">\n",
              "      <th></th>\n",
              "      <th>Date</th>\n",
              "      <th>0</th>\n",
              "    </tr>\n",
              "  </thead>\n",
              "  <tbody>\n",
              "    <tr>\n",
              "      <th>0</th>\n",
              "      <td>2012-01-31</td>\n",
              "      <td>26006</td>\n",
              "    </tr>\n",
              "    <tr>\n",
              "      <th>1</th>\n",
              "      <td>2012-02-29</td>\n",
              "      <td>23762</td>\n",
              "    </tr>\n",
              "    <tr>\n",
              "      <th>2</th>\n",
              "      <td>2012-03-31</td>\n",
              "      <td>28461</td>\n",
              "    </tr>\n",
              "    <tr>\n",
              "      <th>3</th>\n",
              "      <td>2012-04-30</td>\n",
              "      <td>27085</td>\n",
              "    </tr>\n",
              "    <tr>\n",
              "      <th>4</th>\n",
              "      <td>2012-05-31</td>\n",
              "      <td>29986</td>\n",
              "    </tr>\n",
              "    <tr>\n",
              "      <th>...</th>\n",
              "      <td>...</td>\n",
              "      <td>...</td>\n",
              "    </tr>\n",
              "    <tr>\n",
              "      <th>56</th>\n",
              "      <td>2016-09-30</td>\n",
              "      <td>22402</td>\n",
              "    </tr>\n",
              "    <tr>\n",
              "      <th>57</th>\n",
              "      <td>2016-10-31</td>\n",
              "      <td>22530</td>\n",
              "    </tr>\n",
              "    <tr>\n",
              "      <th>58</th>\n",
              "      <td>2016-11-30</td>\n",
              "      <td>20428</td>\n",
              "    </tr>\n",
              "    <tr>\n",
              "      <th>59</th>\n",
              "      <td>2016-12-31</td>\n",
              "      <td>19070</td>\n",
              "    </tr>\n",
              "    <tr>\n",
              "      <th>60</th>\n",
              "      <td>2017-01-31</td>\n",
              "      <td>30</td>\n",
              "    </tr>\n",
              "  </tbody>\n",
              "</table>\n",
              "<p>61 rows × 2 columns</p>\n",
              "</div>"
            ],
            "text/plain": [
              "         Date      0\n",
              "0  2012-01-31  26006\n",
              "1  2012-02-29  23762\n",
              "2  2012-03-31  28461\n",
              "3  2012-04-30  27085\n",
              "4  2012-05-31  29986\n",
              "..        ...    ...\n",
              "56 2016-09-30  22402\n",
              "57 2016-10-31  22530\n",
              "58 2016-11-30  20428\n",
              "59 2016-12-31  19070\n",
              "60 2017-01-31     30\n",
              "\n",
              "[61 rows x 2 columns]"
            ]
          },
          "metadata": {
            "tags": []
          },
          "execution_count": 33
        }
      ]
    },
    {
      "cell_type": "code",
      "metadata": {
        "id": "arqLkEiRW5P3"
      },
      "source": [
        "df_1.columns =['Date','Total Crimes']"
      ],
      "execution_count": 34,
      "outputs": []
    },
    {
      "cell_type": "code",
      "metadata": {
        "id": "lMFzF25tW5P3",
        "colab": {
          "base_uri": "https://localhost:8080/",
          "height": 415
        },
        "outputId": "6a6180c6-35e4-4e8b-865a-5c5bcc65d51b"
      },
      "source": [
        "df_1"
      ],
      "execution_count": 35,
      "outputs": [
        {
          "output_type": "execute_result",
          "data": {
            "text/html": [
              "<div>\n",
              "<style scoped>\n",
              "    .dataframe tbody tr th:only-of-type {\n",
              "        vertical-align: middle;\n",
              "    }\n",
              "\n",
              "    .dataframe tbody tr th {\n",
              "        vertical-align: top;\n",
              "    }\n",
              "\n",
              "    .dataframe thead th {\n",
              "        text-align: right;\n",
              "    }\n",
              "</style>\n",
              "<table border=\"1\" class=\"dataframe\">\n",
              "  <thead>\n",
              "    <tr style=\"text-align: right;\">\n",
              "      <th></th>\n",
              "      <th>Date</th>\n",
              "      <th>Total Crimes</th>\n",
              "    </tr>\n",
              "  </thead>\n",
              "  <tbody>\n",
              "    <tr>\n",
              "      <th>0</th>\n",
              "      <td>2012-01-31</td>\n",
              "      <td>26006</td>\n",
              "    </tr>\n",
              "    <tr>\n",
              "      <th>1</th>\n",
              "      <td>2012-02-29</td>\n",
              "      <td>23762</td>\n",
              "    </tr>\n",
              "    <tr>\n",
              "      <th>2</th>\n",
              "      <td>2012-03-31</td>\n",
              "      <td>28461</td>\n",
              "    </tr>\n",
              "    <tr>\n",
              "      <th>3</th>\n",
              "      <td>2012-04-30</td>\n",
              "      <td>27085</td>\n",
              "    </tr>\n",
              "    <tr>\n",
              "      <th>4</th>\n",
              "      <td>2012-05-31</td>\n",
              "      <td>29986</td>\n",
              "    </tr>\n",
              "    <tr>\n",
              "      <th>...</th>\n",
              "      <td>...</td>\n",
              "      <td>...</td>\n",
              "    </tr>\n",
              "    <tr>\n",
              "      <th>56</th>\n",
              "      <td>2016-09-30</td>\n",
              "      <td>22402</td>\n",
              "    </tr>\n",
              "    <tr>\n",
              "      <th>57</th>\n",
              "      <td>2016-10-31</td>\n",
              "      <td>22530</td>\n",
              "    </tr>\n",
              "    <tr>\n",
              "      <th>58</th>\n",
              "      <td>2016-11-30</td>\n",
              "      <td>20428</td>\n",
              "    </tr>\n",
              "    <tr>\n",
              "      <th>59</th>\n",
              "      <td>2016-12-31</td>\n",
              "      <td>19070</td>\n",
              "    </tr>\n",
              "    <tr>\n",
              "      <th>60</th>\n",
              "      <td>2017-01-31</td>\n",
              "      <td>30</td>\n",
              "    </tr>\n",
              "  </tbody>\n",
              "</table>\n",
              "<p>61 rows × 2 columns</p>\n",
              "</div>"
            ],
            "text/plain": [
              "         Date  Total Crimes\n",
              "0  2012-01-31         26006\n",
              "1  2012-02-29         23762\n",
              "2  2012-03-31         28461\n",
              "3  2012-04-30         27085\n",
              "4  2012-05-31         29986\n",
              "..        ...           ...\n",
              "56 2016-09-30         22402\n",
              "57 2016-10-31         22530\n",
              "58 2016-11-30         20428\n",
              "59 2016-12-31         19070\n",
              "60 2017-01-31            30\n",
              "\n",
              "[61 rows x 2 columns]"
            ]
          },
          "metadata": {
            "tags": []
          },
          "execution_count": 35
        }
      ]
    },
    {
      "cell_type": "code",
      "metadata": {
        "id": "OrcmmKuXW5P3"
      },
      "source": [
        "df_2 =df_1.rename(columns ={'Date':'ds','Total Crimes':'y' })"
      ],
      "execution_count": 36,
      "outputs": []
    },
    {
      "cell_type": "code",
      "metadata": {
        "id": "RMS0Jm52W5P4",
        "colab": {
          "base_uri": "https://localhost:8080/",
          "height": 415
        },
        "outputId": "f7980b59-2934-4926-ac1e-1200a6cad7d7"
      },
      "source": [
        "df_2[['ds','y']]"
      ],
      "execution_count": 37,
      "outputs": [
        {
          "output_type": "execute_result",
          "data": {
            "text/html": [
              "<div>\n",
              "<style scoped>\n",
              "    .dataframe tbody tr th:only-of-type {\n",
              "        vertical-align: middle;\n",
              "    }\n",
              "\n",
              "    .dataframe tbody tr th {\n",
              "        vertical-align: top;\n",
              "    }\n",
              "\n",
              "    .dataframe thead th {\n",
              "        text-align: right;\n",
              "    }\n",
              "</style>\n",
              "<table border=\"1\" class=\"dataframe\">\n",
              "  <thead>\n",
              "    <tr style=\"text-align: right;\">\n",
              "      <th></th>\n",
              "      <th>ds</th>\n",
              "      <th>y</th>\n",
              "    </tr>\n",
              "  </thead>\n",
              "  <tbody>\n",
              "    <tr>\n",
              "      <th>0</th>\n",
              "      <td>2012-01-31</td>\n",
              "      <td>26006</td>\n",
              "    </tr>\n",
              "    <tr>\n",
              "      <th>1</th>\n",
              "      <td>2012-02-29</td>\n",
              "      <td>23762</td>\n",
              "    </tr>\n",
              "    <tr>\n",
              "      <th>2</th>\n",
              "      <td>2012-03-31</td>\n",
              "      <td>28461</td>\n",
              "    </tr>\n",
              "    <tr>\n",
              "      <th>3</th>\n",
              "      <td>2012-04-30</td>\n",
              "      <td>27085</td>\n",
              "    </tr>\n",
              "    <tr>\n",
              "      <th>4</th>\n",
              "      <td>2012-05-31</td>\n",
              "      <td>29986</td>\n",
              "    </tr>\n",
              "    <tr>\n",
              "      <th>...</th>\n",
              "      <td>...</td>\n",
              "      <td>...</td>\n",
              "    </tr>\n",
              "    <tr>\n",
              "      <th>56</th>\n",
              "      <td>2016-09-30</td>\n",
              "      <td>22402</td>\n",
              "    </tr>\n",
              "    <tr>\n",
              "      <th>57</th>\n",
              "      <td>2016-10-31</td>\n",
              "      <td>22530</td>\n",
              "    </tr>\n",
              "    <tr>\n",
              "      <th>58</th>\n",
              "      <td>2016-11-30</td>\n",
              "      <td>20428</td>\n",
              "    </tr>\n",
              "    <tr>\n",
              "      <th>59</th>\n",
              "      <td>2016-12-31</td>\n",
              "      <td>19070</td>\n",
              "    </tr>\n",
              "    <tr>\n",
              "      <th>60</th>\n",
              "      <td>2017-01-31</td>\n",
              "      <td>30</td>\n",
              "    </tr>\n",
              "  </tbody>\n",
              "</table>\n",
              "<p>61 rows × 2 columns</p>\n",
              "</div>"
            ],
            "text/plain": [
              "           ds      y\n",
              "0  2012-01-31  26006\n",
              "1  2012-02-29  23762\n",
              "2  2012-03-31  28461\n",
              "3  2012-04-30  27085\n",
              "4  2012-05-31  29986\n",
              "..        ...    ...\n",
              "56 2016-09-30  22402\n",
              "57 2016-10-31  22530\n",
              "58 2016-11-30  20428\n",
              "59 2016-12-31  19070\n",
              "60 2017-01-31     30\n",
              "\n",
              "[61 rows x 2 columns]"
            ]
          },
          "metadata": {
            "tags": []
          },
          "execution_count": 37
        }
      ]
    },
    {
      "cell_type": "code",
      "metadata": {
        "id": "T4j-rJOMW5P4",
        "colab": {
          "base_uri": "https://localhost:8080/",
          "height": 202
        },
        "outputId": "c4b09369-e92e-4e27-958c-ece651e9ae85"
      },
      "source": [
        "df_2.head()"
      ],
      "execution_count": 38,
      "outputs": [
        {
          "output_type": "execute_result",
          "data": {
            "text/html": [
              "<div>\n",
              "<style scoped>\n",
              "    .dataframe tbody tr th:only-of-type {\n",
              "        vertical-align: middle;\n",
              "    }\n",
              "\n",
              "    .dataframe tbody tr th {\n",
              "        vertical-align: top;\n",
              "    }\n",
              "\n",
              "    .dataframe thead th {\n",
              "        text-align: right;\n",
              "    }\n",
              "</style>\n",
              "<table border=\"1\" class=\"dataframe\">\n",
              "  <thead>\n",
              "    <tr style=\"text-align: right;\">\n",
              "      <th></th>\n",
              "      <th>ds</th>\n",
              "      <th>y</th>\n",
              "    </tr>\n",
              "  </thead>\n",
              "  <tbody>\n",
              "    <tr>\n",
              "      <th>0</th>\n",
              "      <td>2012-01-31</td>\n",
              "      <td>26006</td>\n",
              "    </tr>\n",
              "    <tr>\n",
              "      <th>1</th>\n",
              "      <td>2012-02-29</td>\n",
              "      <td>23762</td>\n",
              "    </tr>\n",
              "    <tr>\n",
              "      <th>2</th>\n",
              "      <td>2012-03-31</td>\n",
              "      <td>28461</td>\n",
              "    </tr>\n",
              "    <tr>\n",
              "      <th>3</th>\n",
              "      <td>2012-04-30</td>\n",
              "      <td>27085</td>\n",
              "    </tr>\n",
              "    <tr>\n",
              "      <th>4</th>\n",
              "      <td>2012-05-31</td>\n",
              "      <td>29986</td>\n",
              "    </tr>\n",
              "  </tbody>\n",
              "</table>\n",
              "</div>"
            ],
            "text/plain": [
              "          ds      y\n",
              "0 2012-01-31  26006\n",
              "1 2012-02-29  23762\n",
              "2 2012-03-31  28461\n",
              "3 2012-04-30  27085\n",
              "4 2012-05-31  29986"
            ]
          },
          "metadata": {
            "tags": []
          },
          "execution_count": 38
        }
      ]
    },
    {
      "cell_type": "code",
      "metadata": {
        "id": "-1A3c0veW5P4"
      },
      "source": [
        " m = Prophet()"
      ],
      "execution_count": 39,
      "outputs": []
    },
    {
      "cell_type": "code",
      "metadata": {
        "id": "2-o8BBbtW5P4",
        "colab": {
          "base_uri": "https://localhost:8080/"
        },
        "outputId": "8599ec5b-6275-4935-a310-a346a4774eb4"
      },
      "source": [
        "m.fit(df_2)"
      ],
      "execution_count": 40,
      "outputs": [
        {
          "output_type": "stream",
          "text": [
            "INFO:fbprophet:Disabling weekly seasonality. Run prophet with weekly_seasonality=True to override this.\n",
            "INFO:fbprophet:Disabling daily seasonality. Run prophet with daily_seasonality=True to override this.\n"
          ],
          "name": "stderr"
        },
        {
          "output_type": "execute_result",
          "data": {
            "text/plain": [
              "<fbprophet.forecaster.Prophet at 0x7f3afa5eaeb8>"
            ]
          },
          "metadata": {
            "tags": []
          },
          "execution_count": 40
        }
      ]
    },
    {
      "cell_type": "code",
      "metadata": {
        "id": "Qp-o7IQNW5P4"
      },
      "source": [
        "future =m.make_future_dataframe(periods =1460)"
      ],
      "execution_count": 41,
      "outputs": []
    },
    {
      "cell_type": "code",
      "metadata": {
        "id": "eytBohWMW5P4"
      },
      "source": [
        "forcast =m.predict(future)"
      ],
      "execution_count": 42,
      "outputs": []
    },
    {
      "cell_type": "code",
      "metadata": {
        "id": "1gsiZsGoW5P4",
        "colab": {
          "base_uri": "https://localhost:8080/",
          "height": 609
        },
        "outputId": "364c2ca8-4083-417c-bdab-67f81908844e"
      },
      "source": [
        "forcast"
      ],
      "execution_count": 43,
      "outputs": [
        {
          "output_type": "execute_result",
          "data": {
            "text/html": [
              "<div>\n",
              "<style scoped>\n",
              "    .dataframe tbody tr th:only-of-type {\n",
              "        vertical-align: middle;\n",
              "    }\n",
              "\n",
              "    .dataframe tbody tr th {\n",
              "        vertical-align: top;\n",
              "    }\n",
              "\n",
              "    .dataframe thead th {\n",
              "        text-align: right;\n",
              "    }\n",
              "</style>\n",
              "<table border=\"1\" class=\"dataframe\">\n",
              "  <thead>\n",
              "    <tr style=\"text-align: right;\">\n",
              "      <th></th>\n",
              "      <th>ds</th>\n",
              "      <th>trend</th>\n",
              "      <th>yhat_lower</th>\n",
              "      <th>yhat_upper</th>\n",
              "      <th>trend_lower</th>\n",
              "      <th>trend_upper</th>\n",
              "      <th>additive_terms</th>\n",
              "      <th>additive_terms_lower</th>\n",
              "      <th>additive_terms_upper</th>\n",
              "      <th>yearly</th>\n",
              "      <th>yearly_lower</th>\n",
              "      <th>yearly_upper</th>\n",
              "      <th>multiplicative_terms</th>\n",
              "      <th>multiplicative_terms_lower</th>\n",
              "      <th>multiplicative_terms_upper</th>\n",
              "      <th>yhat</th>\n",
              "    </tr>\n",
              "  </thead>\n",
              "  <tbody>\n",
              "    <tr>\n",
              "      <th>0</th>\n",
              "      <td>2012-01-31</td>\n",
              "      <td>29541.744328</td>\n",
              "      <td>24545.546597</td>\n",
              "      <td>29188.653152</td>\n",
              "      <td>29541.744328</td>\n",
              "      <td>29541.744328</td>\n",
              "      <td>-2712.255011</td>\n",
              "      <td>-2712.255011</td>\n",
              "      <td>-2712.255011</td>\n",
              "      <td>-2712.255011</td>\n",
              "      <td>-2712.255011</td>\n",
              "      <td>-2712.255011</td>\n",
              "      <td>0.0</td>\n",
              "      <td>0.0</td>\n",
              "      <td>0.0</td>\n",
              "      <td>26829.489317</td>\n",
              "    </tr>\n",
              "    <tr>\n",
              "      <th>1</th>\n",
              "      <td>2012-02-29</td>\n",
              "      <td>29381.818426</td>\n",
              "      <td>22091.828319</td>\n",
              "      <td>27046.697641</td>\n",
              "      <td>29381.818426</td>\n",
              "      <td>29381.818426</td>\n",
              "      <td>-4615.270197</td>\n",
              "      <td>-4615.270197</td>\n",
              "      <td>-4615.270197</td>\n",
              "      <td>-4615.270197</td>\n",
              "      <td>-4615.270197</td>\n",
              "      <td>-4615.270197</td>\n",
              "      <td>0.0</td>\n",
              "      <td>0.0</td>\n",
              "      <td>0.0</td>\n",
              "      <td>24766.548229</td>\n",
              "    </tr>\n",
              "    <tr>\n",
              "      <th>2</th>\n",
              "      <td>2012-03-31</td>\n",
              "      <td>29210.863151</td>\n",
              "      <td>25470.443177</td>\n",
              "      <td>29872.000658</td>\n",
              "      <td>29210.863151</td>\n",
              "      <td>29210.863151</td>\n",
              "      <td>-1504.376430</td>\n",
              "      <td>-1504.376430</td>\n",
              "      <td>-1504.376430</td>\n",
              "      <td>-1504.376430</td>\n",
              "      <td>-1504.376430</td>\n",
              "      <td>-1504.376430</td>\n",
              "      <td>0.0</td>\n",
              "      <td>0.0</td>\n",
              "      <td>0.0</td>\n",
              "      <td>27706.486722</td>\n",
              "    </tr>\n",
              "    <tr>\n",
              "      <th>3</th>\n",
              "      <td>2012-04-30</td>\n",
              "      <td>29045.422563</td>\n",
              "      <td>24386.480895</td>\n",
              "      <td>29131.863565</td>\n",
              "      <td>29045.422563</td>\n",
              "      <td>29045.422563</td>\n",
              "      <td>-2216.438144</td>\n",
              "      <td>-2216.438144</td>\n",
              "      <td>-2216.438144</td>\n",
              "      <td>-2216.438144</td>\n",
              "      <td>-2216.438144</td>\n",
              "      <td>-2216.438144</td>\n",
              "      <td>0.0</td>\n",
              "      <td>0.0</td>\n",
              "      <td>0.0</td>\n",
              "      <td>26828.984419</td>\n",
              "    </tr>\n",
              "    <tr>\n",
              "      <th>4</th>\n",
              "      <td>2012-05-31</td>\n",
              "      <td>28874.467288</td>\n",
              "      <td>26984.412268</td>\n",
              "      <td>31956.321036</td>\n",
              "      <td>28874.467288</td>\n",
              "      <td>28874.467288</td>\n",
              "      <td>695.862086</td>\n",
              "      <td>695.862086</td>\n",
              "      <td>695.862086</td>\n",
              "      <td>695.862086</td>\n",
              "      <td>695.862086</td>\n",
              "      <td>695.862086</td>\n",
              "      <td>0.0</td>\n",
              "      <td>0.0</td>\n",
              "      <td>0.0</td>\n",
              "      <td>29570.329375</td>\n",
              "    </tr>\n",
              "    <tr>\n",
              "      <th>...</th>\n",
              "      <td>...</td>\n",
              "      <td>...</td>\n",
              "      <td>...</td>\n",
              "      <td>...</td>\n",
              "      <td>...</td>\n",
              "      <td>...</td>\n",
              "      <td>...</td>\n",
              "      <td>...</td>\n",
              "      <td>...</td>\n",
              "      <td>...</td>\n",
              "      <td>...</td>\n",
              "      <td>...</td>\n",
              "      <td>...</td>\n",
              "      <td>...</td>\n",
              "      <td>...</td>\n",
              "      <td>...</td>\n",
              "    </tr>\n",
              "    <tr>\n",
              "      <th>1516</th>\n",
              "      <td>2021-01-26</td>\n",
              "      <td>11440.455389</td>\n",
              "      <td>42366.934095</td>\n",
              "      <td>47101.626978</td>\n",
              "      <td>11440.113853</td>\n",
              "      <td>11440.785444</td>\n",
              "      <td>33268.620351</td>\n",
              "      <td>33268.620351</td>\n",
              "      <td>33268.620351</td>\n",
              "      <td>33268.620351</td>\n",
              "      <td>33268.620351</td>\n",
              "      <td>33268.620351</td>\n",
              "      <td>0.0</td>\n",
              "      <td>0.0</td>\n",
              "      <td>0.0</td>\n",
              "      <td>44709.075740</td>\n",
              "    </tr>\n",
              "    <tr>\n",
              "      <th>1517</th>\n",
              "      <td>2021-01-27</td>\n",
              "      <td>11434.942038</td>\n",
              "      <td>34588.088215</td>\n",
              "      <td>39321.989267</td>\n",
              "      <td>11434.600054</td>\n",
              "      <td>11435.272742</td>\n",
              "      <td>25532.745753</td>\n",
              "      <td>25532.745753</td>\n",
              "      <td>25532.745753</td>\n",
              "      <td>25532.745753</td>\n",
              "      <td>25532.745753</td>\n",
              "      <td>25532.745753</td>\n",
              "      <td>0.0</td>\n",
              "      <td>0.0</td>\n",
              "      <td>0.0</td>\n",
              "      <td>36967.687791</td>\n",
              "    </tr>\n",
              "    <tr>\n",
              "      <th>1518</th>\n",
              "      <td>2021-01-28</td>\n",
              "      <td>11429.428687</td>\n",
              "      <td>26199.780952</td>\n",
              "      <td>30884.699839</td>\n",
              "      <td>11429.086281</td>\n",
              "      <td>11429.760039</td>\n",
              "      <td>17247.029939</td>\n",
              "      <td>17247.029939</td>\n",
              "      <td>17247.029939</td>\n",
              "      <td>17247.029939</td>\n",
              "      <td>17247.029939</td>\n",
              "      <td>17247.029939</td>\n",
              "      <td>0.0</td>\n",
              "      <td>0.0</td>\n",
              "      <td>0.0</td>\n",
              "      <td>28676.458626</td>\n",
              "    </tr>\n",
              "    <tr>\n",
              "      <th>1519</th>\n",
              "      <td>2021-01-29</td>\n",
              "      <td>11423.915335</td>\n",
              "      <td>17632.318098</td>\n",
              "      <td>22338.428285</td>\n",
              "      <td>11423.572516</td>\n",
              "      <td>11424.247336</td>\n",
              "      <td>8542.563405</td>\n",
              "      <td>8542.563405</td>\n",
              "      <td>8542.563405</td>\n",
              "      <td>8542.563405</td>\n",
              "      <td>8542.563405</td>\n",
              "      <td>8542.563405</td>\n",
              "      <td>0.0</td>\n",
              "      <td>0.0</td>\n",
              "      <td>0.0</td>\n",
              "      <td>19966.478740</td>\n",
              "    </tr>\n",
              "    <tr>\n",
              "      <th>1520</th>\n",
              "      <td>2021-01-30</td>\n",
              "      <td>11418.401984</td>\n",
              "      <td>8581.397037</td>\n",
              "      <td>13193.041071</td>\n",
              "      <td>11418.058751</td>\n",
              "      <td>11418.734633</td>\n",
              "      <td>-440.196288</td>\n",
              "      <td>-440.196288</td>\n",
              "      <td>-440.196288</td>\n",
              "      <td>-440.196288</td>\n",
              "      <td>-440.196288</td>\n",
              "      <td>-440.196288</td>\n",
              "      <td>0.0</td>\n",
              "      <td>0.0</td>\n",
              "      <td>0.0</td>\n",
              "      <td>10978.205696</td>\n",
              "    </tr>\n",
              "  </tbody>\n",
              "</table>\n",
              "<p>1521 rows × 16 columns</p>\n",
              "</div>"
            ],
            "text/plain": [
              "             ds         trend  ...  multiplicative_terms_upper          yhat\n",
              "0    2012-01-31  29541.744328  ...                         0.0  26829.489317\n",
              "1    2012-02-29  29381.818426  ...                         0.0  24766.548229\n",
              "2    2012-03-31  29210.863151  ...                         0.0  27706.486722\n",
              "3    2012-04-30  29045.422563  ...                         0.0  26828.984419\n",
              "4    2012-05-31  28874.467288  ...                         0.0  29570.329375\n",
              "...         ...           ...  ...                         ...           ...\n",
              "1516 2021-01-26  11440.455389  ...                         0.0  44709.075740\n",
              "1517 2021-01-27  11434.942038  ...                         0.0  36967.687791\n",
              "1518 2021-01-28  11429.428687  ...                         0.0  28676.458626\n",
              "1519 2021-01-29  11423.915335  ...                         0.0  19966.478740\n",
              "1520 2021-01-30  11418.401984  ...                         0.0  10978.205696\n",
              "\n",
              "[1521 rows x 16 columns]"
            ]
          },
          "metadata": {
            "tags": []
          },
          "execution_count": 43
        }
      ]
    },
    {
      "cell_type": "code",
      "metadata": {
        "id": "T6wtXH85W5P5",
        "colab": {
          "base_uri": "https://localhost:8080/",
          "height": 441
        },
        "outputId": "4cb5e1b6-9af7-4323-baa9-93048995a1fe"
      },
      "source": [
        "figure=m.plot(forcast, xlabel='Date', ylabel='Crime Rate')"
      ],
      "execution_count": 44,
      "outputs": [
        {
          "output_type": "display_data",
          "data": {
            "image/png": "[encoded data removed]",
            "text/plain": [
              "<Figure size 720x432 with 1 Axes>"
            ]
          },
          "metadata": {
            "tags": []
          }
        }
      ]
    },
    {
      "cell_type": "markdown",
      "metadata": {
        "id": "qf77vSvRW5P5"
      },
      "source": [
        "## Performing the cross validation on the model"
      ]
    },
    {
      "cell_type": "code",
      "metadata": {
        "id": "1VgeON1eW5P5"
      },
      "source": [
        "from fbprophet.diagnostics import cross_validation"
      ],
      "execution_count": 45,
      "outputs": []
    },
    {
      "cell_type": "code",
      "metadata": {
        "colab": {
          "base_uri": "https://localhost:8080/",
          "height": 156,
          "referenced_widgets": [
            "412948e5942049f4a609cc880a7bd040",
            "6938a1f8be4f4bcfb2b7346f5fffee65",
            "cd5454a453d74c8ab2a4fee51fb6afd8",
            "a8d02f61afb44950851a50a5f9c9a7a7",
            "3774edc655c74057ac1e6ba68231af3b",
            "1ff8cfc9aeda476c96e7148d00f13ac0",
            "c3ebb312718a4a81bdc1590f00a04db9",
            "5022ef4b33ab4e50bd2f467918cd0a4d"
          ]
        },
        "id": "rzwqttVIqP_F",
        "outputId": "c8f44949-25e5-43e1-bfa3-6f78f123eaaa"
      },
      "source": [
        "df_cv = cross_validation(m, initial='35 days', period='180 days', horizon = '1460 days')"
      ],
      "execution_count": 46,
      "outputs": [
        {
          "output_type": "stream",
          "text": [
            "INFO:fbprophet:Making 2 forecasts with cutoffs between 2012-08-05 00:00:00 and 2013-02-01 00:00:00\n",
            "WARNING:fbprophet:Seasonality has period of 365.25 days which is larger than initial window. Consider increasing initial.\n"
          ],
          "name": "stderr"
        },
        {
          "output_type": "display_data",
          "data": {
            "application/vnd.jupyter.widget-view+json": {
              "model_id": "412948e5942049f4a609cc880a7bd040",
              "version_minor": 0,
              "version_major": 2
            },
            "text/plain": [
              "HBox(children=(FloatProgress(value=0.0, max=2.0), HTML(value='')))"
            ]
          },
          "metadata": {
            "tags": []
          }
        },
        {
          "output_type": "stream",
          "text": [
            "INFO:fbprophet:n_changepoints greater than number of observations. Using 4.\n",
            "INFO:fbprophet:n_changepoints greater than number of observations. Using 9.\n"
          ],
          "name": "stderr"
        },
        {
          "output_type": "stream",
          "text": [
            "\n"
          ],
          "name": "stdout"
        }
      ]
    },
    {
      "cell_type": "code",
      "metadata": {
        "id": "Lg09SYkckl8C"
      },
      "source": [
        "from fbprophet.diagnostics import performance_metrics"
      ],
      "execution_count": 47,
      "outputs": []
    },
    {
      "cell_type": "code",
      "metadata": {
        "id": "cKBNAWYus31u"
      },
      "source": [
        "df_p =performance_metrics(df_cv)"
      ],
      "execution_count": 48,
      "outputs": []
    },
    {
      "cell_type": "code",
      "metadata": {
        "id": "YzvJ6LE4tVEG",
        "colab": {
          "base_uri": "https://localhost:8080/",
          "height": 202
        },
        "outputId": "65b69de6-c597-49f7-9cae-471ee93d6c90"
      },
      "source": [
        "df_p.head()"
      ],
      "execution_count": 49,
      "outputs": [
        {
          "output_type": "execute_result",
          "data": {
            "text/html": [
              "<div>\n",
              "<style scoped>\n",
              "    .dataframe tbody tr th:only-of-type {\n",
              "        vertical-align: middle;\n",
              "    }\n",
              "\n",
              "    .dataframe tbody tr th {\n",
              "        vertical-align: top;\n",
              "    }\n",
              "\n",
              "    .dataframe thead th {\n",
              "        text-align: right;\n",
              "    }\n",
              "</style>\n",
              "<table border=\"1\" class=\"dataframe\">\n",
              "  <thead>\n",
              "    <tr style=\"text-align: right;\">\n",
              "      <th></th>\n",
              "      <th>horizon</th>\n",
              "      <th>mse</th>\n",
              "      <th>rmse</th>\n",
              "      <th>mae</th>\n",
              "      <th>mape</th>\n",
              "      <th>mdape</th>\n",
              "      <th>coverage</th>\n",
              "    </tr>\n",
              "  </thead>\n",
              "  <tbody>\n",
              "    <tr>\n",
              "      <th>0</th>\n",
              "      <td>148 days</td>\n",
              "      <td>5.993385e+11</td>\n",
              "      <td>774169.531205</td>\n",
              "      <td>437843.771974</td>\n",
              "      <td>15.523201</td>\n",
              "      <td>3.057802</td>\n",
              "      <td>0.111111</td>\n",
              "    </tr>\n",
              "    <tr>\n",
              "      <th>1</th>\n",
              "      <td>149 days</td>\n",
              "      <td>1.433064e+11</td>\n",
              "      <td>378558.269563</td>\n",
              "      <td>215134.822453</td>\n",
              "      <td>8.074493</td>\n",
              "      <td>0.796360</td>\n",
              "      <td>0.111111</td>\n",
              "    </tr>\n",
              "    <tr>\n",
              "      <th>2</th>\n",
              "      <td>179 days</td>\n",
              "      <td>1.460558e+11</td>\n",
              "      <td>382172.495358</td>\n",
              "      <td>232546.199565</td>\n",
              "      <td>8.766171</td>\n",
              "      <td>3.057802</td>\n",
              "      <td>0.111111</td>\n",
              "    </tr>\n",
              "    <tr>\n",
              "      <th>3</th>\n",
              "      <td>180 days</td>\n",
              "      <td>1.452736e+11</td>\n",
              "      <td>381147.752719</td>\n",
              "      <td>224231.250207</td>\n",
              "      <td>8.463975</td>\n",
              "      <td>0.796360</td>\n",
              "      <td>0.111111</td>\n",
              "    </tr>\n",
              "    <tr>\n",
              "      <th>4</th>\n",
              "      <td>207 days</td>\n",
              "      <td>1.455749e+11</td>\n",
              "      <td>381542.769363</td>\n",
              "      <td>229690.036432</td>\n",
              "      <td>8.722731</td>\n",
              "      <td>2.451013</td>\n",
              "      <td>0.111111</td>\n",
              "    </tr>\n",
              "  </tbody>\n",
              "</table>\n",
              "</div>"
            ],
            "text/plain": [
              "   horizon           mse           rmse  ...       mape     mdape  coverage\n",
              "0 148 days  5.993385e+11  774169.531205  ...  15.523201  3.057802  0.111111\n",
              "1 149 days  1.433064e+11  378558.269563  ...   8.074493  0.796360  0.111111\n",
              "2 179 days  1.460558e+11  382172.495358  ...   8.766171  3.057802  0.111111\n",
              "3 180 days  1.452736e+11  381147.752719  ...   8.463975  0.796360  0.111111\n",
              "4 207 days  1.455749e+11  381542.769363  ...   8.722731  2.451013  0.111111\n",
              "\n",
              "[5 rows x 7 columns]"
            ]
          },
          "metadata": {
            "tags": []
          },
          "execution_count": 49
        }
      ]
    },
    {
      "cell_type": "code",
      "metadata": {
        "id": "Nk9aV93jtzpN"
      },
      "source": [
        "from fbprophet.plot import plot_cross_validation_metric"
      ],
      "execution_count": 50,
      "outputs": []
    },
    {
      "cell_type": "code",
      "metadata": {
        "id": "g0i3rVFjtZmU",
        "colab": {
          "base_uri": "https://localhost:8080/",
          "height": 388
        },
        "outputId": "0d41ef72-f517-4608-d78b-25a8245fb5cb"
      },
      "source": [
        "fig = plot_cross_validation_metric(df_cv, metric='mape')\n",
        "prediction =forcast\n"
      ],
      "execution_count": 51,
      "outputs": [
        {
          "output_type": "display_data",
          "data": {
            "image/png": "[encoded data removed]",
            "text/plain": [
              "<Figure size 720x432 with 1 Axes>"
            ]
          },
          "metadata": {
            "tags": []
          }
        }
      ]
    },
    {
      "cell_type": "code",
      "metadata": {
        "colab": {
          "base_uri": "https://localhost:8080/",
          "height": 865
        },
        "id": "zm4chqEat5xc",
        "outputId": "2e3f3974-57ef-462b-d73f-a710c916c910"
      },
      "source": [
        "m.plot(prediction)"
      ],
      "execution_count": 52,
      "outputs": [
        {
          "output_type": "execute_result",
          "data": {
            "image/png": "[encoded data removed]",
            "text/plain": [
              "<Figure size 720x432 with 1 Axes>"
            ]
          },
          "metadata": {
            "tags": []
          },
          "execution_count": 52
        },
        {
          "output_type": "display_data",
          "data": {
            "image/png": "[encoded data removed]",
            "text/plain": [
              "<Figure size 720x432 with 1 Axes>"
            ]
          },
          "metadata": {
            "tags": []
          }
        }
      ]
    },
    {
      "cell_type": "code",
      "metadata": {
        "id": "nZaBCD_3Cvtc",
        "colab": {
          "base_uri": "https://localhost:8080/",
          "height": 865
        },
        "outputId": "b3e51a6a-58e7-40d1-dbff-2330b34b83f5"
      },
      "source": [
        "m.plot_components(prediction)"
      ],
      "execution_count": 53,
      "outputs": [
        {
          "output_type": "execute_result",
          "data": {
            "image/png": "[encoded data removed]",
            "text/plain": [
              "<Figure size 648x432 with 2 Axes>"
            ]
          },
          "metadata": {
            "tags": []
          },
          "execution_count": 53
        },
        {
          "output_type": "display_data",
          "data": {
            "image/png": "[encoded data removed]",
            "text/plain": [
              "<Figure size 648x432 with 2 Axes>"
            ]
          },
          "metadata": {
            "tags": []
          }
        }
      ]
    },
    {
      "cell_type": "code",
      "metadata": {
        "id": "6OMwT7MOEmF4"
      },
      "source": [
        "from fbprophet.plot import add_changepoints_to_plot"
      ],
      "execution_count": 54,
      "outputs": []
    },
    {
      "cell_type": "code",
      "metadata": {
        "colab": {
          "base_uri": "https://localhost:8080/",
          "height": 441
        },
        "id": "QcDLEH-2JFni",
        "outputId": "e7dab096-4541-474a-e157-3af5126074dc"
      },
      "source": [
        "fig =m.plot(prediction)\n",
        "c   = add_changepoints_to_plot(fig.gca(), m, prediction)"
      ],
      "execution_count": 55,
      "outputs": [
        {
          "output_type": "display_data",
          "data": {
            "image/png": "[encoded data removed]",
            "text/plain": [
              "<Figure size 720x432 with 1 Axes>"
            ]
          },
          "metadata": {
            "tags": []
          }
        }
      ]
    },
    {
      "cell_type": "code",
      "metadata": {
        "id": "4EO-4dK8JQ47",
        "colab": {
          "base_uri": "https://localhost:8080/",
          "height": 388
        },
        "outputId": "858d10bb-74dc-4155-8967-4943ca4e637d"
      },
      "source": [
        "fig = plot_cross_validation_metric(df_cv, metric='mape')"
      ],
      "execution_count": 56,
      "outputs": [
        {
          "output_type": "display_data",
          "data": {
            "image/png": "[encoded data removed]",
            "text/plain": [
              "<Figure size 720x432 with 1 Axes>"
            ]
          },
          "metadata": {
            "tags": []
          }
        }
      ]
    },
    {
      "cell_type": "code",
      "metadata": {
        "id": "t3Fv6mvZY1Wv"
      },
      "source": [
        "from dask.distributed import Client"
      ],
      "execution_count": 57,
      "outputs": []
    },
    {
      "cell_type": "code",
      "metadata": {
        "id": "BQ7lePaJZoiM"
      },
      "source": [
        "client =Client()"
      ],
      "execution_count": 58,
      "outputs": []
    },
    {
      "cell_type": "code",
      "metadata": {
        "id": "MNX7rX6LZtc-",
        "colab": {
          "base_uri": "https://localhost:8080/",
          "height": 156,
          "referenced_widgets": [
            "c1fabef00ae9467f927d729ace14beeb",
            "c98442eab6a143c8b7f1e52ebf6719b5",
            "b98d71851128455caaeb7c02d94bc5af",
            "28cd2fc2f1f64a9a8f8ef3f955137ed9",
            "1e99252c4f4c4c8195b6033e74bdd865",
            "5dd8e90542e74bc5b03ec372e031b5df",
            "73ea2b1674424ded89c3867538fb8a0e",
            "be4bcd8bc1424fb681f49df68536d05e"
          ]
        },
        "outputId": "007866a6-ae89-4cb3-d3e8-57a3836153c7"
      },
      "source": [
        "df1_cv = cross_validation(m, initial='30 days', period='180 days',  horizon = '1460 days')"
      ],
      "execution_count": 59,
      "outputs": [
        {
          "output_type": "stream",
          "text": [
            "INFO:fbprophet:Making 2 forecasts with cutoffs between 2012-08-05 00:00:00 and 2013-02-01 00:00:00\n",
            "WARNING:fbprophet:Seasonality has period of 365.25 days which is larger than initial window. Consider increasing initial.\n"
          ],
          "name": "stderr"
        },
        {
          "output_type": "display_data",
          "data": {
            "application/vnd.jupyter.widget-view+json": {
              "model_id": "c1fabef00ae9467f927d729ace14beeb",
              "version_minor": 0,
              "version_major": 2
            },
            "text/plain": [
              "HBox(children=(FloatProgress(value=0.0, max=2.0), HTML(value='')))"
            ]
          },
          "metadata": {
            "tags": []
          }
        },
        {
          "output_type": "stream",
          "text": [
            "INFO:fbprophet:n_changepoints greater than number of observations. Using 4.\n",
            "INFO:fbprophet:n_changepoints greater than number of observations. Using 9.\n"
          ],
          "name": "stderr"
        },
        {
          "output_type": "stream",
          "text": [
            "\n"
          ],
          "name": "stdout"
        }
      ]
    },
    {
      "cell_type": "code",
      "metadata": {
        "colab": {
          "base_uri": "https://localhost:8080/",
          "height": 156,
          "referenced_widgets": [
            "fee31298d6c0409fa7ea8a7938dc53b1",
            "c41b80cda56c439bbc200e943cce8a6c",
            "06055e10d73b437e8fe8404a51b65d6a",
            "d7cae1eefe7d474fb0524af433dcb7d0",
            "e9667155e92b4e2cac7f6514901c6314",
            "1eea816093a24b1d921516f695205772",
            "fb807a3c178347ad98899ebf0f793d4c",
            "78c5dccaad824fb0904a18d75a479d50"
          ]
        },
        "id": "ixkB7ugBZ6dy",
        "outputId": "dee2b88d-6b3c-4e97-e04a-e93010891df4"
      },
      "source": [
        "df1_cv = cross_validation(m, initial='34.5 days', period='180 days',  horizon = '1460 days')"
      ],
      "execution_count": 60,
      "outputs": [
        {
          "output_type": "stream",
          "text": [
            "INFO:fbprophet:Making 2 forecasts with cutoffs between 2012-08-05 00:00:00 and 2013-02-01 00:00:00\n",
            "WARNING:fbprophet:Seasonality has period of 365.25 days which is larger than initial window. Consider increasing initial.\n"
          ],
          "name": "stderr"
        },
        {
          "output_type": "display_data",
          "data": {
            "application/vnd.jupyter.widget-view+json": {
              "model_id": "fee31298d6c0409fa7ea8a7938dc53b1",
              "version_minor": 0,
              "version_major": 2
            },
            "text/plain": [
              "HBox(children=(FloatProgress(value=0.0, max=2.0), HTML(value='')))"
            ]
          },
          "metadata": {
            "tags": []
          }
        },
        {
          "output_type": "stream",
          "text": [
            "INFO:fbprophet:n_changepoints greater than number of observations. Using 4.\n",
            "INFO:fbprophet:n_changepoints greater than number of observations. Using 9.\n"
          ],
          "name": "stderr"
        },
        {
          "output_type": "stream",
          "text": [
            "\n"
          ],
          "name": "stdout"
        }
      ]
    },
    {
      "cell_type": "code",
      "metadata": {
        "id": "2vZemJ9-gVgO",
        "colab": {
          "base_uri": "https://localhost:8080/",
          "height": 202
        },
        "outputId": "a2474047-0a77-4f1c-9692-0dde14d9a1db"
      },
      "source": [
        "df1_cv.head()"
      ],
      "execution_count": 61,
      "outputs": [
        {
          "output_type": "execute_result",
          "data": {
            "text/html": [
              "<div>\n",
              "<style scoped>\n",
              "    .dataframe tbody tr th:only-of-type {\n",
              "        vertical-align: middle;\n",
              "    }\n",
              "\n",
              "    .dataframe tbody tr th {\n",
              "        vertical-align: top;\n",
              "    }\n",
              "\n",
              "    .dataframe thead th {\n",
              "        text-align: right;\n",
              "    }\n",
              "</style>\n",
              "<table border=\"1\" class=\"dataframe\">\n",
              "  <thead>\n",
              "    <tr style=\"text-align: right;\">\n",
              "      <th></th>\n",
              "      <th>ds</th>\n",
              "      <th>yhat</th>\n",
              "      <th>yhat_lower</th>\n",
              "      <th>yhat_upper</th>\n",
              "      <th>y</th>\n",
              "      <th>cutoff</th>\n",
              "    </tr>\n",
              "  </thead>\n",
              "  <tbody>\n",
              "    <tr>\n",
              "      <th>0</th>\n",
              "      <td>2012-08-31</td>\n",
              "      <td>-1.996153e+06</td>\n",
              "      <td>-1.996153e+06</td>\n",
              "      <td>-1.996153e+06</td>\n",
              "      <td>29867</td>\n",
              "      <td>2012-08-05</td>\n",
              "    </tr>\n",
              "    <tr>\n",
              "      <th>1</th>\n",
              "      <td>2012-09-30</td>\n",
              "      <td>-5.683445e+04</td>\n",
              "      <td>-5.683445e+04</td>\n",
              "      <td>-5.683445e+04</td>\n",
              "      <td>27619</td>\n",
              "      <td>2012-08-05</td>\n",
              "    </tr>\n",
              "    <tr>\n",
              "      <th>2</th>\n",
              "      <td>2012-10-31</td>\n",
              "      <td>8.356161e+05</td>\n",
              "      <td>8.356161e+05</td>\n",
              "      <td>8.356161e+05</td>\n",
              "      <td>27815</td>\n",
              "      <td>2012-08-05</td>\n",
              "    </tr>\n",
              "    <tr>\n",
              "      <th>3</th>\n",
              "      <td>2012-11-30</td>\n",
              "      <td>7.763752e+05</td>\n",
              "      <td>7.763752e+05</td>\n",
              "      <td>7.763752e+05</td>\n",
              "      <td>25927</td>\n",
              "      <td>2012-08-05</td>\n",
              "    </tr>\n",
              "    <tr>\n",
              "      <th>4</th>\n",
              "      <td>2012-12-31</td>\n",
              "      <td>-2.324681e+05</td>\n",
              "      <td>-2.324681e+05</td>\n",
              "      <td>-2.324681e+05</td>\n",
              "      <td>25097</td>\n",
              "      <td>2012-08-05</td>\n",
              "    </tr>\n",
              "  </tbody>\n",
              "</table>\n",
              "</div>"
            ],
            "text/plain": [
              "          ds          yhat    yhat_lower    yhat_upper      y     cutoff\n",
              "0 2012-08-31 -1.996153e+06 -1.996153e+06 -1.996153e+06  29867 2012-08-05\n",
              "1 2012-09-30 -5.683445e+04 -5.683445e+04 -5.683445e+04  27619 2012-08-05\n",
              "2 2012-10-31  8.356161e+05  8.356161e+05  8.356161e+05  27815 2012-08-05\n",
              "3 2012-11-30  7.763752e+05  7.763752e+05  7.763752e+05  25927 2012-08-05\n",
              "4 2012-12-31 -2.324681e+05 -2.324681e+05 -2.324681e+05  25097 2012-08-05"
            ]
          },
          "metadata": {
            "tags": []
          },
          "execution_count": 61
        }
      ]
    },
    {
      "cell_type": "code",
      "metadata": {
        "colab": {
          "base_uri": "https://localhost:8080/",
          "height": 119,
          "referenced_widgets": [
            "3c2ac5921c9c4a2e918274ba63d2b811",
            "7041f7ac81434c3e891c7e6f2b4ea6e2",
            "7b64a4039eab408fb138c3c3b38c17cb",
            "8c908855961f48698c8df0a2cf6dd402",
            "101b607fa83842509558c18ad492be4c",
            "d767c80bf87c4b3e8e4f0ee901f35723",
            "fe8261342cac4e968ace81f7a3f56e29",
            "c92dd6a0424e4dcaa0a0b4b77024b2a0"
          ]
        },
        "id": "wwgtO938gd6Q",
        "outputId": "f692a707-15f5-4e5a-df8f-d047b65f3c6b"
      },
      "source": [
        "cutoffs = pd.to_datetime(['2013-02-15', '2013-08-15', '2014-02-15'])\n",
        "df_cv2 = cross_validation(m, cutoffs=cutoffs, horizon='365 days')"
      ],
      "execution_count": 62,
      "outputs": [
        {
          "output_type": "display_data",
          "data": {
            "application/vnd.jupyter.widget-view+json": {
              "model_id": "3c2ac5921c9c4a2e918274ba63d2b811",
              "version_minor": 0,
              "version_major": 2
            },
            "text/plain": [
              "HBox(children=(FloatProgress(value=0.0, max=3.0), HTML(value='')))"
            ]
          },
          "metadata": {
            "tags": []
          }
        },
        {
          "output_type": "stream",
          "text": [
            "INFO:fbprophet:n_changepoints greater than number of observations. Using 9.\n",
            "INFO:fbprophet:n_changepoints greater than number of observations. Using 14.\n",
            "INFO:fbprophet:n_changepoints greater than number of observations. Using 19.\n"
          ],
          "name": "stderr"
        },
        {
          "output_type": "stream",
          "text": [
            "\n"
          ],
          "name": "stdout"
        }
      ]
    },
    {
      "cell_type": "markdown",
      "metadata": {
        "id": "5AQRXNkFlBw0"
      },
      "source": [
        "This cross validation procedure can be done automatically for a range of historical cutoffs using the cross_validation function. We specify the forecast horizon (horizon), and then optionally the size of the initial training period (initial) and the spacing between cutoff dates (period). By default, the initial training period is set to three times the horizon, and cutoffs are made every half a horizon.\n",
        "\n",
        "The output of cross_validation is a dataframe with the true values y and the out-of-sample forecast values yhat, at each simulated forecast date and for each cutoff date. In particular, a forecast is made for every observed point between cutoff and cutoff + horizon. This dataframe can then be used to compute error measures of yhat vs. y.\n",
        "\n",
        "Here we do cross-validation to assess prediction performance on a horizon of 365 days, starting with 730 days of training data in the first cutoff and then making predictions every 180 days. On this 8 year time series, this corresponds to 11 total forecasts."
      ]
    },
    {
      "cell_type": "code",
      "metadata": {
        "id": "gqJojKbygwS3",
        "colab": {
          "base_uri": "https://localhost:8080/",
          "height": 119,
          "referenced_widgets": [
            "15ef1c90cfab4657b3b70f5678486258",
            "c5ecefe0bb204006b1c4f7e9fa81c8a0",
            "ae8aa83e89c64887b00cc86da71d57d1",
            "d5a455c3ae20449f9b646c16d3663200",
            "86b7aeb14ddc4a4eaac0df13f558bd76",
            "4b3c619dc1f64b8a8ddedf02d9962605",
            "ceee43abaf264a0ea1f4e6af34ca7b16",
            "6ee8de7b6b254decbdf50b1db398f27b"
          ]
        },
        "outputId": "44fa15d4-cd9b-4593-9444-1d73703bace1"
      },
      "source": [
        "df3_cv = cross_validation(m, initial='730 days', period='180 days', horizon = '365 days')"
      ],
      "execution_count": 63,
      "outputs": [
        {
          "output_type": "stream",
          "text": [
            "INFO:fbprophet:Making 5 forecasts with cutoffs between 2014-02-11 00:00:00 and 2016-02-01 00:00:00\n"
          ],
          "name": "stderr"
        },
        {
          "output_type": "display_data",
          "data": {
            "application/vnd.jupyter.widget-view+json": {
              "model_id": "15ef1c90cfab4657b3b70f5678486258",
              "version_minor": 0,
              "version_major": 2
            },
            "text/plain": [
              "HBox(children=(FloatProgress(value=0.0, max=5.0), HTML(value='')))"
            ]
          },
          "metadata": {
            "tags": []
          }
        },
        {
          "output_type": "stream",
          "text": [
            "INFO:fbprophet:n_changepoints greater than number of observations. Using 19.\n",
            "INFO:fbprophet:n_changepoints greater than number of observations. Using 23.\n"
          ],
          "name": "stderr"
        },
        {
          "output_type": "stream",
          "text": [
            "\n"
          ],
          "name": "stdout"
        }
      ]
    },
    {
      "cell_type": "code",
      "metadata": {
        "id": "Gl9jTBEZkXI_",
        "colab": {
          "base_uri": "https://localhost:8080/",
          "height": 202
        },
        "outputId": "d4a49655-5e21-496e-fc6a-fc90c951ba9c"
      },
      "source": [
        "df3_cv.head()"
      ],
      "execution_count": 64,
      "outputs": [
        {
          "output_type": "execute_result",
          "data": {
            "text/html": [
              "<div>\n",
              "<style scoped>\n",
              "    .dataframe tbody tr th:only-of-type {\n",
              "        vertical-align: middle;\n",
              "    }\n",
              "\n",
              "    .dataframe tbody tr th {\n",
              "        vertical-align: top;\n",
              "    }\n",
              "\n",
              "    .dataframe thead th {\n",
              "        text-align: right;\n",
              "    }\n",
              "</style>\n",
              "<table border=\"1\" class=\"dataframe\">\n",
              "  <thead>\n",
              "    <tr style=\"text-align: right;\">\n",
              "      <th></th>\n",
              "      <th>ds</th>\n",
              "      <th>yhat</th>\n",
              "      <th>yhat_lower</th>\n",
              "      <th>yhat_upper</th>\n",
              "      <th>y</th>\n",
              "      <th>cutoff</th>\n",
              "    </tr>\n",
              "  </thead>\n",
              "  <tbody>\n",
              "    <tr>\n",
              "      <th>0</th>\n",
              "      <td>2014-02-28</td>\n",
              "      <td>17684.130392</td>\n",
              "      <td>17636.611259</td>\n",
              "      <td>17734.319447</td>\n",
              "      <td>17892</td>\n",
              "      <td>2014-02-11</td>\n",
              "    </tr>\n",
              "    <tr>\n",
              "      <th>1</th>\n",
              "      <td>2014-03-31</td>\n",
              "      <td>19154.785912</td>\n",
              "      <td>18973.951940</td>\n",
              "      <td>19350.988104</td>\n",
              "      <td>22005</td>\n",
              "      <td>2014-02-11</td>\n",
              "    </tr>\n",
              "    <tr>\n",
              "      <th>2</th>\n",
              "      <td>2014-04-30</td>\n",
              "      <td>20948.892513</td>\n",
              "      <td>20579.330318</td>\n",
              "      <td>21310.416661</td>\n",
              "      <td>22519</td>\n",
              "      <td>2014-02-11</td>\n",
              "    </tr>\n",
              "    <tr>\n",
              "      <th>3</th>\n",
              "      <td>2014-05-31</td>\n",
              "      <td>22619.304176</td>\n",
              "      <td>22004.247885</td>\n",
              "      <td>23190.609839</td>\n",
              "      <td>24413</td>\n",
              "      <td>2014-02-11</td>\n",
              "    </tr>\n",
              "    <tr>\n",
              "      <th>4</th>\n",
              "      <td>2014-06-30</td>\n",
              "      <td>20203.426601</td>\n",
              "      <td>19358.010760</td>\n",
              "      <td>21005.154249</td>\n",
              "      <td>24867</td>\n",
              "      <td>2014-02-11</td>\n",
              "    </tr>\n",
              "  </tbody>\n",
              "</table>\n",
              "</div>"
            ],
            "text/plain": [
              "          ds          yhat    yhat_lower    yhat_upper      y     cutoff\n",
              "0 2014-02-28  17684.130392  17636.611259  17734.319447  17892 2014-02-11\n",
              "1 2014-03-31  19154.785912  18973.951940  19350.988104  22005 2014-02-11\n",
              "2 2014-04-30  20948.892513  20579.330318  21310.416661  22519 2014-02-11\n",
              "3 2014-05-31  22619.304176  22004.247885  23190.609839  24413 2014-02-11\n",
              "4 2014-06-30  20203.426601  19358.010760  21005.154249  24867 2014-02-11"
            ]
          },
          "metadata": {
            "tags": []
          },
          "execution_count": 64
        }
      ]
    },
    {
      "cell_type": "markdown",
      "metadata": {
        "id": "9tWQVyCqhAN4"
      },
      "source": [
        "The performance_metrics utility can be used to compute some useful statistics of the prediction performance (yhat, yhat_lower, and yhat_upper compared to y), as a function of the distance from the cutoff (how far into the future the prediction was). The statistics computed are mean squared error (MSE), root mean squared error (RMSE), mean absolute error (MAE), mean absolute percent error (MAPE), median absolute percent error (MDAPE) and coverage of the yhat_lower and yhat_upper estimates. These are computed on a rolling window of the predictions in df_cv after sorting by horizon (ds minus cutoff). By default 10% of the predictions will be included in each window, but this can be changed with the rolling_window argument."
      ]
    },
    {
      "cell_type": "code",
      "metadata": {
        "id": "bDuArpNblRZV",
        "colab": {
          "base_uri": "https://localhost:8080/",
          "height": 202
        },
        "outputId": "d1c027ca-b033-40e0-befa-7da6f2ea9ed8"
      },
      "source": [
        "df_p = performance_metrics(df3_cv)\n",
        "df_p.head()"
      ],
      "execution_count": 65,
      "outputs": [
        {
          "output_type": "execute_result",
          "data": {
            "text/html": [
              "<div>\n",
              "<style scoped>\n",
              "    .dataframe tbody tr th:only-of-type {\n",
              "        vertical-align: middle;\n",
              "    }\n",
              "\n",
              "    .dataframe tbody tr th {\n",
              "        vertical-align: top;\n",
              "    }\n",
              "\n",
              "    .dataframe thead th {\n",
              "        text-align: right;\n",
              "    }\n",
              "</style>\n",
              "<table border=\"1\" class=\"dataframe\">\n",
              "  <thead>\n",
              "    <tr style=\"text-align: right;\">\n",
              "      <th></th>\n",
              "      <th>horizon</th>\n",
              "      <th>mse</th>\n",
              "      <th>rmse</th>\n",
              "      <th>mae</th>\n",
              "      <th>mape</th>\n",
              "      <th>mdape</th>\n",
              "      <th>coverage</th>\n",
              "    </tr>\n",
              "  </thead>\n",
              "  <tbody>\n",
              "    <tr>\n",
              "      <th>0</th>\n",
              "      <td>48 days</td>\n",
              "      <td>1.606188e+06</td>\n",
              "      <td>1267.354916</td>\n",
              "      <td>835.015969</td>\n",
              "      <td>0.042304</td>\n",
              "      <td>0.030556</td>\n",
              "      <td>0.333333</td>\n",
              "    </tr>\n",
              "    <tr>\n",
              "      <th>1</th>\n",
              "      <td>51 days</td>\n",
              "      <td>1.600787e+06</td>\n",
              "      <td>1265.222037</td>\n",
              "      <td>817.691292</td>\n",
              "      <td>0.041114</td>\n",
              "      <td>0.028583</td>\n",
              "      <td>0.500000</td>\n",
              "    </tr>\n",
              "    <tr>\n",
              "      <th>2</th>\n",
              "      <td>53 days</td>\n",
              "      <td>1.749058e+06</td>\n",
              "      <td>1322.519517</td>\n",
              "      <td>945.839531</td>\n",
              "      <td>0.047390</td>\n",
              "      <td>0.047412</td>\n",
              "      <td>0.333333</td>\n",
              "    </tr>\n",
              "    <tr>\n",
              "      <th>3</th>\n",
              "      <td>56 days</td>\n",
              "      <td>1.643362e+06</td>\n",
              "      <td>1281.936851</td>\n",
              "      <td>852.745159</td>\n",
              "      <td>0.040718</td>\n",
              "      <td>0.029015</td>\n",
              "      <td>0.500000</td>\n",
              "    </tr>\n",
              "    <tr>\n",
              "      <th>4</th>\n",
              "      <td>59 days</td>\n",
              "      <td>1.902196e+06</td>\n",
              "      <td>1379.201392</td>\n",
              "      <td>1049.415422</td>\n",
              "      <td>0.051104</td>\n",
              "      <td>0.047412</td>\n",
              "      <td>0.333333</td>\n",
              "    </tr>\n",
              "  </tbody>\n",
              "</table>\n",
              "</div>"
            ],
            "text/plain": [
              "  horizon           mse         rmse          mae      mape     mdape  coverage\n",
              "0 48 days  1.606188e+06  1267.354916   835.015969  0.042304  0.030556  0.333333\n",
              "1 51 days  1.600787e+06  1265.222037   817.691292  0.041114  0.028583  0.500000\n",
              "2 53 days  1.749058e+06  1322.519517   945.839531  0.047390  0.047412  0.333333\n",
              "3 56 days  1.643362e+06  1281.936851   852.745159  0.040718  0.029015  0.500000\n",
              "4 59 days  1.902196e+06  1379.201392  1049.415422  0.051104  0.047412  0.333333"
            ]
          },
          "metadata": {
            "tags": []
          },
          "execution_count": 65
        }
      ]
    },
    {
      "cell_type": "markdown",
      "metadata": {
        "id": "7eox7fDMmnjU"
      },
      "source": [
        "Cross validation performance metrics can be visualized with plot_cross_validation_metric, here shown for MAPE. Dots show the absolute percent error for each prediction in df_cv. The blue line shows the MAPE, where the mean is taken over a rolling window of the dots. We see for this forecast that errors around 5% are typical for predictions one month into the future, and that errors increase up to around 11% for predictions that are a year out"
      ]
    },
    {
      "cell_type": "code",
      "metadata": {
        "id": "ZyyU_9ajl8Ti",
        "colab": {
          "base_uri": "https://localhost:8080/",
          "height": 388
        },
        "outputId": "b119e11c-3353-4ed8-914e-50a428414116"
      },
      "source": [
        "fig = plot_cross_validation_metric(df_cv, metric='mape')"
      ],
      "execution_count": 66,
      "outputs": [
        {
          "output_type": "display_data",
          "data": {
            "image/png": "[encoded data removed]",
            "text/plain": [
              "<Figure size 720x432 with 1 Axes>"
            ]
          },
          "metadata": {
            "tags": []
          }
        }
      ]
    },
    {
      "cell_type": "code",
      "metadata": {
        "id": "TTOvcREEHK-4",
        "colab": {
          "base_uri": "https://localhost:8080/",
          "height": 388
        },
        "outputId": "af0802f5-1cff-4e5e-ca9c-49067401f530"
      },
      "source": [
        "fig = plot_cross_validation_metric(df3_cv, metric='mape')"
      ],
      "execution_count": 67,
      "outputs": [
        {
          "output_type": "display_data",
          "data": {
            "image/png": "[encoded data removed]",
            "text/plain": [
              "<Figure size 720x432 with 1 Axes>"
            ]
          },
          "metadata": {
            "tags": []
          }
        }
      ]
    },
    {
      "cell_type": "code",
      "metadata": {
        "id": "r2TqUuOlmvVw"
      },
      "source": [
        "my_plot =forcast[['ds', 'yhat', 'trend']]"
      ],
      "execution_count": 68,
      "outputs": []
    },
    {
      "cell_type": "code",
      "metadata": {
        "id": "7DthJndYHuR5",
        "colab": {
          "base_uri": "https://localhost:8080/"
        },
        "outputId": "af97311f-7083-4b3e-d9d5-6478002b0358"
      },
      "source": [
        "df3_cv.columns"
      ],
      "execution_count": 69,
      "outputs": [
        {
          "output_type": "execute_result",
          "data": {
            "text/plain": [
              "Index(['ds', 'yhat', 'yhat_lower', 'yhat_upper', 'y', 'cutoff'], dtype='object')"
            ]
          },
          "metadata": {
            "tags": []
          },
          "execution_count": 69
        }
      ]
    },
    {
      "cell_type": "code",
      "metadata": {
        "id": "2zADpQjzHwGS"
      },
      "source": [
        "df3_plot =df3_cv[['yhat','y' ]]"
      ],
      "execution_count": 70,
      "outputs": []
    },
    {
      "cell_type": "code",
      "metadata": {
        "id": "PuYGNcRLH8pM"
      },
      "source": [
        "from sklearn.metrics import mean_absolute_error, mean_squared_error"
      ],
      "execution_count": 71,
      "outputs": []
    },
    {
      "cell_type": "code",
      "metadata": {
        "id": "QcbCXKSYITd-"
      },
      "source": [
        "actuals = df3_cv['y']\n",
        "prediction  = df3_cv['yhat']"
      ],
      "execution_count": 72,
      "outputs": []
    },
    {
      "cell_type": "code",
      "metadata": {
        "id": "pzWVLSKLIJQJ",
        "colab": {
          "base_uri": "https://localhost:8080/"
        },
        "outputId": "71e0db47-d420-4b4c-f393-84372bb0be29"
      },
      "source": [
        "print(mean_squared_error(actuals, prediction))"
      ],
      "execution_count": 73,
      "outputs": [
        {
          "output_type": "stream",
          "text": [
            "9426688.129525803\n"
          ],
          "name": "stdout"
        }
      ]
    },
    {
      "cell_type": "code",
      "metadata": {
        "id": "xC2mFJKFIpvz",
        "colab": {
          "base_uri": "https://localhost:8080/"
        },
        "outputId": "f8860baf-f273-4d42-d429-8f16274ba375"
      },
      "source": [
        "print(mean_absolute_error(actuals, prediction)) "
      ],
      "execution_count": 74,
      "outputs": [
        {
          "output_type": "stream",
          "text": [
            "1623.6282090406535\n"
          ],
          "name": "stdout"
        }
      ]
    },
    {
      "cell_type": "code",
      "metadata": {
        "id": "SNhwHPwcJBM0",
        "colab": {
          "base_uri": "https://localhost:8080/"
        },
        "outputId": "f1911972-7272-4a00-a7b9-bff36fb2a124"
      },
      "source": [
        "print(np.sqrt(mean_squared_error(actuals, prediction)))"
      ],
      "execution_count": 75,
      "outputs": [
        {
          "output_type": "stream",
          "text": [
            "3070.291212495291\n"
          ],
          "name": "stdout"
        }
      ]
    },
    {
      "cell_type": "code",
      "metadata": {
        "id": "maCKI9xtJKSZ"
      },
      "source": [
        ""
      ],
      "execution_count": 75,
      "outputs": []
    }
  ]
}