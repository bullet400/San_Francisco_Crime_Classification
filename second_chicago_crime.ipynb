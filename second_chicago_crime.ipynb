{
  "nbformat": 4,
  "nbformat_minor": 0,
  "metadata": {
    "colab": {
      "name": "Copy of chicago_crime.ipynb",
      "provenance": [],
      "collapsed_sections": [],
      "toc_visible": true,
      "include_colab_link": true
    },
    "kernelspec": {
      "display_name": "Python 3",
      "language": "python",
      "name": "python3"
    },
    "language_info": {
      "codemirror_mode": {
        "name": "ipython",
        "version": 3
      },
      "file_extension": ".py",
      "mimetype": "text/x-python",
      "name": "python",
      "nbconvert_exporter": "python",
      "pygments_lexer": "ipython3",
      "version": "3.7.7"
    },
    "widgets": {
      "application/vnd.jupyter.widget-state+json": {
        "d151fa09419a43e5850f2d14bc0b1c7f": {
          "model_module": "@jupyter-widgets/controls",
          "model_name": "HBoxModel",
          "state": {
            "_view_name": "HBoxView",
            "_dom_classes": [],
            "_model_name": "HBoxModel",
            "_view_module": "@jupyter-widgets/controls",
            "_model_module_version": "1.5.0",
            "_view_count": null,
            "_view_module_version": "1.5.0",
            "box_style": "",
            "layout": "IPY_MODEL_84694a6fb46e4132903c9ed56c2c0acd",
            "_model_module": "@jupyter-widgets/controls",
            "children": [
              "IPY_MODEL_760290aa5ba1435c877ecb13aa2fc2ca",
              "IPY_MODEL_b4cf123f141248fbb4a4405dae0be394"
            ]
          }
        },
        "84694a6fb46e4132903c9ed56c2c0acd": {
          "model_module": "@jupyter-widgets/base",
          "model_name": "LayoutModel",
          "state": {
            "_view_name": "LayoutView",
            "grid_template_rows": null,
            "right": null,
            "justify_content": null,
            "_view_module": "@jupyter-widgets/base",
            "overflow": null,
            "_model_module_version": "1.2.0",
            "_view_count": null,
            "flex_flow": null,
            "width": null,
            "min_width": null,
            "border": null,
            "align_items": null,
            "bottom": null,
            "_model_module": "@jupyter-widgets/base",
            "top": null,
            "grid_column": null,
            "overflow_y": null,
            "overflow_x": null,
            "grid_auto_flow": null,
            "grid_area": null,
            "grid_template_columns": null,
            "flex": null,
            "_model_name": "LayoutModel",
            "justify_items": null,
            "grid_row": null,
            "max_height": null,
            "align_content": null,
            "visibility": null,
            "align_self": null,
            "height": null,
            "min_height": null,
            "padding": null,
            "grid_auto_rows": null,
            "grid_gap": null,
            "max_width": null,
            "order": null,
            "_view_module_version": "1.2.0",
            "grid_template_areas": null,
            "object_position": null,
            "object_fit": null,
            "grid_auto_columns": null,
            "margin": null,
            "display": null,
            "left": null
          }
        },
        "760290aa5ba1435c877ecb13aa2fc2ca": {
          "model_module": "@jupyter-widgets/controls",
          "model_name": "FloatProgressModel",
          "state": {
            "_view_name": "ProgressView",
            "style": "IPY_MODEL_100f71991b574b36b161fecced1d95f4",
            "_dom_classes": [],
            "description": "100%",
            "_model_name": "FloatProgressModel",
            "bar_style": "success",
            "max": 2,
            "_view_module": "@jupyter-widgets/controls",
            "_model_module_version": "1.5.0",
            "value": 2,
            "_view_count": null,
            "_view_module_version": "1.5.0",
            "orientation": "horizontal",
            "min": 0,
            "description_tooltip": null,
            "_model_module": "@jupyter-widgets/controls",
            "layout": "IPY_MODEL_33902b1b2e0b40aaacb73becb3880a68"
          }
        },
        "b4cf123f141248fbb4a4405dae0be394": {
          "model_module": "@jupyter-widgets/controls",
          "model_name": "HTMLModel",
          "state": {
            "_view_name": "HTMLView",
            "style": "IPY_MODEL_4f1b63adfcce4a81b1ac3b7033ca5353",
            "_dom_classes": [],
            "description": "",
            "_model_name": "HTMLModel",
            "placeholder": "​",
            "_view_module": "@jupyter-widgets/controls",
            "_model_module_version": "1.5.0",
            "value": " 2/2 [00:23&lt;00:00, 11.62s/it]",
            "_view_count": null,
            "_view_module_version": "1.5.0",
            "description_tooltip": null,
            "_model_module": "@jupyter-widgets/controls",
            "layout": "IPY_MODEL_26b2659675344b39bde9c0e62b1d27be"
          }
        },
        "100f71991b574b36b161fecced1d95f4": {
          "model_module": "@jupyter-widgets/controls",
          "model_name": "ProgressStyleModel",
          "state": {
            "_view_name": "StyleView",
            "_model_name": "ProgressStyleModel",
            "description_width": "initial",
            "_view_module": "@jupyter-widgets/base",
            "_model_module_version": "1.5.0",
            "_view_count": null,
            "_view_module_version": "1.2.0",
            "bar_color": null,
            "_model_module": "@jupyter-widgets/controls"
          }
        },
        "33902b1b2e0b40aaacb73becb3880a68": {
          "model_module": "@jupyter-widgets/base",
          "model_name": "LayoutModel",
          "state": {
            "_view_name": "LayoutView",
            "grid_template_rows": null,
            "right": null,
            "justify_content": null,
            "_view_module": "@jupyter-widgets/base",
            "overflow": null,
            "_model_module_version": "1.2.0",
            "_view_count": null,
            "flex_flow": null,
            "width": null,
            "min_width": null,
            "border": null,
            "align_items": null,
            "bottom": null,
            "_model_module": "@jupyter-widgets/base",
            "top": null,
            "grid_column": null,
            "overflow_y": null,
            "overflow_x": null,
            "grid_auto_flow": null,
            "grid_area": null,
            "grid_template_columns": null,
            "flex": null,
            "_model_name": "LayoutModel",
            "justify_items": null,
            "grid_row": null,
            "max_height": null,
            "align_content": null,
            "visibility": null,
            "align_self": null,
            "height": null,
            "min_height": null,
            "padding": null,
            "grid_auto_rows": null,
            "grid_gap": null,
            "max_width": null,
            "order": null,
            "_view_module_version": "1.2.0",
            "grid_template_areas": null,
            "object_position": null,
            "object_fit": null,
            "grid_auto_columns": null,
            "margin": null,
            "display": null,
            "left": null
          }
        },
        "4f1b63adfcce4a81b1ac3b7033ca5353": {
          "model_module": "@jupyter-widgets/controls",
          "model_name": "DescriptionStyleModel",
          "state": {
            "_view_name": "StyleView",
            "_model_name": "DescriptionStyleModel",
            "description_width": "",
            "_view_module": "@jupyter-widgets/base",
            "_model_module_version": "1.5.0",
            "_view_count": null,
            "_view_module_version": "1.2.0",
            "_model_module": "@jupyter-widgets/controls"
          }
        },
        "26b2659675344b39bde9c0e62b1d27be": {
          "model_module": "@jupyter-widgets/base",
          "model_name": "LayoutModel",
          "state": {
            "_view_name": "LayoutView",
            "grid_template_rows": null,
            "right": null,
            "justify_content": null,
            "_view_module": "@jupyter-widgets/base",
            "overflow": null,
            "_model_module_version": "1.2.0",
            "_view_count": null,
            "flex_flow": null,
            "width": null,
            "min_width": null,
            "border": null,
            "align_items": null,
            "bottom": null,
            "_model_module": "@jupyter-widgets/base",
            "top": null,
            "grid_column": null,
            "overflow_y": null,
            "overflow_x": null,
            "grid_auto_flow": null,
            "grid_area": null,
            "grid_template_columns": null,
            "flex": null,
            "_model_name": "LayoutModel",
            "justify_items": null,
            "grid_row": null,
            "max_height": null,
            "align_content": null,
            "visibility": null,
            "align_self": null,
            "height": null,
            "min_height": null,
            "padding": null,
            "grid_auto_rows": null,
            "grid_gap": null,
            "max_width": null,
            "order": null,
            "_view_module_version": "1.2.0",
            "grid_template_areas": null,
            "object_position": null,
            "object_fit": null,
            "grid_auto_columns": null,
            "margin": null,
            "display": null,
            "left": null
          }
        },
        "805ebf3d6d5b4dcfb070c878919b5f87": {
          "model_module": "@jupyter-widgets/controls",
          "model_name": "HBoxModel",
          "state": {
            "_view_name": "HBoxView",
            "_dom_classes": [],
            "_model_name": "HBoxModel",
            "_view_module": "@jupyter-widgets/controls",
            "_model_module_version": "1.5.0",
            "_view_count": null,
            "_view_module_version": "1.5.0",
            "box_style": "",
            "layout": "IPY_MODEL_083b373d18304e27bf51c326b82062f8",
            "_model_module": "@jupyter-widgets/controls",
            "children": [
              "IPY_MODEL_8963de8f58374ac1b67ed8dae1b5c5a6",
              "IPY_MODEL_517337f115f14b0688bfa8149439c457"
            ]
          }
        },
        "083b373d18304e27bf51c326b82062f8": {
          "model_module": "@jupyter-widgets/base",
          "model_name": "LayoutModel",
          "state": {
            "_view_name": "LayoutView",
            "grid_template_rows": null,
            "right": null,
            "justify_content": null,
            "_view_module": "@jupyter-widgets/base",
            "overflow": null,
            "_model_module_version": "1.2.0",
            "_view_count": null,
            "flex_flow": null,
            "width": null,
            "min_width": null,
            "border": null,
            "align_items": null,
            "bottom": null,
            "_model_module": "@jupyter-widgets/base",
            "top": null,
            "grid_column": null,
            "overflow_y": null,
            "overflow_x": null,
            "grid_auto_flow": null,
            "grid_area": null,
            "grid_template_columns": null,
            "flex": null,
            "_model_name": "LayoutModel",
            "justify_items": null,
            "grid_row": null,
            "max_height": null,
            "align_content": null,
            "visibility": null,
            "align_self": null,
            "height": null,
            "min_height": null,
            "padding": null,
            "grid_auto_rows": null,
            "grid_gap": null,
            "max_width": null,
            "order": null,
            "_view_module_version": "1.2.0",
            "grid_template_areas": null,
            "object_position": null,
            "object_fit": null,
            "grid_auto_columns": null,
            "margin": null,
            "display": null,
            "left": null
          }
        },
        "8963de8f58374ac1b67ed8dae1b5c5a6": {
          "model_module": "@jupyter-widgets/controls",
          "model_name": "FloatProgressModel",
          "state": {
            "_view_name": "ProgressView",
            "style": "IPY_MODEL_b66d692cb50845f885409410793da38b",
            "_dom_classes": [],
            "description": "100%",
            "_model_name": "FloatProgressModel",
            "bar_style": "success",
            "max": 2,
            "_view_module": "@jupyter-widgets/controls",
            "_model_module_version": "1.5.0",
            "value": 2,
            "_view_count": null,
            "_view_module_version": "1.5.0",
            "orientation": "horizontal",
            "min": 0,
            "description_tooltip": null,
            "_model_module": "@jupyter-widgets/controls",
            "layout": "IPY_MODEL_c866125e22434432bbf51c5d523191e9"
          }
        },
        "517337f115f14b0688bfa8149439c457": {
          "model_module": "@jupyter-widgets/controls",
          "model_name": "HTMLModel",
          "state": {
            "_view_name": "HTMLView",
            "style": "IPY_MODEL_19d0dce9319d48008484cadf316dbe43",
            "_dom_classes": [],
            "description": "",
            "_model_name": "HTMLModel",
            "placeholder": "​",
            "_view_module": "@jupyter-widgets/controls",
            "_model_module_version": "1.5.0",
            "value": " 2/2 [01:33&lt;00:00, 46.78s/it]",
            "_view_count": null,
            "_view_module_version": "1.5.0",
            "description_tooltip": null,
            "_model_module": "@jupyter-widgets/controls",
            "layout": "IPY_MODEL_1880f86d88d145f1be10e9d2da806be0"
          }
        },
        "b66d692cb50845f885409410793da38b": {
          "model_module": "@jupyter-widgets/controls",
          "model_name": "ProgressStyleModel",
          "state": {
            "_view_name": "StyleView",
            "_model_name": "ProgressStyleModel",
            "description_width": "initial",
            "_view_module": "@jupyter-widgets/base",
            "_model_module_version": "1.5.0",
            "_view_count": null,
            "_view_module_version": "1.2.0",
            "bar_color": null,
            "_model_module": "@jupyter-widgets/controls"
          }
        },
        "c866125e22434432bbf51c5d523191e9": {
          "model_module": "@jupyter-widgets/base",
          "model_name": "LayoutModel",
          "state": {
            "_view_name": "LayoutView",
            "grid_template_rows": null,
            "right": null,
            "justify_content": null,
            "_view_module": "@jupyter-widgets/base",
            "overflow": null,
            "_model_module_version": "1.2.0",
            "_view_count": null,
            "flex_flow": null,
            "width": null,
            "min_width": null,
            "border": null,
            "align_items": null,
            "bottom": null,
            "_model_module": "@jupyter-widgets/base",
            "top": null,
            "grid_column": null,
            "overflow_y": null,
            "overflow_x": null,
            "grid_auto_flow": null,
            "grid_area": null,
            "grid_template_columns": null,
            "flex": null,
            "_model_name": "LayoutModel",
            "justify_items": null,
            "grid_row": null,
            "max_height": null,
            "align_content": null,
            "visibility": null,
            "align_self": null,
            "height": null,
            "min_height": null,
            "padding": null,
            "grid_auto_rows": null,
            "grid_gap": null,
            "max_width": null,
            "order": null,
            "_view_module_version": "1.2.0",
            "grid_template_areas": null,
            "object_position": null,
            "object_fit": null,
            "grid_auto_columns": null,
            "margin": null,
            "display": null,
            "left": null
          }
        },
        "19d0dce9319d48008484cadf316dbe43": {
          "model_module": "@jupyter-widgets/controls",
          "model_name": "DescriptionStyleModel",
          "state": {
            "_view_name": "StyleView",
            "_model_name": "DescriptionStyleModel",
            "description_width": "",
            "_view_module": "@jupyter-widgets/base",
            "_model_module_version": "1.5.0",
            "_view_count": null,
            "_view_module_version": "1.2.0",
            "_model_module": "@jupyter-widgets/controls"
          }
        },
        "1880f86d88d145f1be10e9d2da806be0": {
          "model_module": "@jupyter-widgets/base",
          "model_name": "LayoutModel",
          "state": {
            "_view_name": "LayoutView",
            "grid_template_rows": null,
            "right": null,
            "justify_content": null,
            "_view_module": "@jupyter-widgets/base",
            "overflow": null,
            "_model_module_version": "1.2.0",
            "_view_count": null,
            "flex_flow": null,
            "width": null,
            "min_width": null,
            "border": null,
            "align_items": null,
            "bottom": null,
            "_model_module": "@jupyter-widgets/base",
            "top": null,
            "grid_column": null,
            "overflow_y": null,
            "overflow_x": null,
            "grid_auto_flow": null,
            "grid_area": null,
            "grid_template_columns": null,
            "flex": null,
            "_model_name": "LayoutModel",
            "justify_items": null,
            "grid_row": null,
            "max_height": null,
            "align_content": null,
            "visibility": null,
            "align_self": null,
            "height": null,
            "min_height": null,
            "padding": null,
            "grid_auto_rows": null,
            "grid_gap": null,
            "max_width": null,
            "order": null,
            "_view_module_version": "1.2.0",
            "grid_template_areas": null,
            "object_position": null,
            "object_fit": null,
            "grid_auto_columns": null,
            "margin": null,
            "display": null,
            "left": null
          }
        },
        "e0b72dc67de944688bee4cdb2d7dfb09": {
          "model_module": "@jupyter-widgets/controls",
          "model_name": "HBoxModel",
          "state": {
            "_view_name": "HBoxView",
            "_dom_classes": [],
            "_model_name": "HBoxModel",
            "_view_module": "@jupyter-widgets/controls",
            "_model_module_version": "1.5.0",
            "_view_count": null,
            "_view_module_version": "1.5.0",
            "box_style": "",
            "layout": "IPY_MODEL_b61ef348e12e47d5b29903eaccee76b8",
            "_model_module": "@jupyter-widgets/controls",
            "children": [
              "IPY_MODEL_b315ebafbe794ff6b6984c11c14ed6c0",
              "IPY_MODEL_36129e61bd5a4f1cba398f9de13f77b9"
            ]
          }
        },
        "b61ef348e12e47d5b29903eaccee76b8": {
          "model_module": "@jupyter-widgets/base",
          "model_name": "LayoutModel",
          "state": {
            "_view_name": "LayoutView",
            "grid_template_rows": null,
            "right": null,
            "justify_content": null,
            "_view_module": "@jupyter-widgets/base",
            "overflow": null,
            "_model_module_version": "1.2.0",
            "_view_count": null,
            "flex_flow": null,
            "width": null,
            "min_width": null,
            "border": null,
            "align_items": null,
            "bottom": null,
            "_model_module": "@jupyter-widgets/base",
            "top": null,
            "grid_column": null,
            "overflow_y": null,
            "overflow_x": null,
            "grid_auto_flow": null,
            "grid_area": null,
            "grid_template_columns": null,
            "flex": null,
            "_model_name": "LayoutModel",
            "justify_items": null,
            "grid_row": null,
            "max_height": null,
            "align_content": null,
            "visibility": null,
            "align_self": null,
            "height": null,
            "min_height": null,
            "padding": null,
            "grid_auto_rows": null,
            "grid_gap": null,
            "max_width": null,
            "order": null,
            "_view_module_version": "1.2.0",
            "grid_template_areas": null,
            "object_position": null,
            "object_fit": null,
            "grid_auto_columns": null,
            "margin": null,
            "display": null,
            "left": null
          }
        },
        "b315ebafbe794ff6b6984c11c14ed6c0": {
          "model_module": "@jupyter-widgets/controls",
          "model_name": "FloatProgressModel",
          "state": {
            "_view_name": "ProgressView",
            "style": "IPY_MODEL_2ede8262ea7041619a878d384ea01516",
            "_dom_classes": [],
            "description": "100%",
            "_model_name": "FloatProgressModel",
            "bar_style": "success",
            "max": 2,
            "_view_module": "@jupyter-widgets/controls",
            "_model_module_version": "1.5.0",
            "value": 2,
            "_view_count": null,
            "_view_module_version": "1.5.0",
            "orientation": "horizontal",
            "min": 0,
            "description_tooltip": null,
            "_model_module": "@jupyter-widgets/controls",
            "layout": "IPY_MODEL_f6c4fbe587834e44ab4ccf84e505010a"
          }
        },
        "36129e61bd5a4f1cba398f9de13f77b9": {
          "model_module": "@jupyter-widgets/controls",
          "model_name": "HTMLModel",
          "state": {
            "_view_name": "HTMLView",
            "style": "IPY_MODEL_cfde5c2e9c874611a83feca41a377f21",
            "_dom_classes": [],
            "description": "",
            "_model_name": "HTMLModel",
            "placeholder": "​",
            "_view_module": "@jupyter-widgets/controls",
            "_model_module_version": "1.5.0",
            "value": " 2/2 [01:11&lt;00:00, 35.51s/it]",
            "_view_count": null,
            "_view_module_version": "1.5.0",
            "description_tooltip": null,
            "_model_module": "@jupyter-widgets/controls",
            "layout": "IPY_MODEL_f3ad8f6368fd44e0b93a96e556745752"
          }
        },
        "2ede8262ea7041619a878d384ea01516": {
          "model_module": "@jupyter-widgets/controls",
          "model_name": "ProgressStyleModel",
          "state": {
            "_view_name": "StyleView",
            "_model_name": "ProgressStyleModel",
            "description_width": "initial",
            "_view_module": "@jupyter-widgets/base",
            "_model_module_version": "1.5.0",
            "_view_count": null,
            "_view_module_version": "1.2.0",
            "bar_color": null,
            "_model_module": "@jupyter-widgets/controls"
          }
        },
        "f6c4fbe587834e44ab4ccf84e505010a": {
          "model_module": "@jupyter-widgets/base",
          "model_name": "LayoutModel",
          "state": {
            "_view_name": "LayoutView",
            "grid_template_rows": null,
            "right": null,
            "justify_content": null,
            "_view_module": "@jupyter-widgets/base",
            "overflow": null,
            "_model_module_version": "1.2.0",
            "_view_count": null,
            "flex_flow": null,
            "width": null,
            "min_width": null,
            "border": null,
            "align_items": null,
            "bottom": null,
            "_model_module": "@jupyter-widgets/base",
            "top": null,
            "grid_column": null,
            "overflow_y": null,
            "overflow_x": null,
            "grid_auto_flow": null,
            "grid_area": null,
            "grid_template_columns": null,
            "flex": null,
            "_model_name": "LayoutModel",
            "justify_items": null,
            "grid_row": null,
            "max_height": null,
            "align_content": null,
            "visibility": null,
            "align_self": null,
            "height": null,
            "min_height": null,
            "padding": null,
            "grid_auto_rows": null,
            "grid_gap": null,
            "max_width": null,
            "order": null,
            "_view_module_version": "1.2.0",
            "grid_template_areas": null,
            "object_position": null,
            "object_fit": null,
            "grid_auto_columns": null,
            "margin": null,
            "display": null,
            "left": null
          }
        },
        "cfde5c2e9c874611a83feca41a377f21": {
          "model_module": "@jupyter-widgets/controls",
          "model_name": "DescriptionStyleModel",
          "state": {
            "_view_name": "StyleView",
            "_model_name": "DescriptionStyleModel",
            "description_width": "",
            "_view_module": "@jupyter-widgets/base",
            "_model_module_version": "1.5.0",
            "_view_count": null,
            "_view_module_version": "1.2.0",
            "_model_module": "@jupyter-widgets/controls"
          }
        },
        "f3ad8f6368fd44e0b93a96e556745752": {
          "model_module": "@jupyter-widgets/base",
          "model_name": "LayoutModel",
          "state": {
            "_view_name": "LayoutView",
            "grid_template_rows": null,
            "right": null,
            "justify_content": null,
            "_view_module": "@jupyter-widgets/base",
            "overflow": null,
            "_model_module_version": "1.2.0",
            "_view_count": null,
            "flex_flow": null,
            "width": null,
            "min_width": null,
            "border": null,
            "align_items": null,
            "bottom": null,
            "_model_module": "@jupyter-widgets/base",
            "top": null,
            "grid_column": null,
            "overflow_y": null,
            "overflow_x": null,
            "grid_auto_flow": null,
            "grid_area": null,
            "grid_template_columns": null,
            "flex": null,
            "_model_name": "LayoutModel",
            "justify_items": null,
            "grid_row": null,
            "max_height": null,
            "align_content": null,
            "visibility": null,
            "align_self": null,
            "height": null,
            "min_height": null,
            "padding": null,
            "grid_auto_rows": null,
            "grid_gap": null,
            "max_width": null,
            "order": null,
            "_view_module_version": "1.2.0",
            "grid_template_areas": null,
            "object_position": null,
            "object_fit": null,
            "grid_auto_columns": null,
            "margin": null,
            "display": null,
            "left": null
          }
        },
        "92a1997966034ed9a05115450ee36885": {
          "model_module": "@jupyter-widgets/controls",
          "model_name": "HBoxModel",
          "state": {
            "_view_name": "HBoxView",
            "_dom_classes": [],
            "_model_name": "HBoxModel",
            "_view_module": "@jupyter-widgets/controls",
            "_model_module_version": "1.5.0",
            "_view_count": null,
            "_view_module_version": "1.5.0",
            "box_style": "",
            "layout": "IPY_MODEL_8896224a3bfc4e11965770afb6a9706b",
            "_model_module": "@jupyter-widgets/controls",
            "children": [
              "IPY_MODEL_162b3f46c2c1480fa34130f116a6ea01",
              "IPY_MODEL_a50ab8b751ab48d58c1141940822a81f"
            ]
          }
        },
        "8896224a3bfc4e11965770afb6a9706b": {
          "model_module": "@jupyter-widgets/base",
          "model_name": "LayoutModel",
          "state": {
            "_view_name": "LayoutView",
            "grid_template_rows": null,
            "right": null,
            "justify_content": null,
            "_view_module": "@jupyter-widgets/base",
            "overflow": null,
            "_model_module_version": "1.2.0",
            "_view_count": null,
            "flex_flow": null,
            "width": null,
            "min_width": null,
            "border": null,
            "align_items": null,
            "bottom": null,
            "_model_module": "@jupyter-widgets/base",
            "top": null,
            "grid_column": null,
            "overflow_y": null,
            "overflow_x": null,
            "grid_auto_flow": null,
            "grid_area": null,
            "grid_template_columns": null,
            "flex": null,
            "_model_name": "LayoutModel",
            "justify_items": null,
            "grid_row": null,
            "max_height": null,
            "align_content": null,
            "visibility": null,
            "align_self": null,
            "height": null,
            "min_height": null,
            "padding": null,
            "grid_auto_rows": null,
            "grid_gap": null,
            "max_width": null,
            "order": null,
            "_view_module_version": "1.2.0",
            "grid_template_areas": null,
            "object_position": null,
            "object_fit": null,
            "grid_auto_columns": null,
            "margin": null,
            "display": null,
            "left": null
          }
        },
        "162b3f46c2c1480fa34130f116a6ea01": {
          "model_module": "@jupyter-widgets/controls",
          "model_name": "FloatProgressModel",
          "state": {
            "_view_name": "ProgressView",
            "style": "IPY_MODEL_c953d062c3f244f982f3a5c8793f152f",
            "_dom_classes": [],
            "description": "100%",
            "_model_name": "FloatProgressModel",
            "bar_style": "success",
            "max": 3,
            "_view_module": "@jupyter-widgets/controls",
            "_model_module_version": "1.5.0",
            "value": 3,
            "_view_count": null,
            "_view_module_version": "1.5.0",
            "orientation": "horizontal",
            "min": 0,
            "description_tooltip": null,
            "_model_module": "@jupyter-widgets/controls",
            "layout": "IPY_MODEL_b1a8bbf0bc974f6e9a131ee1043e5f9b"
          }
        },
        "a50ab8b751ab48d58c1141940822a81f": {
          "model_module": "@jupyter-widgets/controls",
          "model_name": "HTMLModel",
          "state": {
            "_view_name": "HTMLView",
            "style": "IPY_MODEL_02bbc7e1dfd24fdfa0d0f51d3b8f5538",
            "_dom_classes": [],
            "description": "",
            "_model_name": "HTMLModel",
            "placeholder": "​",
            "_view_module": "@jupyter-widgets/controls",
            "_model_module_version": "1.5.0",
            "value": " 3/3 [02:37&lt;00:00, 52.51s/it]",
            "_view_count": null,
            "_view_module_version": "1.5.0",
            "description_tooltip": null,
            "_model_module": "@jupyter-widgets/controls",
            "layout": "IPY_MODEL_4c61666f00174dfd92053b95ac0aee54"
          }
        },
        "c953d062c3f244f982f3a5c8793f152f": {
          "model_module": "@jupyter-widgets/controls",
          "model_name": "ProgressStyleModel",
          "state": {
            "_view_name": "StyleView",
            "_model_name": "ProgressStyleModel",
            "description_width": "initial",
            "_view_module": "@jupyter-widgets/base",
            "_model_module_version": "1.5.0",
            "_view_count": null,
            "_view_module_version": "1.2.0",
            "bar_color": null,
            "_model_module": "@jupyter-widgets/controls"
          }
        },
        "b1a8bbf0bc974f6e9a131ee1043e5f9b": {
          "model_module": "@jupyter-widgets/base",
          "model_name": "LayoutModel",
          "state": {
            "_view_name": "LayoutView",
            "grid_template_rows": null,
            "right": null,
            "justify_content": null,
            "_view_module": "@jupyter-widgets/base",
            "overflow": null,
            "_model_module_version": "1.2.0",
            "_view_count": null,
            "flex_flow": null,
            "width": null,
            "min_width": null,
            "border": null,
            "align_items": null,
            "bottom": null,
            "_model_module": "@jupyter-widgets/base",
            "top": null,
            "grid_column": null,
            "overflow_y": null,
            "overflow_x": null,
            "grid_auto_flow": null,
            "grid_area": null,
            "grid_template_columns": null,
            "flex": null,
            "_model_name": "LayoutModel",
            "justify_items": null,
            "grid_row": null,
            "max_height": null,
            "align_content": null,
            "visibility": null,
            "align_self": null,
            "height": null,
            "min_height": null,
            "padding": null,
            "grid_auto_rows": null,
            "grid_gap": null,
            "max_width": null,
            "order": null,
            "_view_module_version": "1.2.0",
            "grid_template_areas": null,
            "object_position": null,
            "object_fit": null,
            "grid_auto_columns": null,
            "margin": null,
            "display": null,
            "left": null
          }
        },
        "02bbc7e1dfd24fdfa0d0f51d3b8f5538": {
          "model_module": "@jupyter-widgets/controls",
          "model_name": "DescriptionStyleModel",
          "state": {
            "_view_name": "StyleView",
            "_model_name": "DescriptionStyleModel",
            "description_width": "",
            "_view_module": "@jupyter-widgets/base",
            "_model_module_version": "1.5.0",
            "_view_count": null,
            "_view_module_version": "1.2.0",
            "_model_module": "@jupyter-widgets/controls"
          }
        },
        "4c61666f00174dfd92053b95ac0aee54": {
          "model_module": "@jupyter-widgets/base",
          "model_name": "LayoutModel",
          "state": {
            "_view_name": "LayoutView",
            "grid_template_rows": null,
            "right": null,
            "justify_content": null,
            "_view_module": "@jupyter-widgets/base",
            "overflow": null,
            "_model_module_version": "1.2.0",
            "_view_count": null,
            "flex_flow": null,
            "width": null,
            "min_width": null,
            "border": null,
            "align_items": null,
            "bottom": null,
            "_model_module": "@jupyter-widgets/base",
            "top": null,
            "grid_column": null,
            "overflow_y": null,
            "overflow_x": null,
            "grid_auto_flow": null,
            "grid_area": null,
            "grid_template_columns": null,
            "flex": null,
            "_model_name": "LayoutModel",
            "justify_items": null,
            "grid_row": null,
            "max_height": null,
            "align_content": null,
            "visibility": null,
            "align_self": null,
            "height": null,
            "min_height": null,
            "padding": null,
            "grid_auto_rows": null,
            "grid_gap": null,
            "max_width": null,
            "order": null,
            "_view_module_version": "1.2.0",
            "grid_template_areas": null,
            "object_position": null,
            "object_fit": null,
            "grid_auto_columns": null,
            "margin": null,
            "display": null,
            "left": null
          }
        },
        "8ff9c820c327489fa60dfff52be9d3c2": {
          "model_module": "@jupyter-widgets/controls",
          "model_name": "HBoxModel",
          "state": {
            "_view_name": "HBoxView",
            "_dom_classes": [],
            "_model_name": "HBoxModel",
            "_view_module": "@jupyter-widgets/controls",
            "_model_module_version": "1.5.0",
            "_view_count": null,
            "_view_module_version": "1.5.0",
            "box_style": "",
            "layout": "IPY_MODEL_5ecf2538f29f44c6bc2cf1c5bace2db6",
            "_model_module": "@jupyter-widgets/controls",
            "children": [
              "IPY_MODEL_5ca4cef416e94759ad6fa24f28cc7b06",
              "IPY_MODEL_3cc35ae5bd774950b16b2e4a16341162"
            ]
          }
        },
        "5ecf2538f29f44c6bc2cf1c5bace2db6": {
          "model_module": "@jupyter-widgets/base",
          "model_name": "LayoutModel",
          "state": {
            "_view_name": "LayoutView",
            "grid_template_rows": null,
            "right": null,
            "justify_content": null,
            "_view_module": "@jupyter-widgets/base",
            "overflow": null,
            "_model_module_version": "1.2.0",
            "_view_count": null,
            "flex_flow": null,
            "width": null,
            "min_width": null,
            "border": null,
            "align_items": null,
            "bottom": null,
            "_model_module": "@jupyter-widgets/base",
            "top": null,
            "grid_column": null,
            "overflow_y": null,
            "overflow_x": null,
            "grid_auto_flow": null,
            "grid_area": null,
            "grid_template_columns": null,
            "flex": null,
            "_model_name": "LayoutModel",
            "justify_items": null,
            "grid_row": null,
            "max_height": null,
            "align_content": null,
            "visibility": null,
            "align_self": null,
            "height": null,
            "min_height": null,
            "padding": null,
            "grid_auto_rows": null,
            "grid_gap": null,
            "max_width": null,
            "order": null,
            "_view_module_version": "1.2.0",
            "grid_template_areas": null,
            "object_position": null,
            "object_fit": null,
            "grid_auto_columns": null,
            "margin": null,
            "display": null,
            "left": null
          }
        },
        "5ca4cef416e94759ad6fa24f28cc7b06": {
          "model_module": "@jupyter-widgets/controls",
          "model_name": "FloatProgressModel",
          "state": {
            "_view_name": "ProgressView",
            "style": "IPY_MODEL_a23d40660d874e99a6ec6583981b7ae5",
            "_dom_classes": [],
            "description": "100%",
            "_model_name": "FloatProgressModel",
            "bar_style": "success",
            "max": 25,
            "_view_module": "@jupyter-widgets/controls",
            "_model_module_version": "1.5.0",
            "value": 25,
            "_view_count": null,
            "_view_module_version": "1.5.0",
            "orientation": "horizontal",
            "min": 0,
            "description_tooltip": null,
            "_model_module": "@jupyter-widgets/controls",
            "layout": "IPY_MODEL_254e6c18c7f94fc1b790f7c90fbbaa7b"
          }
        },
        "3cc35ae5bd774950b16b2e4a16341162": {
          "model_module": "@jupyter-widgets/controls",
          "model_name": "HTMLModel",
          "state": {
            "_view_name": "HTMLView",
            "style": "IPY_MODEL_99261d4a1755496d907097e69b378bb8",
            "_dom_classes": [],
            "description": "",
            "_model_name": "HTMLModel",
            "placeholder": "​",
            "_view_module": "@jupyter-widgets/controls",
            "_model_module_version": "1.5.0",
            "value": " 25/25 [12:29&lt;00:00, 29.96s/it]",
            "_view_count": null,
            "_view_module_version": "1.5.0",
            "description_tooltip": null,
            "_model_module": "@jupyter-widgets/controls",
            "layout": "IPY_MODEL_c151eba972ae4974bad22095a13e38fc"
          }
        },
        "a23d40660d874e99a6ec6583981b7ae5": {
          "model_module": "@jupyter-widgets/controls",
          "model_name": "ProgressStyleModel",
          "state": {
            "_view_name": "StyleView",
            "_model_name": "ProgressStyleModel",
            "description_width": "initial",
            "_view_module": "@jupyter-widgets/base",
            "_model_module_version": "1.5.0",
            "_view_count": null,
            "_view_module_version": "1.2.0",
            "bar_color": null,
            "_model_module": "@jupyter-widgets/controls"
          }
        },
        "254e6c18c7f94fc1b790f7c90fbbaa7b": {
          "model_module": "@jupyter-widgets/base",
          "model_name": "LayoutModel",
          "state": {
            "_view_name": "LayoutView",
            "grid_template_rows": null,
            "right": null,
            "justify_content": null,
            "_view_module": "@jupyter-widgets/base",
            "overflow": null,
            "_model_module_version": "1.2.0",
            "_view_count": null,
            "flex_flow": null,
            "width": null,
            "min_width": null,
            "border": null,
            "align_items": null,
            "bottom": null,
            "_model_module": "@jupyter-widgets/base",
            "top": null,
            "grid_column": null,
            "overflow_y": null,
            "overflow_x": null,
            "grid_auto_flow": null,
            "grid_area": null,
            "grid_template_columns": null,
            "flex": null,
            "_model_name": "LayoutModel",
            "justify_items": null,
            "grid_row": null,
            "max_height": null,
            "align_content": null,
            "visibility": null,
            "align_self": null,
            "height": null,
            "min_height": null,
            "padding": null,
            "grid_auto_rows": null,
            "grid_gap": null,
            "max_width": null,
            "order": null,
            "_view_module_version": "1.2.0",
            "grid_template_areas": null,
            "object_position": null,
            "object_fit": null,
            "grid_auto_columns": null,
            "margin": null,
            "display": null,
            "left": null
          }
        },
        "99261d4a1755496d907097e69b378bb8": {
          "model_module": "@jupyter-widgets/controls",
          "model_name": "DescriptionStyleModel",
          "state": {
            "_view_name": "StyleView",
            "_model_name": "DescriptionStyleModel",
            "description_width": "",
            "_view_module": "@jupyter-widgets/base",
            "_model_module_version": "1.5.0",
            "_view_count": null,
            "_view_module_version": "1.2.0",
            "_model_module": "@jupyter-widgets/controls"
          }
        },
        "c151eba972ae4974bad22095a13e38fc": {
          "model_module": "@jupyter-widgets/base",
          "model_name": "LayoutModel",
          "state": {
            "_view_name": "LayoutView",
            "grid_template_rows": null,
            "right": null,
            "justify_content": null,
            "_view_module": "@jupyter-widgets/base",
            "overflow": null,
            "_model_module_version": "1.2.0",
            "_view_count": null,
            "flex_flow": null,
            "width": null,
            "min_width": null,
            "border": null,
            "align_items": null,
            "bottom": null,
            "_model_module": "@jupyter-widgets/base",
            "top": null,
            "grid_column": null,
            "overflow_y": null,
            "overflow_x": null,
            "grid_auto_flow": null,
            "grid_area": null,
            "grid_template_columns": null,
            "flex": null,
            "_model_name": "LayoutModel",
            "justify_items": null,
            "grid_row": null,
            "max_height": null,
            "align_content": null,
            "visibility": null,
            "align_self": null,
            "height": null,
            "min_height": null,
            "padding": null,
            "grid_auto_rows": null,
            "grid_gap": null,
            "max_width": null,
            "order": null,
            "_view_module_version": "1.2.0",
            "grid_template_areas": null,
            "object_position": null,
            "object_fit": null,
            "grid_auto_columns": null,
            "margin": null,
            "display": null,
            "left": null
          }
        }
      }
    }
  },
  "cells": [
    {
      "cell_type": "markdown",
      "metadata": {
        "id": "view-in-github",
        "colab_type": "text"
      },
      "source": [
        "<a href=\"https://colab.research.google.com/github/bullet400/San_Francisco_Crime_Classification/blob/master/second_chicago_crime.ipynb\" target=\"_parent\"><img src=\"https://colab.research.google.com/assets/colab-badge.svg\" alt=\"Open In Colab\"/></a>"
      ]
    },
    {
      "cell_type": "code",
      "metadata": {
        "id": "2NjYp2aTxhg9"
      },
      "source": [
        "                                                                                                                                                                                                                                                                                                                                                                    from google.colab import drive\n",
        "#drive.mount('/content/drive')"
      ],
      "execution_count": 1,
      "outputs": []
    },
    {
      "cell_type": "code",
      "metadata": {
        "id": "2hF08LlvW5Ps"
      },
      "source": [
        "import numpy as np\n",
        "import pandas as pd\n",
        "import seaborn as sns\n",
        "import matplotlib.pyplot as plt\n",
        "from fbprophet import Prophet"
      ],
      "execution_count": 2,
      "outputs": []
    },
    {
      "cell_type": "code",
      "metadata": {
        "id": "3s130nF3W5Pu"
      },
      "source": [
        "%matplotlib inline"
      ],
      "execution_count": 3,
      "outputs": []
    },
    {
      "cell_type": "code",
      "metadata": {
        "id": "DxWAqYJXW5Pu"
      },
      "source": [
        "\n",
        "chicago_crime  =pd.read_csv('/content/drive/MyDrive/Chicago_Crimes_2012.csv', error_bad_lines =False)"
      ],
      "execution_count": 4,
      "outputs": []
    },
    {
      "cell_type": "code",
      "metadata": {
        "id": "x77hYjNYW5Pu",
        "colab": {
          "base_uri": "https://localhost:8080/"
        },
        "outputId": "e9b802c1-a58e-4536-da1f-15167017ed05"
      },
      "source": [
        "chicago_crime.shape"
      ],
      "execution_count": 5,
      "outputs": [
        {
          "output_type": "execute_result",
          "data": {
            "text/plain": [
              "(1456714, 23)"
            ]
          },
          "metadata": {
            "tags": []
          },
          "execution_count": 5
        }
      ]
    },
    {
      "cell_type": "code",
      "metadata": {
        "id": "809dCbxRW5Px",
        "colab": {
          "base_uri": "https://localhost:8080/",
          "height": 217
        },
        "outputId": "276fe1f1-1564-48d5-ec61-19234f48b8b5"
      },
      "source": [
        "chicago_crime.head(2)"
      ],
      "execution_count": 6,
      "outputs": [
        {
          "output_type": "execute_result",
          "data": {
            "text/html": [
              "<div>\n",
              "<style scoped>\n",
              "    .dataframe tbody tr th:only-of-type {\n",
              "        vertical-align: middle;\n",
              "    }\n",
              "\n",
              "    .dataframe tbody tr th {\n",
              "        vertical-align: top;\n",
              "    }\n",
              "\n",
              "    .dataframe thead th {\n",
              "        text-align: right;\n",
              "    }\n",
              "</style>\n",
              "<table border=\"1\" class=\"dataframe\">\n",
              "  <thead>\n",
              "    <tr style=\"text-align: right;\">\n",
              "      <th></th>\n",
              "      <th>Unnamed: 0</th>\n",
              "      <th>ID</th>\n",
              "      <th>Case Number</th>\n",
              "      <th>Date</th>\n",
              "      <th>Block</th>\n",
              "      <th>IUCR</th>\n",
              "      <th>Primary Type</th>\n",
              "      <th>Description</th>\n",
              "      <th>Location Description</th>\n",
              "      <th>Arrest</th>\n",
              "      <th>Domestic</th>\n",
              "      <th>Beat</th>\n",
              "      <th>District</th>\n",
              "      <th>Ward</th>\n",
              "      <th>Community Area</th>\n",
              "      <th>FBI Code</th>\n",
              "      <th>X Coordinate</th>\n",
              "      <th>Y Coordinate</th>\n",
              "      <th>Year</th>\n",
              "      <th>Updated On</th>\n",
              "      <th>Latitude</th>\n",
              "      <th>Longitude</th>\n",
              "      <th>Location</th>\n",
              "    </tr>\n",
              "  </thead>\n",
              "  <tbody>\n",
              "    <tr>\n",
              "      <th>0</th>\n",
              "      <td>3</td>\n",
              "      <td>10508693</td>\n",
              "      <td>HZ250496</td>\n",
              "      <td>05/03/2016 11:40:00 PM</td>\n",
              "      <td>013XX S SAWYER AVE</td>\n",
              "      <td>0486</td>\n",
              "      <td>BATTERY</td>\n",
              "      <td>DOMESTIC BATTERY SIMPLE</td>\n",
              "      <td>APARTMENT</td>\n",
              "      <td>True</td>\n",
              "      <td>True</td>\n",
              "      <td>1022</td>\n",
              "      <td>10.0</td>\n",
              "      <td>24.0</td>\n",
              "      <td>29.0</td>\n",
              "      <td>08B</td>\n",
              "      <td>1154907.0</td>\n",
              "      <td>1893681.0</td>\n",
              "      <td>2016</td>\n",
              "      <td>05/10/2016 03:56:50 PM</td>\n",
              "      <td>41.864073</td>\n",
              "      <td>-87.706819</td>\n",
              "      <td>(41.864073157, -87.706818608)</td>\n",
              "    </tr>\n",
              "    <tr>\n",
              "      <th>1</th>\n",
              "      <td>89</td>\n",
              "      <td>10508695</td>\n",
              "      <td>HZ250409</td>\n",
              "      <td>05/03/2016 09:40:00 PM</td>\n",
              "      <td>061XX S DREXEL AVE</td>\n",
              "      <td>0486</td>\n",
              "      <td>BATTERY</td>\n",
              "      <td>DOMESTIC BATTERY SIMPLE</td>\n",
              "      <td>RESIDENCE</td>\n",
              "      <td>False</td>\n",
              "      <td>True</td>\n",
              "      <td>313</td>\n",
              "      <td>3.0</td>\n",
              "      <td>20.0</td>\n",
              "      <td>42.0</td>\n",
              "      <td>08B</td>\n",
              "      <td>1183066.0</td>\n",
              "      <td>1864330.0</td>\n",
              "      <td>2016</td>\n",
              "      <td>05/10/2016 03:56:50 PM</td>\n",
              "      <td>41.782922</td>\n",
              "      <td>-87.604363</td>\n",
              "      <td>(41.782921527, -87.60436317)</td>\n",
              "    </tr>\n",
              "  </tbody>\n",
              "</table>\n",
              "</div>"
            ],
            "text/plain": [
              "   Unnamed: 0        ID  ...  Longitude                       Location\n",
              "0           3  10508693  ... -87.706819  (41.864073157, -87.706818608)\n",
              "1          89  10508695  ... -87.604363   (41.782921527, -87.60436317)\n",
              "\n",
              "[2 rows x 23 columns]"
            ]
          },
          "metadata": {
            "tags": []
          },
          "execution_count": 6
        }
      ]
    },
    {
      "cell_type": "code",
      "metadata": {
        "id": "OxKl41odW5Py",
        "colab": {
          "base_uri": "https://localhost:8080/",
          "height": 331
        },
        "outputId": "669ff44f-811d-4891-db12-df94919df611"
      },
      "source": [
        "chicago_crime.describe()"
      ],
      "execution_count": 7,
      "outputs": [
        {
          "output_type": "execute_result",
          "data": {
            "text/html": [
              "<div>\n",
              "<style scoped>\n",
              "    .dataframe tbody tr th:only-of-type {\n",
              "        vertical-align: middle;\n",
              "    }\n",
              "\n",
              "    .dataframe tbody tr th {\n",
              "        vertical-align: top;\n",
              "    }\n",
              "\n",
              "    .dataframe thead th {\n",
              "        text-align: right;\n",
              "    }\n",
              "</style>\n",
              "<table border=\"1\" class=\"dataframe\">\n",
              "  <thead>\n",
              "    <tr style=\"text-align: right;\">\n",
              "      <th></th>\n",
              "      <th>Unnamed: 0</th>\n",
              "      <th>ID</th>\n",
              "      <th>Beat</th>\n",
              "      <th>District</th>\n",
              "      <th>Ward</th>\n",
              "      <th>Community Area</th>\n",
              "      <th>X Coordinate</th>\n",
              "      <th>Y Coordinate</th>\n",
              "      <th>Year</th>\n",
              "      <th>Latitude</th>\n",
              "      <th>Longitude</th>\n",
              "    </tr>\n",
              "  </thead>\n",
              "  <tbody>\n",
              "    <tr>\n",
              "      <th>count</th>\n",
              "      <td>1.456714e+06</td>\n",
              "      <td>1.456714e+06</td>\n",
              "      <td>1.456714e+06</td>\n",
              "      <td>1.456713e+06</td>\n",
              "      <td>1.456700e+06</td>\n",
              "      <td>1.456674e+06</td>\n",
              "      <td>1.419631e+06</td>\n",
              "      <td>1.419631e+06</td>\n",
              "      <td>1.456714e+06</td>\n",
              "      <td>1.419631e+06</td>\n",
              "      <td>1.419631e+06</td>\n",
              "    </tr>\n",
              "    <tr>\n",
              "      <th>mean</th>\n",
              "      <td>3.308606e+06</td>\n",
              "      <td>9.597550e+06</td>\n",
              "      <td>1.150644e+03</td>\n",
              "      <td>1.125920e+01</td>\n",
              "      <td>2.287027e+01</td>\n",
              "      <td>3.745632e+01</td>\n",
              "      <td>1.164398e+06</td>\n",
              "      <td>1.885523e+06</td>\n",
              "      <td>2.013897e+03</td>\n",
              "      <td>4.184147e+01</td>\n",
              "      <td>-8.767224e+01</td>\n",
              "    </tr>\n",
              "    <tr>\n",
              "      <th>std</th>\n",
              "      <td>1.235350e+06</td>\n",
              "      <td>8.083505e+05</td>\n",
              "      <td>6.916466e+02</td>\n",
              "      <td>6.904691e+00</td>\n",
              "      <td>1.380589e+01</td>\n",
              "      <td>2.144029e+01</td>\n",
              "      <td>1.850835e+04</td>\n",
              "      <td>3.424775e+04</td>\n",
              "      <td>1.449584e+00</td>\n",
              "      <td>9.430126e-02</td>\n",
              "      <td>6.661726e-02</td>\n",
              "    </tr>\n",
              "    <tr>\n",
              "      <th>min</th>\n",
              "      <td>3.000000e+00</td>\n",
              "      <td>2.022400e+04</td>\n",
              "      <td>1.110000e+02</td>\n",
              "      <td>1.000000e+00</td>\n",
              "      <td>1.000000e+00</td>\n",
              "      <td>0.000000e+00</td>\n",
              "      <td>0.000000e+00</td>\n",
              "      <td>0.000000e+00</td>\n",
              "      <td>2.012000e+03</td>\n",
              "      <td>3.661945e+01</td>\n",
              "      <td>-9.168657e+01</td>\n",
              "    </tr>\n",
              "    <tr>\n",
              "      <th>25%</th>\n",
              "      <td>2.698636e+06</td>\n",
              "      <td>9.002709e+06</td>\n",
              "      <td>6.130000e+02</td>\n",
              "      <td>6.000000e+00</td>\n",
              "      <td>1.000000e+01</td>\n",
              "      <td>2.300000e+01</td>\n",
              "      <td>1.152544e+06</td>\n",
              "      <td>1.858762e+06</td>\n",
              "      <td>2.013000e+03</td>\n",
              "      <td>4.176787e+01</td>\n",
              "      <td>-8.771528e+01</td>\n",
              "    </tr>\n",
              "    <tr>\n",
              "      <th>50%</th>\n",
              "      <td>3.063654e+06</td>\n",
              "      <td>9.605776e+06</td>\n",
              "      <td>1.024000e+03</td>\n",
              "      <td>1.000000e+01</td>\n",
              "      <td>2.300000e+01</td>\n",
              "      <td>3.200000e+01</td>\n",
              "      <td>1.166021e+06</td>\n",
              "      <td>1.891502e+06</td>\n",
              "      <td>2.014000e+03</td>\n",
              "      <td>4.185797e+01</td>\n",
              "      <td>-8.766613e+01</td>\n",
              "    </tr>\n",
              "    <tr>\n",
              "      <th>75%</th>\n",
              "      <td>3.428849e+06</td>\n",
              "      <td>1.022577e+07</td>\n",
              "      <td>1.711000e+03</td>\n",
              "      <td>1.700000e+01</td>\n",
              "      <td>3.400000e+01</td>\n",
              "      <td>5.600000e+01</td>\n",
              "      <td>1.176363e+06</td>\n",
              "      <td>1.908713e+06</td>\n",
              "      <td>2.015000e+03</td>\n",
              "      <td>4.190529e+01</td>\n",
              "      <td>-8.762813e+01</td>\n",
              "    </tr>\n",
              "    <tr>\n",
              "      <th>max</th>\n",
              "      <td>6.253474e+06</td>\n",
              "      <td>1.082788e+07</td>\n",
              "      <td>2.535000e+03</td>\n",
              "      <td>3.100000e+01</td>\n",
              "      <td>5.000000e+01</td>\n",
              "      <td>7.700000e+01</td>\n",
              "      <td>1.205119e+06</td>\n",
              "      <td>1.951573e+06</td>\n",
              "      <td>2.017000e+03</td>\n",
              "      <td>4.202271e+01</td>\n",
              "      <td>-8.752453e+01</td>\n",
              "    </tr>\n",
              "  </tbody>\n",
              "</table>\n",
              "</div>"
            ],
            "text/plain": [
              "         Unnamed: 0            ID  ...      Latitude     Longitude\n",
              "count  1.456714e+06  1.456714e+06  ...  1.419631e+06  1.419631e+06\n",
              "mean   3.308606e+06  9.597550e+06  ...  4.184147e+01 -8.767224e+01\n",
              "std    1.235350e+06  8.083505e+05  ...  9.430126e-02  6.661726e-02\n",
              "min    3.000000e+00  2.022400e+04  ...  3.661945e+01 -9.168657e+01\n",
              "25%    2.698636e+06  9.002709e+06  ...  4.176787e+01 -8.771528e+01\n",
              "50%    3.063654e+06  9.605776e+06  ...  4.185797e+01 -8.766613e+01\n",
              "75%    3.428849e+06  1.022577e+07  ...  4.190529e+01 -8.762813e+01\n",
              "max    6.253474e+06  1.082788e+07  ...  4.202271e+01 -8.752453e+01\n",
              "\n",
              "[8 rows x 11 columns]"
            ]
          },
          "metadata": {
            "tags": []
          },
          "execution_count": 7
        }
      ]
    },
    {
      "cell_type": "code",
      "metadata": {
        "id": "TlHu9xxFW5Py",
        "colab": {
          "base_uri": "https://localhost:8080/",
          "height": 361
        },
        "outputId": "1f3f6abe-1a7a-448b-8894-6ebcd5992417"
      },
      "source": [
        "sns.heatmap(chicago_crime.corr())"
      ],
      "execution_count": 8,
      "outputs": [
        {
          "output_type": "execute_result",
          "data": {
            "text/plain": [
              "<matplotlib.axes._subplots.AxesSubplot at 0x7f0bd9047d68>"
            ]
          },
          "metadata": {
            "tags": []
          },
          "execution_count": 8
        },
        {
          "output_type": "display_data",
          "data": {
            "image/png": "[encoded data removed]",
            "text/plain": [
              "<Figure size 432x288 with 2 Axes>"
            ]
          },
          "metadata": {
            "tags": [],
            "needs_background": "light"
          }
        }
      ]
    },
    {
      "cell_type": "code",
      "metadata": {
        "colab": {
          "base_uri": "https://localhost:8080/",
          "height": 379
        },
        "id": "qpLsY2E-W5Pz",
        "outputId": "5608c597-4da7-46c6-87c6-7d4a7f1d5399"
      },
      "source": [
        "sns.heatmap(chicago_crime.isnull())"
      ],
      "execution_count": 9,
      "outputs": [
        {
          "output_type": "execute_result",
          "data": {
            "text/plain": [
              "<matplotlib.axes._subplots.AxesSubplot at 0x7f0bd6718ef0>"
            ]
          },
          "metadata": {
            "tags": []
          },
          "execution_count": 9
        },
        {
          "output_type": "display_data",
          "data": {
            "image/png": "[encoded data removed]",
            "text/plain": [
              "<Figure size 432x288 with 2 Axes>"
            ]
          },
          "metadata": {
            "tags": [],
            "needs_background": "light"
          }
        }
      ]
    },
    {
      "cell_type": "code",
      "metadata": {
        "id": "Sbuhe4r5uba9"
      },
      "source": [
        "chicago_crime.dropna(inplace=True)"
      ],
      "execution_count": 10,
      "outputs": []
    },
    {
      "cell_type": "code",
      "metadata": {
        "colab": {
          "base_uri": "https://localhost:8080/",
          "height": 307
        },
        "id": "iLmPU6-8W5Pz",
        "outputId": "30367c1f-ea89-417c-af8a-f30061377173"
      },
      "source": [
        "sns.countplot(x='Domestic', data=chicago_crime)"
      ],
      "execution_count": 11,
      "outputs": [
        {
          "output_type": "execute_result",
          "data": {
            "text/plain": [
              "<matplotlib.axes._subplots.AxesSubplot at 0x7f0bf61693c8>"
            ]
          },
          "metadata": {
            "tags": []
          },
          "execution_count": 11
        },
        {
          "output_type": "display_data",
          "data": {
            "image/png": "[encoded data removed]",
            "text/plain": [
              "<Figure size 432x288 with 1 Axes>"
            ]
          },
          "metadata": {
            "tags": [],
            "needs_background": "light"
          }
        }
      ]
    },
    {
      "cell_type": "code",
      "metadata": {
        "colab": {
          "base_uri": "https://localhost:8080/",
          "height": 307
        },
        "id": "dAQklEUtW5P0",
        "outputId": "7ac8d184-3c6e-4a82-dcb5-f69dfb698089"
      },
      "source": [
        "sns.countplot(x='Arrest', data=chicago_crime)"
      ],
      "execution_count": 12,
      "outputs": [
        {
          "output_type": "execute_result",
          "data": {
            "text/plain": [
              "<matplotlib.axes._subplots.AxesSubplot at 0x7f0bd8fa9940>"
            ]
          },
          "metadata": {
            "tags": []
          },
          "execution_count": 12
        },
        {
          "output_type": "display_data",
          "data": {
            "image/png": "[encoded data removed]",
            "text/plain": [
              "<Figure size 432x288 with 1 Axes>"
            ]
          },
          "metadata": {
            "tags": [],
            "needs_background": "light"
          }
        }
      ]
    },
    {
      "cell_type": "code",
      "metadata": {
        "id": "kGIJGBNoW5P0",
        "colab": {
          "base_uri": "https://localhost:8080/"
        },
        "outputId": "4d09981d-5d17-4b95-cdeb-3e2ff13f6049"
      },
      "source": [
        "chicago_crime['Location Description'].nunique(dropna=True)"
      ],
      "execution_count": 13,
      "outputs": [
        {
          "output_type": "execute_result",
          "data": {
            "text/plain": [
              "140"
            ]
          },
          "metadata": {
            "tags": []
          },
          "execution_count": 13
        }
      ]
    },
    {
      "cell_type": "code",
      "metadata": {
        "id": "6W9V05VPW5P1"
      },
      "source": [
        "df=chicago_crime.drop(['Unnamed: 0','ID','FBI Code','IUCR','X Coordinate','Y Coordinate','Updated On','Case Number','District','Latitude','Longitude','Beat',\n",
        "                      'Community Area','Ward','Year','Location'],axis=1)"
      ],
      "execution_count": 14,
      "outputs": []
    },
    {
      "cell_type": "code",
      "metadata": {
        "id": "wlgSqOS-W5P1",
        "colab": {
          "base_uri": "https://localhost:8080/",
          "height": 719
        },
        "outputId": "ba511300-07bf-490d-97f9-fdf62f06c468"
      },
      "source": [
        "df.tail(10)"
      ],
      "execution_count": 15,
      "outputs": [
        {
          "output_type": "execute_result",
          "data": {
            "text/html": [
              "<div>\n",
              "<style scoped>\n",
              "    .dataframe tbody tr th:only-of-type {\n",
              "        vertical-align: middle;\n",
              "    }\n",
              "\n",
              "    .dataframe tbody tr th {\n",
              "        vertical-align: top;\n",
              "    }\n",
              "\n",
              "    .dataframe thead th {\n",
              "        text-align: right;\n",
              "    }\n",
              "</style>\n",
              "<table border=\"1\" class=\"dataframe\">\n",
              "  <thead>\n",
              "    <tr style=\"text-align: right;\">\n",
              "      <th></th>\n",
              "      <th>Date</th>\n",
              "      <th>Block</th>\n",
              "      <th>Primary Type</th>\n",
              "      <th>Description</th>\n",
              "      <th>Location Description</th>\n",
              "      <th>Arrest</th>\n",
              "      <th>Domestic</th>\n",
              "    </tr>\n",
              "  </thead>\n",
              "  <tbody>\n",
              "    <tr>\n",
              "      <th>1456704</th>\n",
              "      <td>05/03/2016 11:30:00 PM</td>\n",
              "      <td>053XX S PULASKI RD</td>\n",
              "      <td>ROBBERY</td>\n",
              "      <td>STRONGARM - NO WEAPON</td>\n",
              "      <td>SIDEWALK</td>\n",
              "      <td>False</td>\n",
              "      <td>False</td>\n",
              "    </tr>\n",
              "    <tr>\n",
              "      <th>1456705</th>\n",
              "      <td>05/03/2016 11:50:00 PM</td>\n",
              "      <td>036XX E 106TH ST</td>\n",
              "      <td>OTHER OFFENSE</td>\n",
              "      <td>FALSE/STOLEN/ALTERED TRP</td>\n",
              "      <td>ALLEY</td>\n",
              "      <td>True</td>\n",
              "      <td>False</td>\n",
              "    </tr>\n",
              "    <tr>\n",
              "      <th>1456706</th>\n",
              "      <td>05/03/2016 10:25:00 PM</td>\n",
              "      <td>071XX S MOZART ST</td>\n",
              "      <td>BATTERY</td>\n",
              "      <td>SIMPLE</td>\n",
              "      <td>SIDEWALK</td>\n",
              "      <td>True</td>\n",
              "      <td>False</td>\n",
              "    </tr>\n",
              "    <tr>\n",
              "      <th>1456707</th>\n",
              "      <td>05/03/2016 11:00:00 PM</td>\n",
              "      <td>085XX S MAY ST</td>\n",
              "      <td>ROBBERY</td>\n",
              "      <td>STRONGARM - NO WEAPON</td>\n",
              "      <td>SIDEWALK</td>\n",
              "      <td>False</td>\n",
              "      <td>False</td>\n",
              "    </tr>\n",
              "    <tr>\n",
              "      <th>1456708</th>\n",
              "      <td>05/03/2016 11:28:00 PM</td>\n",
              "      <td>088XX S LAFLIN ST</td>\n",
              "      <td>BATTERY</td>\n",
              "      <td>AGGRAVATED: HANDGUN</td>\n",
              "      <td>STREET</td>\n",
              "      <td>False</td>\n",
              "      <td>False</td>\n",
              "    </tr>\n",
              "    <tr>\n",
              "      <th>1456709</th>\n",
              "      <td>05/03/2016 11:33:00 PM</td>\n",
              "      <td>026XX W 23RD PL</td>\n",
              "      <td>BATTERY</td>\n",
              "      <td>DOMESTIC BATTERY SIMPLE</td>\n",
              "      <td>APARTMENT</td>\n",
              "      <td>True</td>\n",
              "      <td>True</td>\n",
              "    </tr>\n",
              "    <tr>\n",
              "      <th>1456710</th>\n",
              "      <td>05/03/2016 11:30:00 PM</td>\n",
              "      <td>073XX S HARVARD AVE</td>\n",
              "      <td>CRIMINAL DAMAGE</td>\n",
              "      <td>TO PROPERTY</td>\n",
              "      <td>APARTMENT</td>\n",
              "      <td>True</td>\n",
              "      <td>True</td>\n",
              "    </tr>\n",
              "    <tr>\n",
              "      <th>1456711</th>\n",
              "      <td>05/03/2016 12:15:00 AM</td>\n",
              "      <td>024XX W 63RD ST</td>\n",
              "      <td>BATTERY</td>\n",
              "      <td>AGGRAVATED: HANDGUN</td>\n",
              "      <td>SIDEWALK</td>\n",
              "      <td>False</td>\n",
              "      <td>False</td>\n",
              "    </tr>\n",
              "    <tr>\n",
              "      <th>1456712</th>\n",
              "      <td>05/03/2016 09:07:00 PM</td>\n",
              "      <td>082XX S EXCHANGE AVE</td>\n",
              "      <td>BATTERY</td>\n",
              "      <td>DOMESTIC BATTERY SIMPLE</td>\n",
              "      <td>SIDEWALK</td>\n",
              "      <td>False</td>\n",
              "      <td>True</td>\n",
              "    </tr>\n",
              "    <tr>\n",
              "      <th>1456713</th>\n",
              "      <td>05/03/2016 11:38:00 PM</td>\n",
              "      <td>001XX E 75TH ST</td>\n",
              "      <td>OTHER OFFENSE</td>\n",
              "      <td>OTHER WEAPONS VIOLATION</td>\n",
              "      <td>PARKING LOT/GARAGE(NON.RESID.)</td>\n",
              "      <td>True</td>\n",
              "      <td>False</td>\n",
              "    </tr>\n",
              "  </tbody>\n",
              "</table>\n",
              "</div>"
            ],
            "text/plain": [
              "                           Date                 Block  ... Arrest Domestic\n",
              "1456704  05/03/2016 11:30:00 PM    053XX S PULASKI RD  ...  False    False\n",
              "1456705  05/03/2016 11:50:00 PM      036XX E 106TH ST  ...   True    False\n",
              "1456706  05/03/2016 10:25:00 PM     071XX S MOZART ST  ...   True    False\n",
              "1456707  05/03/2016 11:00:00 PM        085XX S MAY ST  ...  False    False\n",
              "1456708  05/03/2016 11:28:00 PM     088XX S LAFLIN ST  ...  False    False\n",
              "1456709  05/03/2016 11:33:00 PM       026XX W 23RD PL  ...   True     True\n",
              "1456710  05/03/2016 11:30:00 PM   073XX S HARVARD AVE  ...   True     True\n",
              "1456711  05/03/2016 12:15:00 AM       024XX W 63RD ST  ...  False    False\n",
              "1456712  05/03/2016 09:07:00 PM  082XX S EXCHANGE AVE  ...  False     True\n",
              "1456713  05/03/2016 11:38:00 PM       001XX E 75TH ST  ...   True    False\n",
              "\n",
              "[10 rows x 7 columns]"
            ]
          },
          "metadata": {
            "tags": []
          },
          "execution_count": 15
        }
      ]
    },
    {
      "cell_type": "markdown",
      "metadata": {
        "id": "8tNOJnfSW5P1"
      },
      "source": [
        "## conversion of the date into a datetime format"
      ]
    },
    {
      "cell_type": "code",
      "metadata": {
        "id": "ND2_irFKW5P1"
      },
      "source": [
        "df.Date =pd.to_datetime(df.Date, format ='%m/%d/%Y %I:%M:%S %p')"
      ],
      "execution_count": 16,
      "outputs": []
    },
    {
      "cell_type": "code",
      "metadata": {
        "id": "li4N1kz6W5P1"
      },
      "source": [
        "df.index =pd.DatetimeIndex(df.Date)"
      ],
      "execution_count": 17,
      "outputs": []
    },
    {
      "cell_type": "code",
      "metadata": {
        "id": "IYPgQUFyW5P1",
        "colab": {
          "base_uri": "https://localhost:8080/"
        },
        "outputId": "7dcffa8c-ef32-472b-b565-1a4388da24ff"
      },
      "source": [
        "df['Date'].unique()"
      ],
      "execution_count": 18,
      "outputs": [
        {
          "output_type": "execute_result",
          "data": {
            "text/plain": [
              "array(['2016-05-03T23:40:00.000000000', '2016-05-03T21:40:00.000000000',\n",
              "       '2016-05-03T23:31:00.000000000', ...,\n",
              "       '2016-05-03T23:28:00.000000000', '2016-05-03T23:33:00.000000000',\n",
              "       '2016-05-03T21:07:00.000000000'], dtype='datetime64[ns]')"
            ]
          },
          "metadata": {
            "tags": []
          },
          "execution_count": 18
        }
      ]
    },
    {
      "cell_type": "code",
      "metadata": {
        "id": "mwM_S0HVW5P1",
        "colab": {
          "base_uri": "https://localhost:8080/",
          "height": 337
        },
        "outputId": "692b560b-2807-4568-ee88-b56a732e97db"
      },
      "source": [
        "df.head()"
      ],
      "execution_count": 19,
      "outputs": [
        {
          "output_type": "execute_result",
          "data": {
            "text/html": [
              "<div>\n",
              "<style scoped>\n",
              "    .dataframe tbody tr th:only-of-type {\n",
              "        vertical-align: middle;\n",
              "    }\n",
              "\n",
              "    .dataframe tbody tr th {\n",
              "        vertical-align: top;\n",
              "    }\n",
              "\n",
              "    .dataframe thead th {\n",
              "        text-align: right;\n",
              "    }\n",
              "</style>\n",
              "<table border=\"1\" class=\"dataframe\">\n",
              "  <thead>\n",
              "    <tr style=\"text-align: right;\">\n",
              "      <th></th>\n",
              "      <th>Date</th>\n",
              "      <th>Block</th>\n",
              "      <th>Primary Type</th>\n",
              "      <th>Description</th>\n",
              "      <th>Location Description</th>\n",
              "      <th>Arrest</th>\n",
              "      <th>Domestic</th>\n",
              "    </tr>\n",
              "    <tr>\n",
              "      <th>Date</th>\n",
              "      <th></th>\n",
              "      <th></th>\n",
              "      <th></th>\n",
              "      <th></th>\n",
              "      <th></th>\n",
              "      <th></th>\n",
              "      <th></th>\n",
              "    </tr>\n",
              "  </thead>\n",
              "  <tbody>\n",
              "    <tr>\n",
              "      <th>2016-05-03 23:40:00</th>\n",
              "      <td>2016-05-03 23:40:00</td>\n",
              "      <td>013XX S SAWYER AVE</td>\n",
              "      <td>BATTERY</td>\n",
              "      <td>DOMESTIC BATTERY SIMPLE</td>\n",
              "      <td>APARTMENT</td>\n",
              "      <td>True</td>\n",
              "      <td>True</td>\n",
              "    </tr>\n",
              "    <tr>\n",
              "      <th>2016-05-03 21:40:00</th>\n",
              "      <td>2016-05-03 21:40:00</td>\n",
              "      <td>061XX S DREXEL AVE</td>\n",
              "      <td>BATTERY</td>\n",
              "      <td>DOMESTIC BATTERY SIMPLE</td>\n",
              "      <td>RESIDENCE</td>\n",
              "      <td>False</td>\n",
              "      <td>True</td>\n",
              "    </tr>\n",
              "    <tr>\n",
              "      <th>2016-05-03 23:31:00</th>\n",
              "      <td>2016-05-03 23:31:00</td>\n",
              "      <td>053XX W CHICAGO AVE</td>\n",
              "      <td>PUBLIC PEACE VIOLATION</td>\n",
              "      <td>RECKLESS CONDUCT</td>\n",
              "      <td>STREET</td>\n",
              "      <td>False</td>\n",
              "      <td>False</td>\n",
              "    </tr>\n",
              "    <tr>\n",
              "      <th>2016-05-03 22:10:00</th>\n",
              "      <td>2016-05-03 22:10:00</td>\n",
              "      <td>049XX W FULTON ST</td>\n",
              "      <td>BATTERY</td>\n",
              "      <td>SIMPLE</td>\n",
              "      <td>SIDEWALK</td>\n",
              "      <td>False</td>\n",
              "      <td>False</td>\n",
              "    </tr>\n",
              "    <tr>\n",
              "      <th>2016-05-03 22:00:00</th>\n",
              "      <td>2016-05-03 22:00:00</td>\n",
              "      <td>003XX N LOTUS AVE</td>\n",
              "      <td>THEFT</td>\n",
              "      <td>$500 AND UNDER</td>\n",
              "      <td>RESIDENCE</td>\n",
              "      <td>False</td>\n",
              "      <td>True</td>\n",
              "    </tr>\n",
              "  </tbody>\n",
              "</table>\n",
              "</div>"
            ],
            "text/plain": [
              "                                   Date                Block  ... Arrest Domestic\n",
              "Date                                                          ...                \n",
              "2016-05-03 23:40:00 2016-05-03 23:40:00   013XX S SAWYER AVE  ...   True     True\n",
              "2016-05-03 21:40:00 2016-05-03 21:40:00   061XX S DREXEL AVE  ...  False     True\n",
              "2016-05-03 23:31:00 2016-05-03 23:31:00  053XX W CHICAGO AVE  ...  False    False\n",
              "2016-05-03 22:10:00 2016-05-03 22:10:00    049XX W FULTON ST  ...  False    False\n",
              "2016-05-03 22:00:00 2016-05-03 22:00:00    003XX N LOTUS AVE  ...  False     True\n",
              "\n",
              "[5 rows x 7 columns]"
            ]
          },
          "metadata": {
            "tags": []
          },
          "execution_count": 19
        }
      ]
    },
    {
      "cell_type": "code",
      "metadata": {
        "id": "usltARPBW5P2",
        "colab": {
          "base_uri": "https://localhost:8080/"
        },
        "outputId": "6460bbb2-3d70-41ac-f346-134e9ee2da17"
      },
      "source": [
        "df['Primary Type'].value_counts()"
      ],
      "execution_count": 20,
      "outputs": [
        {
          "output_type": "execute_result",
          "data": {
            "text/plain": [
              "THEFT                                321950\n",
              "BATTERY                              258941\n",
              "CRIMINAL DAMAGE                      152812\n",
              "NARCOTICS                            131177\n",
              "ASSAULT                               89508\n",
              "OTHER OFFENSE                         85361\n",
              "BURGLARY                              81668\n",
              "DECEPTIVE PRACTICE                    67609\n",
              "MOTOR VEHICLE THEFT                   59856\n",
              "ROBBERY                               56092\n",
              "CRIMINAL TRESPASS                     36429\n",
              "WEAPONS VIOLATION                     16983\n",
              "PUBLIC PEACE VIOLATION                13015\n",
              "OFFENSE INVOLVING CHILDREN            10590\n",
              "PROSTITUTION                           7567\n",
              "CRIM SEXUAL ASSAULT                    6298\n",
              "INTERFERENCE WITH PUBLIC OFFICER       6136\n",
              "SEX OFFENSE                            4491\n",
              "HOMICIDE                               2590\n",
              "GAMBLING                               2211\n",
              "ARSON                                  2175\n",
              "LIQUOR LAW VIOLATION                   1928\n",
              "KIDNAPPING                             1075\n",
              "STALKING                                774\n",
              "INTIMIDATION                            643\n",
              "OBSCENITY                               169\n",
              "CONCEALED CARRY LICENSE VIOLATION        84\n",
              "NON-CRIMINAL                             80\n",
              "PUBLIC INDECENCY                         61\n",
              "NON - CRIMINAL                           38\n",
              "OTHER NARCOTIC VIOLATION                 30\n",
              "HUMAN TRAFFICKING                        20\n",
              "NON-CRIMINAL (SUBJECT SPECIFIED)          4\n",
              "Name: Primary Type, dtype: int64"
            ]
          },
          "metadata": {
            "tags": []
          },
          "execution_count": 20
        }
      ]
    },
    {
      "cell_type": "code",
      "metadata": {
        "id": "ZOdpjj9GW5P2",
        "colab": {
          "base_uri": "https://localhost:8080/"
        },
        "outputId": "7f0b844e-f887-4381-cfde-086def5d215f"
      },
      "source": [
        "df['Description'].value_counts()"
      ],
      "execution_count": 21,
      "outputs": [
        {
          "output_type": "execute_result",
          "data": {
            "text/plain": [
              "SIMPLE                            147845\n",
              "$500 AND UNDER                    132848\n",
              "DOMESTIC BATTERY SIMPLE           128283\n",
              "TO VEHICLE                         74572\n",
              "OVER $500                          72957\n",
              "                                   ...  \n",
              "VIOLATION OF SUMMARY CLOSURE           1\n",
              "ATTEMPT AGG: OTHER FIREARM             1\n",
              "POSS. KEYS OR DEV.TO COIN MACH         1\n",
              "REFUSING TO AID AN OFFICER             1\n",
              "EMPLOY MINOR                           1\n",
              "Name: Description, Length: 340, dtype: int64"
            ]
          },
          "metadata": {
            "tags": []
          },
          "execution_count": 21
        }
      ]
    },
    {
      "cell_type": "markdown",
      "metadata": {
        "id": "YGUIK7RLW5P3"
      },
      "source": [
        "## finding the top 10 crimes that was comitted"
      ]
    },
    {
      "cell_type": "code",
      "metadata": {
        "id": "ai2ky6SzW5P3",
        "colab": {
          "base_uri": "https://localhost:8080/"
        },
        "outputId": "30c48cbe-bf85-40d2-fcc3-fded1d5a4ec3"
      },
      "source": [
        "df['Primary Type'].value_counts().iloc[:10]"
      ],
      "execution_count": 22,
      "outputs": [
        {
          "output_type": "execute_result",
          "data": {
            "text/plain": [
              "THEFT                  321950\n",
              "BATTERY                258941\n",
              "CRIMINAL DAMAGE        152812\n",
              "NARCOTICS              131177\n",
              "ASSAULT                 89508\n",
              "OTHER OFFENSE           85361\n",
              "BURGLARY                81668\n",
              "DECEPTIVE PRACTICE      67609\n",
              "MOTOR VEHICLE THEFT     59856\n",
              "ROBBERY                 56092\n",
              "Name: Primary Type, dtype: int64"
            ]
          },
          "metadata": {
            "tags": []
          },
          "execution_count": 22
        }
      ]
    },
    {
      "cell_type": "code",
      "metadata": {
        "id": "MuT_7YlLW5P3"
      },
      "source": [
        "order_num =df['Primary Type'].value_counts().iloc[:10].index"
      ],
      "execution_count": 23,
      "outputs": []
    },
    {
      "cell_type": "code",
      "metadata": {
        "id": "u85fD81LW5P3",
        "colab": {
          "base_uri": "https://localhost:8080/",
          "height": 297
        },
        "outputId": "7d2421b5-b70b-4f4b-c166-2c27996637d6"
      },
      "source": [
        "sns.countplot(y='Primary Type', data=df, order=order_num)"
      ],
      "execution_count": 24,
      "outputs": [
        {
          "output_type": "execute_result",
          "data": {
            "text/plain": [
              "<matplotlib.axes._subplots.AxesSubplot at 0x7f0bd4ed44a8>"
            ]
          },
          "metadata": {
            "tags": []
          },
          "execution_count": 24
        },
        {
          "output_type": "display_data",
          "data": {
            "image/png": "[encoded data removed]",
            "text/plain": [
              "<Figure size 432x288 with 1 Axes>"
            ]
          },
          "metadata": {
            "tags": [],
            "needs_background": "light"
          }
        }
      ]
    },
    {
      "cell_type": "markdown",
      "metadata": {
        "id": "jDxzjHPfW5P3"
      },
      "source": [
        "## finding how many of the crimes are street base,(location)"
      ]
    },
    {
      "cell_type": "code",
      "metadata": {
        "id": "wJ4G4PI4W5P3",
        "colab": {
          "base_uri": "https://localhost:8080/",
          "height": 405
        },
        "outputId": "31cc0adc-03f0-41b4-99c2-4ce8dcfae7b6"
      },
      "source": [
        "order_num2 =df['Location Description'].value_counts().iloc[:10].index\n",
        "plt.figure(figsize=(10,6))\n",
        "sns.countplot(y='Location Description', data=df, order =order_num2)"
      ],
      "execution_count": 25,
      "outputs": [
        {
          "output_type": "execute_result",
          "data": {
            "text/plain": [
              "<matplotlib.axes._subplots.AxesSubplot at 0x7f0bf6169198>"
            ]
          },
          "metadata": {
            "tags": []
          },
          "execution_count": 25
        },
        {
          "output_type": "display_data",
          "data": {
            "image/png": "[encoded data removed]",
            "text/plain": [
              "<Figure size 720x432 with 1 Axes>"
            ]
          },
          "metadata": {
            "tags": [],
            "needs_background": "light"
          }
        }
      ]
    },
    {
      "cell_type": "markdown",
      "metadata": {
        "id": "3etZYd7VW5P3"
      },
      "source": [
        "## finding the number of specific crime that occured in a specific month"
      ]
    },
    {
      "cell_type": "code",
      "metadata": {
        "id": "OWv1HvNPW5P3",
        "colab": {
          "base_uri": "https://localhost:8080/"
        },
        "outputId": "e41c38da-3dc3-4ab3-9b7f-bb803199556e"
      },
      "source": [
        "df.resample('Y').size()"
      ],
      "execution_count": 26,
      "outputs": [
        {
          "output_type": "execute_result",
          "data": {
            "text/plain": [
              "Date\n",
              "2012-12-31    334397\n",
              "2013-12-31    304267\n",
              "2014-12-31    269329\n",
              "2015-12-31    259610\n",
              "2016-12-31    250732\n",
              "2017-12-31        30\n",
              "Freq: A-DEC, dtype: int64"
            ]
          },
          "metadata": {
            "tags": []
          },
          "execution_count": 26
        }
      ]
    },
    {
      "cell_type": "code",
      "metadata": {
        "id": "JgWRQwrwW5P3",
        "colab": {
          "base_uri": "https://localhost:8080/",
          "height": 313
        },
        "outputId": "04a41b49-29bf-4a71-8ea9-744f23ea4750"
      },
      "source": [
        "plt.plot(df.resample('Y').size())\n",
        "plt.title('Crimes per Year')\n",
        "plt.xlabel('Year')\n",
        "plt.ylabel('Number of Crimes in a year')"
      ],
      "execution_count": 27,
      "outputs": [
        {
          "output_type": "execute_result",
          "data": {
            "text/plain": [
              "Text(0, 0.5, 'Number of Crimes in a year')"
            ]
          },
          "metadata": {
            "tags": []
          },
          "execution_count": 27
        },
        {
          "output_type": "display_data",
          "data": {
            "image/png": "[encoded data removed]",
            "text/plain": [
              "<Figure size 432x288 with 1 Axes>"
            ]
          },
          "metadata": {
            "tags": [],
            "needs_background": "light"
          }
        }
      ]
    },
    {
      "cell_type": "code",
      "metadata": {
        "id": "-EVAtxCXW5P3",
        "colab": {
          "base_uri": "https://localhost:8080/"
        },
        "outputId": "afd459a2-d9db-414d-e67e-a11a0cdcdb14"
      },
      "source": [
        "df.resample('M').size()"
      ],
      "execution_count": 28,
      "outputs": [
        {
          "output_type": "execute_result",
          "data": {
            "text/plain": [
              "Date\n",
              "2012-01-31    26006\n",
              "2012-02-29    23762\n",
              "2012-03-31    28461\n",
              "2012-04-30    27085\n",
              "2012-05-31    29986\n",
              "              ...  \n",
              "2016-09-30    22402\n",
              "2016-10-31    22530\n",
              "2016-11-30    20428\n",
              "2016-12-31    19070\n",
              "2017-01-31       30\n",
              "Freq: M, Length: 61, dtype: int64"
            ]
          },
          "metadata": {
            "tags": []
          },
          "execution_count": 28
        }
      ]
    },
    {
      "cell_type": "code",
      "metadata": {
        "id": "HVwvhsBUW5P3",
        "colab": {
          "base_uri": "https://localhost:8080/",
          "height": 313
        },
        "outputId": "326995b5-f84f-49a7-bedf-a75b03cf57c4"
      },
      "source": [
        "plt.plot(df.resample('M').size())\n",
        "plt.title('Crimes per Month')\n",
        "plt.xlabel('months')\n",
        "plt.ylabel('Number of Crimes in a month')"
      ],
      "execution_count": 29,
      "outputs": [
        {
          "output_type": "execute_result",
          "data": {
            "text/plain": [
              "Text(0, 0.5, 'Number of Crimes in a month')"
            ]
          },
          "metadata": {
            "tags": []
          },
          "execution_count": 29
        },
        {
          "output_type": "display_data",
          "data": {
            "image/png": "[encoded data removed]",
            "text/plain": [
              "<Figure size 432x288 with 1 Axes>"
            ]
          },
          "metadata": {
            "tags": [],
            "needs_background": "light"
          }
        }
      ]
    },
    {
      "cell_type": "code",
      "metadata": {
        "id": "-jov1EpXW5P3",
        "colab": {
          "base_uri": "https://localhost:8080/",
          "height": 313
        },
        "outputId": "41d03550-5f58-4314-d1fa-66e61e921805"
      },
      "source": [
        "plt.plot(df.resample('d').size())\n",
        "plt.title('Crimes per Day')\n",
        "plt.xlabel('day')\n",
        "plt.ylabel('Number of Crimes in a day')"
      ],
      "execution_count": 30,
      "outputs": [
        {
          "output_type": "execute_result",
          "data": {
            "text/plain": [
              "Text(0, 0.5, 'Number of Crimes in a day')"
            ]
          },
          "metadata": {
            "tags": []
          },
          "execution_count": 30
        },
        {
          "output_type": "display_data",
          "data": {
            "image/png": "[encoded data removed]",
            "text/plain": [
              "<Figure size 432x288 with 1 Axes>"
            ]
          },
          "metadata": {
            "tags": [],
            "needs_background": "light"
          }
        }
      ]
    },
    {
      "cell_type": "code",
      "metadata": {
        "id": "FrZAnjIgW5P3",
        "colab": {
          "base_uri": "https://localhost:8080/",
          "height": 313
        },
        "outputId": "b1f782e3-8a83-4206-9712-ecc54f3e2363"
      },
      "source": [
        "plt.plot(df.resample('Q').size())\n",
        "plt.title('Crimes per Quaterly')\n",
        "plt.xlabel('Quater')\n",
        "plt.ylabel('Number of Crimes in a Quater')"
      ],
      "execution_count": 31,
      "outputs": [
        {
          "output_type": "execute_result",
          "data": {
            "text/plain": [
              "Text(0, 0.5, 'Number of Crimes in a Quater')"
            ]
          },
          "metadata": {
            "tags": []
          },
          "execution_count": 31
        },
        {
          "output_type": "display_data",
          "data": {
            "image/png": "[encoded data removed]",
            "text/plain": [
              "<Figure size 432x288 with 1 Axes>"
            ]
          },
          "metadata": {
            "tags": [],
            "needs_background": "light"
          }
        }
      ]
    },
    {
      "cell_type": "code",
      "metadata": {
        "id": "lLfOfIwjW5P3"
      },
      "source": [
        "df_1 =df.resample('M').size().reset_index()"
      ],
      "execution_count": 32,
      "outputs": []
    },
    {
      "cell_type": "code",
      "metadata": {
        "id": "cxChpaa3W5P3",
        "colab": {
          "base_uri": "https://localhost:8080/",
          "height": 415
        },
        "outputId": "bc340dde-cef8-4f00-b1a6-46d171f294e3"
      },
      "source": [
        "df_1"
      ],
      "execution_count": 33,
      "outputs": [
        {
          "output_type": "execute_result",
          "data": {
            "text/html": [
              "<div>\n",
              "<style scoped>\n",
              "    .dataframe tbody tr th:only-of-type {\n",
              "        vertical-align: middle;\n",
              "    }\n",
              "\n",
              "    .dataframe tbody tr th {\n",
              "        vertical-align: top;\n",
              "    }\n",
              "\n",
              "    .dataframe thead th {\n",
              "        text-align: right;\n",
              "    }\n",
              "</style>\n",
              "<table border=\"1\" class=\"dataframe\">\n",
              "  <thead>\n",
              "    <tr style=\"text-align: right;\">\n",
              "      <th></th>\n",
              "      <th>Date</th>\n",
              "      <th>0</th>\n",
              "    </tr>\n",
              "  </thead>\n",
              "  <tbody>\n",
              "    <tr>\n",
              "      <th>0</th>\n",
              "      <td>2012-01-31</td>\n",
              "      <td>26006</td>\n",
              "    </tr>\n",
              "    <tr>\n",
              "      <th>1</th>\n",
              "      <td>2012-02-29</td>\n",
              "      <td>23762</td>\n",
              "    </tr>\n",
              "    <tr>\n",
              "      <th>2</th>\n",
              "      <td>2012-03-31</td>\n",
              "      <td>28461</td>\n",
              "    </tr>\n",
              "    <tr>\n",
              "      <th>3</th>\n",
              "      <td>2012-04-30</td>\n",
              "      <td>27085</td>\n",
              "    </tr>\n",
              "    <tr>\n",
              "      <th>4</th>\n",
              "      <td>2012-05-31</td>\n",
              "      <td>29986</td>\n",
              "    </tr>\n",
              "    <tr>\n",
              "      <th>...</th>\n",
              "      <td>...</td>\n",
              "      <td>...</td>\n",
              "    </tr>\n",
              "    <tr>\n",
              "      <th>56</th>\n",
              "      <td>2016-09-30</td>\n",
              "      <td>22402</td>\n",
              "    </tr>\n",
              "    <tr>\n",
              "      <th>57</th>\n",
              "      <td>2016-10-31</td>\n",
              "      <td>22530</td>\n",
              "    </tr>\n",
              "    <tr>\n",
              "      <th>58</th>\n",
              "      <td>2016-11-30</td>\n",
              "      <td>20428</td>\n",
              "    </tr>\n",
              "    <tr>\n",
              "      <th>59</th>\n",
              "      <td>2016-12-31</td>\n",
              "      <td>19070</td>\n",
              "    </tr>\n",
              "    <tr>\n",
              "      <th>60</th>\n",
              "      <td>2017-01-31</td>\n",
              "      <td>30</td>\n",
              "    </tr>\n",
              "  </tbody>\n",
              "</table>\n",
              "<p>61 rows × 2 columns</p>\n",
              "</div>"
            ],
            "text/plain": [
              "         Date      0\n",
              "0  2012-01-31  26006\n",
              "1  2012-02-29  23762\n",
              "2  2012-03-31  28461\n",
              "3  2012-04-30  27085\n",
              "4  2012-05-31  29986\n",
              "..        ...    ...\n",
              "56 2016-09-30  22402\n",
              "57 2016-10-31  22530\n",
              "58 2016-11-30  20428\n",
              "59 2016-12-31  19070\n",
              "60 2017-01-31     30\n",
              "\n",
              "[61 rows x 2 columns]"
            ]
          },
          "metadata": {
            "tags": []
          },
          "execution_count": 33
        }
      ]
    },
    {
      "cell_type": "code",
      "metadata": {
        "id": "arqLkEiRW5P3"
      },
      "source": [
        "df_1.columns =['Date','Total Crimes']"
      ],
      "execution_count": 34,
      "outputs": []
    },
    {
      "cell_type": "code",
      "metadata": {
        "id": "lMFzF25tW5P3",
        "colab": {
          "base_uri": "https://localhost:8080/",
          "height": 415
        },
        "outputId": "805112ad-9ab6-415e-87e2-2614a4f96e91"
      },
      "source": [
        "df_1"
      ],
      "execution_count": 35,
      "outputs": [
        {
          "output_type": "execute_result",
          "data": {
            "text/html": [
              "<div>\n",
              "<style scoped>\n",
              "    .dataframe tbody tr th:only-of-type {\n",
              "        vertical-align: middle;\n",
              "    }\n",
              "\n",
              "    .dataframe tbody tr th {\n",
              "        vertical-align: top;\n",
              "    }\n",
              "\n",
              "    .dataframe thead th {\n",
              "        text-align: right;\n",
              "    }\n",
              "</style>\n",
              "<table border=\"1\" class=\"dataframe\">\n",
              "  <thead>\n",
              "    <tr style=\"text-align: right;\">\n",
              "      <th></th>\n",
              "      <th>Date</th>\n",
              "      <th>Total Crimes</th>\n",
              "    </tr>\n",
              "  </thead>\n",
              "  <tbody>\n",
              "    <tr>\n",
              "      <th>0</th>\n",
              "      <td>2012-01-31</td>\n",
              "      <td>26006</td>\n",
              "    </tr>\n",
              "    <tr>\n",
              "      <th>1</th>\n",
              "      <td>2012-02-29</td>\n",
              "      <td>23762</td>\n",
              "    </tr>\n",
              "    <tr>\n",
              "      <th>2</th>\n",
              "      <td>2012-03-31</td>\n",
              "      <td>28461</td>\n",
              "    </tr>\n",
              "    <tr>\n",
              "      <th>3</th>\n",
              "      <td>2012-04-30</td>\n",
              "      <td>27085</td>\n",
              "    </tr>\n",
              "    <tr>\n",
              "      <th>4</th>\n",
              "      <td>2012-05-31</td>\n",
              "      <td>29986</td>\n",
              "    </tr>\n",
              "    <tr>\n",
              "      <th>...</th>\n",
              "      <td>...</td>\n",
              "      <td>...</td>\n",
              "    </tr>\n",
              "    <tr>\n",
              "      <th>56</th>\n",
              "      <td>2016-09-30</td>\n",
              "      <td>22402</td>\n",
              "    </tr>\n",
              "    <tr>\n",
              "      <th>57</th>\n",
              "      <td>2016-10-31</td>\n",
              "      <td>22530</td>\n",
              "    </tr>\n",
              "    <tr>\n",
              "      <th>58</th>\n",
              "      <td>2016-11-30</td>\n",
              "      <td>20428</td>\n",
              "    </tr>\n",
              "    <tr>\n",
              "      <th>59</th>\n",
              "      <td>2016-12-31</td>\n",
              "      <td>19070</td>\n",
              "    </tr>\n",
              "    <tr>\n",
              "      <th>60</th>\n",
              "      <td>2017-01-31</td>\n",
              "      <td>30</td>\n",
              "    </tr>\n",
              "  </tbody>\n",
              "</table>\n",
              "<p>61 rows × 2 columns</p>\n",
              "</div>"
            ],
            "text/plain": [
              "         Date  Total Crimes\n",
              "0  2012-01-31         26006\n",
              "1  2012-02-29         23762\n",
              "2  2012-03-31         28461\n",
              "3  2012-04-30         27085\n",
              "4  2012-05-31         29986\n",
              "..        ...           ...\n",
              "56 2016-09-30         22402\n",
              "57 2016-10-31         22530\n",
              "58 2016-11-30         20428\n",
              "59 2016-12-31         19070\n",
              "60 2017-01-31            30\n",
              "\n",
              "[61 rows x 2 columns]"
            ]
          },
          "metadata": {
            "tags": []
          },
          "execution_count": 35
        }
      ]
    },
    {
      "cell_type": "code",
      "metadata": {
        "id": "OrcmmKuXW5P3"
      },
      "source": [
        "df_2 =df_1.rename(columns ={'Date':'ds','Total Crimes':'y' })"
      ],
      "execution_count": 36,
      "outputs": []
    },
    {
      "cell_type": "code",
      "metadata": {
        "id": "RMS0Jm52W5P4",
        "colab": {
          "base_uri": "https://localhost:8080/",
          "height": 415
        },
        "outputId": "ffd3e503-c8fd-490f-a8fe-af6b354c988c"
      },
      "source": [
        "df_2[['ds','y']]"
      ],
      "execution_count": 37,
      "outputs": [
        {
          "output_type": "execute_result",
          "data": {
            "text/html": [
              "<div>\n",
              "<style scoped>\n",
              "    .dataframe tbody tr th:only-of-type {\n",
              "        vertical-align: middle;\n",
              "    }\n",
              "\n",
              "    .dataframe tbody tr th {\n",
              "        vertical-align: top;\n",
              "    }\n",
              "\n",
              "    .dataframe thead th {\n",
              "        text-align: right;\n",
              "    }\n",
              "</style>\n",
              "<table border=\"1\" class=\"dataframe\">\n",
              "  <thead>\n",
              "    <tr style=\"text-align: right;\">\n",
              "      <th></th>\n",
              "      <th>ds</th>\n",
              "      <th>y</th>\n",
              "    </tr>\n",
              "  </thead>\n",
              "  <tbody>\n",
              "    <tr>\n",
              "      <th>0</th>\n",
              "      <td>2012-01-31</td>\n",
              "      <td>26006</td>\n",
              "    </tr>\n",
              "    <tr>\n",
              "      <th>1</th>\n",
              "      <td>2012-02-29</td>\n",
              "      <td>23762</td>\n",
              "    </tr>\n",
              "    <tr>\n",
              "      <th>2</th>\n",
              "      <td>2012-03-31</td>\n",
              "      <td>28461</td>\n",
              "    </tr>\n",
              "    <tr>\n",
              "      <th>3</th>\n",
              "      <td>2012-04-30</td>\n",
              "      <td>27085</td>\n",
              "    </tr>\n",
              "    <tr>\n",
              "      <th>4</th>\n",
              "      <td>2012-05-31</td>\n",
              "      <td>29986</td>\n",
              "    </tr>\n",
              "    <tr>\n",
              "      <th>...</th>\n",
              "      <td>...</td>\n",
              "      <td>...</td>\n",
              "    </tr>\n",
              "    <tr>\n",
              "      <th>56</th>\n",
              "      <td>2016-09-30</td>\n",
              "      <td>22402</td>\n",
              "    </tr>\n",
              "    <tr>\n",
              "      <th>57</th>\n",
              "      <td>2016-10-31</td>\n",
              "      <td>22530</td>\n",
              "    </tr>\n",
              "    <tr>\n",
              "      <th>58</th>\n",
              "      <td>2016-11-30</td>\n",
              "      <td>20428</td>\n",
              "    </tr>\n",
              "    <tr>\n",
              "      <th>59</th>\n",
              "      <td>2016-12-31</td>\n",
              "      <td>19070</td>\n",
              "    </tr>\n",
              "    <tr>\n",
              "      <th>60</th>\n",
              "      <td>2017-01-31</td>\n",
              "      <td>30</td>\n",
              "    </tr>\n",
              "  </tbody>\n",
              "</table>\n",
              "<p>61 rows × 2 columns</p>\n",
              "</div>"
            ],
            "text/plain": [
              "           ds      y\n",
              "0  2012-01-31  26006\n",
              "1  2012-02-29  23762\n",
              "2  2012-03-31  28461\n",
              "3  2012-04-30  27085\n",
              "4  2012-05-31  29986\n",
              "..        ...    ...\n",
              "56 2016-09-30  22402\n",
              "57 2016-10-31  22530\n",
              "58 2016-11-30  20428\n",
              "59 2016-12-31  19070\n",
              "60 2017-01-31     30\n",
              "\n",
              "[61 rows x 2 columns]"
            ]
          },
          "metadata": {
            "tags": []
          },
          "execution_count": 37
        }
      ]
    },
    {
      "cell_type": "markdown",
      "metadata": {
        "id": "a2k4EQ9Eoqez"
      },
      "source": [
        "**# Crimes committed in each month from 2012 to 2017**"
      ]
    },
    {
      "cell_type": "code",
      "metadata": {
        "id": "T4j-rJOMW5P4",
        "colab": {
          "base_uri": "https://localhost:8080/",
          "height": 202
        },
        "outputId": "486b4034-62c9-4f27-a9b4-84524c01157b"
      },
      "source": [
        "df_2.head()"
      ],
      "execution_count": 38,
      "outputs": [
        {
          "output_type": "execute_result",
          "data": {
            "text/html": [
              "<div>\n",
              "<style scoped>\n",
              "    .dataframe tbody tr th:only-of-type {\n",
              "        vertical-align: middle;\n",
              "    }\n",
              "\n",
              "    .dataframe tbody tr th {\n",
              "        vertical-align: top;\n",
              "    }\n",
              "\n",
              "    .dataframe thead th {\n",
              "        text-align: right;\n",
              "    }\n",
              "</style>\n",
              "<table border=\"1\" class=\"dataframe\">\n",
              "  <thead>\n",
              "    <tr style=\"text-align: right;\">\n",
              "      <th></th>\n",
              "      <th>ds</th>\n",
              "      <th>y</th>\n",
              "    </tr>\n",
              "  </thead>\n",
              "  <tbody>\n",
              "    <tr>\n",
              "      <th>0</th>\n",
              "      <td>2012-01-31</td>\n",
              "      <td>26006</td>\n",
              "    </tr>\n",
              "    <tr>\n",
              "      <th>1</th>\n",
              "      <td>2012-02-29</td>\n",
              "      <td>23762</td>\n",
              "    </tr>\n",
              "    <tr>\n",
              "      <th>2</th>\n",
              "      <td>2012-03-31</td>\n",
              "      <td>28461</td>\n",
              "    </tr>\n",
              "    <tr>\n",
              "      <th>3</th>\n",
              "      <td>2012-04-30</td>\n",
              "      <td>27085</td>\n",
              "    </tr>\n",
              "    <tr>\n",
              "      <th>4</th>\n",
              "      <td>2012-05-31</td>\n",
              "      <td>29986</td>\n",
              "    </tr>\n",
              "  </tbody>\n",
              "</table>\n",
              "</div>"
            ],
            "text/plain": [
              "          ds      y\n",
              "0 2012-01-31  26006\n",
              "1 2012-02-29  23762\n",
              "2 2012-03-31  28461\n",
              "3 2012-04-30  27085\n",
              "4 2012-05-31  29986"
            ]
          },
          "metadata": {
            "tags": []
          },
          "execution_count": 38
        }
      ]
    },
    {
      "cell_type": "code",
      "metadata": {
        "colab": {
          "base_uri": "https://localhost:8080/",
          "height": 415
        },
        "id": "oUoYKjDW1zd7",
        "outputId": "85ff64a5-095f-481a-bb61-3a1de16c70ce"
      },
      "source": [
        "df_2.sort_values(by =['ds'], ascending=False)"
      ],
      "execution_count": 39,
      "outputs": [
        {
          "output_type": "execute_result",
          "data": {
            "text/html": [
              "<div>\n",
              "<style scoped>\n",
              "    .dataframe tbody tr th:only-of-type {\n",
              "        vertical-align: middle;\n",
              "    }\n",
              "\n",
              "    .dataframe tbody tr th {\n",
              "        vertical-align: top;\n",
              "    }\n",
              "\n",
              "    .dataframe thead th {\n",
              "        text-align: right;\n",
              "    }\n",
              "</style>\n",
              "<table border=\"1\" class=\"dataframe\">\n",
              "  <thead>\n",
              "    <tr style=\"text-align: right;\">\n",
              "      <th></th>\n",
              "      <th>ds</th>\n",
              "      <th>y</th>\n",
              "    </tr>\n",
              "  </thead>\n",
              "  <tbody>\n",
              "    <tr>\n",
              "      <th>60</th>\n",
              "      <td>2017-01-31</td>\n",
              "      <td>30</td>\n",
              "    </tr>\n",
              "    <tr>\n",
              "      <th>59</th>\n",
              "      <td>2016-12-31</td>\n",
              "      <td>19070</td>\n",
              "    </tr>\n",
              "    <tr>\n",
              "      <th>58</th>\n",
              "      <td>2016-11-30</td>\n",
              "      <td>20428</td>\n",
              "    </tr>\n",
              "    <tr>\n",
              "      <th>57</th>\n",
              "      <td>2016-10-31</td>\n",
              "      <td>22530</td>\n",
              "    </tr>\n",
              "    <tr>\n",
              "      <th>56</th>\n",
              "      <td>2016-09-30</td>\n",
              "      <td>22402</td>\n",
              "    </tr>\n",
              "    <tr>\n",
              "      <th>...</th>\n",
              "      <td>...</td>\n",
              "      <td>...</td>\n",
              "    </tr>\n",
              "    <tr>\n",
              "      <th>4</th>\n",
              "      <td>2012-05-31</td>\n",
              "      <td>29986</td>\n",
              "    </tr>\n",
              "    <tr>\n",
              "      <th>3</th>\n",
              "      <td>2012-04-30</td>\n",
              "      <td>27085</td>\n",
              "    </tr>\n",
              "    <tr>\n",
              "      <th>2</th>\n",
              "      <td>2012-03-31</td>\n",
              "      <td>28461</td>\n",
              "    </tr>\n",
              "    <tr>\n",
              "      <th>1</th>\n",
              "      <td>2012-02-29</td>\n",
              "      <td>23762</td>\n",
              "    </tr>\n",
              "    <tr>\n",
              "      <th>0</th>\n",
              "      <td>2012-01-31</td>\n",
              "      <td>26006</td>\n",
              "    </tr>\n",
              "  </tbody>\n",
              "</table>\n",
              "<p>61 rows × 2 columns</p>\n",
              "</div>"
            ],
            "text/plain": [
              "           ds      y\n",
              "60 2017-01-31     30\n",
              "59 2016-12-31  19070\n",
              "58 2016-11-30  20428\n",
              "57 2016-10-31  22530\n",
              "56 2016-09-30  22402\n",
              "..        ...    ...\n",
              "4  2012-05-31  29986\n",
              "3  2012-04-30  27085\n",
              "2  2012-03-31  28461\n",
              "1  2012-02-29  23762\n",
              "0  2012-01-31  26006\n",
              "\n",
              "[61 rows x 2 columns]"
            ]
          },
          "metadata": {
            "tags": []
          },
          "execution_count": 39
        }
      ]
    },
    {
      "cell_type": "code",
      "metadata": {
        "id": "-1A3c0veW5P4"
      },
      "source": [
        " m = Prophet()"
      ],
      "execution_count": 40,
      "outputs": []
    },
    {
      "cell_type": "code",
      "metadata": {
        "id": "2-o8BBbtW5P4",
        "colab": {
          "base_uri": "https://localhost:8080/"
        },
        "outputId": "fef084e5-6fa6-4820-efb8-d93ff52879c6"
      },
      "source": [
        "m.fit(df_2)"
      ],
      "execution_count": 41,
      "outputs": [
        {
          "output_type": "stream",
          "text": [
            "INFO:fbprophet:Disabling weekly seasonality. Run prophet with weekly_seasonality=True to override this.\n",
            "INFO:fbprophet:Disabling daily seasonality. Run prophet with daily_seasonality=True to override this.\n"
          ],
          "name": "stderr"
        },
        {
          "output_type": "execute_result",
          "data": {
            "text/plain": [
              "<fbprophet.forecaster.Prophet at 0x7f0bd4d5dba8>"
            ]
          },
          "metadata": {
            "tags": []
          },
          "execution_count": 41
        }
      ]
    },
    {
      "cell_type": "code",
      "metadata": {
        "id": "Qp-o7IQNW5P4"
      },
      "source": [
        "future =m.make_future_dataframe(periods =1460)"
      ],
      "execution_count": 42,
      "outputs": []
    },
    {
      "cell_type": "code",
      "metadata": {
        "id": "eytBohWMW5P4"
      },
      "source": [
        "forcast =m.predict(future)"
      ],
      "execution_count": 43,
      "outputs": []
    },
    {
      "cell_type": "code",
      "metadata": {
        "id": "1gsiZsGoW5P4",
        "colab": {
          "base_uri": "https://localhost:8080/",
          "height": 213
        },
        "outputId": "cbd69fa9-f203-4c6f-8f12-0e64e7ce10a0"
      },
      "source": [
        "forcast.head(3)"
      ],
      "execution_count": 44,
      "outputs": [
        {
          "output_type": "execute_result",
          "data": {
            "text/html": [
              "<div>\n",
              "<style scoped>\n",
              "    .dataframe tbody tr th:only-of-type {\n",
              "        vertical-align: middle;\n",
              "    }\n",
              "\n",
              "    .dataframe tbody tr th {\n",
              "        vertical-align: top;\n",
              "    }\n",
              "\n",
              "    .dataframe thead th {\n",
              "        text-align: right;\n",
              "    }\n",
              "</style>\n",
              "<table border=\"1\" class=\"dataframe\">\n",
              "  <thead>\n",
              "    <tr style=\"text-align: right;\">\n",
              "      <th></th>\n",
              "      <th>ds</th>\n",
              "      <th>trend</th>\n",
              "      <th>yhat_lower</th>\n",
              "      <th>yhat_upper</th>\n",
              "      <th>trend_lower</th>\n",
              "      <th>trend_upper</th>\n",
              "      <th>additive_terms</th>\n",
              "      <th>additive_terms_lower</th>\n",
              "      <th>additive_terms_upper</th>\n",
              "      <th>yearly</th>\n",
              "      <th>yearly_lower</th>\n",
              "      <th>yearly_upper</th>\n",
              "      <th>multiplicative_terms</th>\n",
              "      <th>multiplicative_terms_lower</th>\n",
              "      <th>multiplicative_terms_upper</th>\n",
              "      <th>yhat</th>\n",
              "    </tr>\n",
              "  </thead>\n",
              "  <tbody>\n",
              "    <tr>\n",
              "      <th>0</th>\n",
              "      <td>2012-01-31</td>\n",
              "      <td>29541.744328</td>\n",
              "      <td>24497.357019</td>\n",
              "      <td>29128.700165</td>\n",
              "      <td>29541.744328</td>\n",
              "      <td>29541.744328</td>\n",
              "      <td>-2712.255011</td>\n",
              "      <td>-2712.255011</td>\n",
              "      <td>-2712.255011</td>\n",
              "      <td>-2712.255011</td>\n",
              "      <td>-2712.255011</td>\n",
              "      <td>-2712.255011</td>\n",
              "      <td>0.0</td>\n",
              "      <td>0.0</td>\n",
              "      <td>0.0</td>\n",
              "      <td>26829.489317</td>\n",
              "    </tr>\n",
              "    <tr>\n",
              "      <th>1</th>\n",
              "      <td>2012-02-29</td>\n",
              "      <td>29381.818426</td>\n",
              "      <td>22443.786470</td>\n",
              "      <td>27100.747277</td>\n",
              "      <td>29381.818426</td>\n",
              "      <td>29381.818426</td>\n",
              "      <td>-4615.270197</td>\n",
              "      <td>-4615.270197</td>\n",
              "      <td>-4615.270197</td>\n",
              "      <td>-4615.270197</td>\n",
              "      <td>-4615.270197</td>\n",
              "      <td>-4615.270197</td>\n",
              "      <td>0.0</td>\n",
              "      <td>0.0</td>\n",
              "      <td>0.0</td>\n",
              "      <td>24766.548229</td>\n",
              "    </tr>\n",
              "    <tr>\n",
              "      <th>2</th>\n",
              "      <td>2012-03-31</td>\n",
              "      <td>29210.863151</td>\n",
              "      <td>25389.605358</td>\n",
              "      <td>30138.347376</td>\n",
              "      <td>29210.863151</td>\n",
              "      <td>29210.863151</td>\n",
              "      <td>-1504.376430</td>\n",
              "      <td>-1504.376430</td>\n",
              "      <td>-1504.376430</td>\n",
              "      <td>-1504.376430</td>\n",
              "      <td>-1504.376430</td>\n",
              "      <td>-1504.376430</td>\n",
              "      <td>0.0</td>\n",
              "      <td>0.0</td>\n",
              "      <td>0.0</td>\n",
              "      <td>27706.486722</td>\n",
              "    </tr>\n",
              "  </tbody>\n",
              "</table>\n",
              "</div>"
            ],
            "text/plain": [
              "          ds         trend  ...  multiplicative_terms_upper          yhat\n",
              "0 2012-01-31  29541.744328  ...                         0.0  26829.489317\n",
              "1 2012-02-29  29381.818426  ...                         0.0  24766.548229\n",
              "2 2012-03-31  29210.863151  ...                         0.0  27706.486722\n",
              "\n",
              "[3 rows x 16 columns]"
            ]
          },
          "metadata": {
            "tags": []
          },
          "execution_count": 44
        }
      ]
    },
    {
      "cell_type": "code",
      "metadata": {
        "id": "T6wtXH85W5P5",
        "colab": {
          "base_uri": "https://localhost:8080/",
          "height": 441
        },
        "outputId": "cb509667-d5e1-4c12-df3e-85e95a5fbc98"
      },
      "source": [
        "figure=m.plot(forcast, xlabel='Date', ylabel='Crime Rate')"
      ],
      "execution_count": 45,
      "outputs": [
        {
          "output_type": "display_data",
          "data": {
            "image/png": "[encoded data removed]",
            "text/plain": [
              "<Figure size 720x432 with 1 Axes>"
            ]
          },
          "metadata": {
            "tags": []
          }
        }
      ]
    },
    {
      "cell_type": "markdown",
      "metadata": {
        "id": "qf77vSvRW5P5"
      },
      "source": [
        "## Performing the cross validation on the model"
      ]
    },
    {
      "cell_type": "code",
      "metadata": {
        "id": "1VgeON1eW5P5"
      },
      "source": [
        "from fbprophet.diagnostics import cross_validation"
      ],
      "execution_count": 46,
      "outputs": []
    },
    {
      "cell_type": "code",
      "metadata": {
        "colab": {
          "base_uri": "https://localhost:8080/",
          "height": 156,
          "referenced_widgets": [
            "d151fa09419a43e5850f2d14bc0b1c7f",
            "84694a6fb46e4132903c9ed56c2c0acd",
            "760290aa5ba1435c877ecb13aa2fc2ca",
            "b4cf123f141248fbb4a4405dae0be394",
            "100f71991b574b36b161fecced1d95f4",
            "33902b1b2e0b40aaacb73becb3880a68",
            "4f1b63adfcce4a81b1ac3b7033ca5353",
            "26b2659675344b39bde9c0e62b1d27be"
          ]
        },
        "id": "rzwqttVIqP_F",
        "outputId": "75b61f77-5153-4176-85f7-2e086b6f3ce2"
      },
      "source": [
        "df_cv = cross_validation(m, initial='35 days', period='180 days', horizon = '1460 days')"
      ],
      "execution_count": 47,
      "outputs": [
        {
          "output_type": "stream",
          "text": [
            "INFO:fbprophet:Making 2 forecasts with cutoffs between 2012-08-05 00:00:00 and 2013-02-01 00:00:00\n",
            "WARNING:fbprophet:Seasonality has period of 365.25 days which is larger than initial window. Consider increasing initial.\n"
          ],
          "name": "stderr"
        },
        {
          "output_type": "display_data",
          "data": {
            "application/vnd.jupyter.widget-view+json": {
              "model_id": "d151fa09419a43e5850f2d14bc0b1c7f",
              "version_minor": 0,
              "version_major": 2
            },
            "text/plain": [
              "HBox(children=(FloatProgress(value=0.0, max=2.0), HTML(value='')))"
            ]
          },
          "metadata": {
            "tags": []
          }
        },
        {
          "output_type": "stream",
          "text": [
            "INFO:fbprophet:n_changepoints greater than number of observations. Using 4.\n",
            "INFO:fbprophet:n_changepoints greater than number of observations. Using 9.\n"
          ],
          "name": "stderr"
        },
        {
          "output_type": "stream",
          "text": [
            "\n"
          ],
          "name": "stdout"
        }
      ]
    },
    {
      "cell_type": "code",
      "metadata": {
        "id": "Lg09SYkckl8C"
      },
      "source": [
        "from fbprophet.diagnostics import performance_metrics"
      ],
      "execution_count": 48,
      "outputs": []
    },
    {
      "cell_type": "code",
      "metadata": {
        "id": "cKBNAWYus31u"
      },
      "source": [
        "df_p =performance_metrics(df_cv)"
      ],
      "execution_count": 49,
      "outputs": []
    },
    {
      "cell_type": "code",
      "metadata": {
        "id": "YzvJ6LE4tVEG",
        "colab": {
          "base_uri": "https://localhost:8080/",
          "height": 202
        },
        "outputId": "48d3d69a-eb1f-46ae-f395-dca7d70a8d91"
      },
      "source": [
        "df_p.head()"
      ],
      "execution_count": 50,
      "outputs": [
        {
          "output_type": "execute_result",
          "data": {
            "text/html": [
              "<div>\n",
              "<style scoped>\n",
              "    .dataframe tbody tr th:only-of-type {\n",
              "        vertical-align: middle;\n",
              "    }\n",
              "\n",
              "    .dataframe tbody tr th {\n",
              "        vertical-align: top;\n",
              "    }\n",
              "\n",
              "    .dataframe thead th {\n",
              "        text-align: right;\n",
              "    }\n",
              "</style>\n",
              "<table border=\"1\" class=\"dataframe\">\n",
              "  <thead>\n",
              "    <tr style=\"text-align: right;\">\n",
              "      <th></th>\n",
              "      <th>horizon</th>\n",
              "      <th>mse</th>\n",
              "      <th>rmse</th>\n",
              "      <th>mae</th>\n",
              "      <th>mape</th>\n",
              "      <th>mdape</th>\n",
              "      <th>coverage</th>\n",
              "    </tr>\n",
              "  </thead>\n",
              "  <tbody>\n",
              "    <tr>\n",
              "      <th>0</th>\n",
              "      <td>148 days</td>\n",
              "      <td>5.993385e+11</td>\n",
              "      <td>774169.531205</td>\n",
              "      <td>437843.771974</td>\n",
              "      <td>15.523201</td>\n",
              "      <td>3.057802</td>\n",
              "      <td>0.111111</td>\n",
              "    </tr>\n",
              "    <tr>\n",
              "      <th>1</th>\n",
              "      <td>149 days</td>\n",
              "      <td>1.433064e+11</td>\n",
              "      <td>378558.269563</td>\n",
              "      <td>215134.822453</td>\n",
              "      <td>8.074493</td>\n",
              "      <td>0.796360</td>\n",
              "      <td>0.111111</td>\n",
              "    </tr>\n",
              "    <tr>\n",
              "      <th>2</th>\n",
              "      <td>179 days</td>\n",
              "      <td>1.460558e+11</td>\n",
              "      <td>382172.495358</td>\n",
              "      <td>232546.199565</td>\n",
              "      <td>8.766171</td>\n",
              "      <td>3.057802</td>\n",
              "      <td>0.111111</td>\n",
              "    </tr>\n",
              "    <tr>\n",
              "      <th>3</th>\n",
              "      <td>180 days</td>\n",
              "      <td>1.452736e+11</td>\n",
              "      <td>381147.752719</td>\n",
              "      <td>224231.250207</td>\n",
              "      <td>8.463975</td>\n",
              "      <td>0.796360</td>\n",
              "      <td>0.111111</td>\n",
              "    </tr>\n",
              "    <tr>\n",
              "      <th>4</th>\n",
              "      <td>207 days</td>\n",
              "      <td>1.455749e+11</td>\n",
              "      <td>381542.769363</td>\n",
              "      <td>229690.036432</td>\n",
              "      <td>8.722731</td>\n",
              "      <td>2.451013</td>\n",
              "      <td>0.111111</td>\n",
              "    </tr>\n",
              "  </tbody>\n",
              "</table>\n",
              "</div>"
            ],
            "text/plain": [
              "   horizon           mse           rmse  ...       mape     mdape  coverage\n",
              "0 148 days  5.993385e+11  774169.531205  ...  15.523201  3.057802  0.111111\n",
              "1 149 days  1.433064e+11  378558.269563  ...   8.074493  0.796360  0.111111\n",
              "2 179 days  1.460558e+11  382172.495358  ...   8.766171  3.057802  0.111111\n",
              "3 180 days  1.452736e+11  381147.752719  ...   8.463975  0.796360  0.111111\n",
              "4 207 days  1.455749e+11  381542.769363  ...   8.722731  2.451013  0.111111\n",
              "\n",
              "[5 rows x 7 columns]"
            ]
          },
          "metadata": {
            "tags": []
          },
          "execution_count": 50
        }
      ]
    },
    {
      "cell_type": "code",
      "metadata": {
        "id": "Nk9aV93jtzpN"
      },
      "source": [
        "from fbprophet.plot import plot_cross_validation_metric"
      ],
      "execution_count": 51,
      "outputs": []
    },
    {
      "cell_type": "code",
      "metadata": {
        "id": "g0i3rVFjtZmU",
        "colab": {
          "base_uri": "https://localhost:8080/",
          "height": 388
        },
        "outputId": "ada201e5-e242-4530-f407-db185c5f142a"
      },
      "source": [
        "fig = plot_cross_validation_metric(df_cv, metric='mape')\n",
        "prediction =forcast\n"
      ],
      "execution_count": 52,
      "outputs": [
        {
          "output_type": "display_data",
          "data": {
            "image/png": "[encoded data removed]",
            "text/plain": [
              "<Figure size 720x432 with 1 Axes>"
            ]
          },
          "metadata": {
            "tags": []
          }
        }
      ]
    },
    {
      "cell_type": "code",
      "metadata": {
        "colab": {
          "base_uri": "https://localhost:8080/",
          "height": 865
        },
        "id": "zm4chqEat5xc",
        "outputId": "c4b27016-90cb-46f6-da48-6d42d1740410"
      },
      "source": [
        "m.plot(prediction)"
      ],
      "execution_count": 53,
      "outputs": [
        {
          "output_type": "execute_result",
          "data": {
            "image/png": "[encoded data removed]",
            "text/plain": [
              "<Figure size 720x432 with 1 Axes>"
            ]
          },
          "metadata": {
            "tags": []
          },
          "execution_count": 53
        },
        {
          "output_type": "display_data",
          "data": {
            "image/png": "[encoded data removed]",
            "text/plain": [
              "<Figure size 720x432 with 1 Axes>"
            ]
          },
          "metadata": {
            "tags": []
          }
        }
      ]
    },
    {
      "cell_type": "code",
      "metadata": {
        "id": "nZaBCD_3Cvtc",
        "colab": {
          "base_uri": "https://localhost:8080/",
          "height": 865
        },
        "outputId": "68f003f9-2b0d-4136-f70e-024201473e45"
      },
      "source": [
        "m.plot_components(prediction)"
      ],
      "execution_count": 54,
      "outputs": [
        {
          "output_type": "execute_result",
          "data": {
            "image/png": "[encoded data removed]",
            "text/plain": [
              "<Figure size 648x432 with 2 Axes>"
            ]
          },
          "metadata": {
            "tags": []
          },
          "execution_count": 54
        },
        {
          "output_type": "display_data",
          "data": {
            "image/png": "[encoded data removed]",
            "text/plain": [
              "<Figure size 648x432 with 2 Axes>"
            ]
          },
          "metadata": {
            "tags": []
          }
        }
      ]
    },
    {
      "cell_type": "code",
      "metadata": {
        "id": "6OMwT7MOEmF4"
      },
      "source": [
        "from fbprophet.plot import add_changepoints_to_plot"
      ],
      "execution_count": 55,
      "outputs": []
    },
    {
      "cell_type": "code",
      "metadata": {
        "colab": {
          "base_uri": "https://localhost:8080/",
          "height": 441
        },
        "id": "QcDLEH-2JFni",
        "outputId": "bb4ec835-c123-4667-98a6-9b5471cb5f1f"
      },
      "source": [
        "fig =m.plot(prediction)\n",
        "c   = add_changepoints_to_plot(fig.gca(), m, prediction)"
      ],
      "execution_count": 56,
      "outputs": [
        {
          "output_type": "display_data",
          "data": {
            "image/png": "[encoded data removed]",
            "text/plain": [
              "<Figure size 720x432 with 1 Axes>"
            ]
          },
          "metadata": {
            "tags": []
          }
        }
      ]
    },
    {
      "cell_type": "code",
      "metadata": {
        "id": "4EO-4dK8JQ47",
        "colab": {
          "base_uri": "https://localhost:8080/",
          "height": 388
        },
        "outputId": "c67fbf39-eeb8-4454-d6d3-31d871a6ba73"
      },
      "source": [
        "fig = plot_cross_validation_metric(df_cv, metric='mape')"
      ],
      "execution_count": 57,
      "outputs": [
        {
          "output_type": "display_data",
          "data": {
            "image/png": "[encoded data removed]",
            "text/plain": [
              "<Figure size 720x432 with 1 Axes>"
            ]
          },
          "metadata": {
            "tags": []
          }
        }
      ]
    },
    {
      "cell_type": "code",
      "metadata": {
        "id": "t3Fv6mvZY1Wv"
      },
      "source": [
        "from dask.distributed import Client"
      ],
      "execution_count": 58,
      "outputs": []
    },
    {
      "cell_type": "code",
      "metadata": {
        "id": "BQ7lePaJZoiM"
      },
      "source": [
        "client =Client()"
      ],
      "execution_count": 59,
      "outputs": []
    },
    {
      "cell_type": "code",
      "metadata": {
        "id": "MNX7rX6LZtc-",
        "colab": {
          "base_uri": "https://localhost:8080/",
          "height": 156,
          "referenced_widgets": [
            "805ebf3d6d5b4dcfb070c878919b5f87",
            "083b373d18304e27bf51c326b82062f8",
            "8963de8f58374ac1b67ed8dae1b5c5a6",
            "517337f115f14b0688bfa8149439c457",
            "b66d692cb50845f885409410793da38b",
            "c866125e22434432bbf51c5d523191e9",
            "19d0dce9319d48008484cadf316dbe43",
            "1880f86d88d145f1be10e9d2da806be0"
          ]
        },
        "outputId": "ccada1b0-093f-4960-ac67-5bc7f9529ee7"
      },
      "source": [
        "df1_cv = cross_validation(m, initial='30 days', period='180 days',  horizon = '1460 days')"
      ],
      "execution_count": 60,
      "outputs": [
        {
          "output_type": "stream",
          "text": [
            "INFO:fbprophet:Making 2 forecasts with cutoffs between 2012-08-05 00:00:00 and 2013-02-01 00:00:00\n",
            "WARNING:fbprophet:Seasonality has period of 365.25 days which is larger than initial window. Consider increasing initial.\n"
          ],
          "name": "stderr"
        },
        {
          "output_type": "display_data",
          "data": {
            "application/vnd.jupyter.widget-view+json": {
              "model_id": "805ebf3d6d5b4dcfb070c878919b5f87",
              "version_minor": 0,
              "version_major": 2
            },
            "text/plain": [
              "HBox(children=(FloatProgress(value=0.0, max=2.0), HTML(value='')))"
            ]
          },
          "metadata": {
            "tags": []
          }
        },
        {
          "output_type": "stream",
          "text": [
            "INFO:fbprophet:n_changepoints greater than number of observations. Using 4.\n",
            "INFO:fbprophet:n_changepoints greater than number of observations. Using 9.\n"
          ],
          "name": "stderr"
        },
        {
          "output_type": "stream",
          "text": [
            "\n"
          ],
          "name": "stdout"
        }
      ]
    },
    {
      "cell_type": "code",
      "metadata": {
        "colab": {
          "base_uri": "https://localhost:8080/",
          "height": 156,
          "referenced_widgets": [
            "e0b72dc67de944688bee4cdb2d7dfb09",
            "b61ef348e12e47d5b29903eaccee76b8",
            "b315ebafbe794ff6b6984c11c14ed6c0",
            "36129e61bd5a4f1cba398f9de13f77b9",
            "2ede8262ea7041619a878d384ea01516",
            "f6c4fbe587834e44ab4ccf84e505010a",
            "cfde5c2e9c874611a83feca41a377f21",
            "f3ad8f6368fd44e0b93a96e556745752"
          ]
        },
        "id": "ixkB7ugBZ6dy",
        "outputId": "34e21318-a50e-439e-bf43-96b1887b3f90"
      },
      "source": [
        "df1_cv = cross_validation(m, initial='34.5 days', period='180 days',  horizon = '1460 days')"
      ],
      "execution_count": 61,
      "outputs": [
        {
          "output_type": "stream",
          "text": [
            "INFO:fbprophet:Making 2 forecasts with cutoffs between 2012-08-05 00:00:00 and 2013-02-01 00:00:00\n",
            "WARNING:fbprophet:Seasonality has period of 365.25 days which is larger than initial window. Consider increasing initial.\n"
          ],
          "name": "stderr"
        },
        {
          "output_type": "display_data",
          "data": {
            "application/vnd.jupyter.widget-view+json": {
              "model_id": "e0b72dc67de944688bee4cdb2d7dfb09",
              "version_minor": 0,
              "version_major": 2
            },
            "text/plain": [
              "HBox(children=(FloatProgress(value=0.0, max=2.0), HTML(value='')))"
            ]
          },
          "metadata": {
            "tags": []
          }
        },
        {
          "output_type": "stream",
          "text": [
            "INFO:fbprophet:n_changepoints greater than number of observations. Using 4.\n",
            "INFO:fbprophet:n_changepoints greater than number of observations. Using 9.\n"
          ],
          "name": "stderr"
        },
        {
          "output_type": "stream",
          "text": [
            "\n"
          ],
          "name": "stdout"
        }
      ]
    },
    {
      "cell_type": "code",
      "metadata": {
        "id": "2vZemJ9-gVgO",
        "colab": {
          "base_uri": "https://localhost:8080/",
          "height": 202
        },
        "outputId": "45e82b21-0b31-4d49-847c-884d09838897"
      },
      "source": [
        "df1_cv.head()"
      ],
      "execution_count": 62,
      "outputs": [
        {
          "output_type": "execute_result",
          "data": {
            "text/html": [
              "<div>\n",
              "<style scoped>\n",
              "    .dataframe tbody tr th:only-of-type {\n",
              "        vertical-align: middle;\n",
              "    }\n",
              "\n",
              "    .dataframe tbody tr th {\n",
              "        vertical-align: top;\n",
              "    }\n",
              "\n",
              "    .dataframe thead th {\n",
              "        text-align: right;\n",
              "    }\n",
              "</style>\n",
              "<table border=\"1\" class=\"dataframe\">\n",
              "  <thead>\n",
              "    <tr style=\"text-align: right;\">\n",
              "      <th></th>\n",
              "      <th>ds</th>\n",
              "      <th>yhat</th>\n",
              "      <th>yhat_lower</th>\n",
              "      <th>yhat_upper</th>\n",
              "      <th>y</th>\n",
              "      <th>cutoff</th>\n",
              "    </tr>\n",
              "  </thead>\n",
              "  <tbody>\n",
              "    <tr>\n",
              "      <th>0</th>\n",
              "      <td>2012-08-31</td>\n",
              "      <td>-1.996153e+06</td>\n",
              "      <td>-1.996153e+06</td>\n",
              "      <td>-1.996153e+06</td>\n",
              "      <td>29867</td>\n",
              "      <td>2012-08-05</td>\n",
              "    </tr>\n",
              "    <tr>\n",
              "      <th>1</th>\n",
              "      <td>2012-09-30</td>\n",
              "      <td>-5.683445e+04</td>\n",
              "      <td>-5.683445e+04</td>\n",
              "      <td>-5.683445e+04</td>\n",
              "      <td>27619</td>\n",
              "      <td>2012-08-05</td>\n",
              "    </tr>\n",
              "    <tr>\n",
              "      <th>2</th>\n",
              "      <td>2012-10-31</td>\n",
              "      <td>8.356161e+05</td>\n",
              "      <td>8.356161e+05</td>\n",
              "      <td>8.356161e+05</td>\n",
              "      <td>27815</td>\n",
              "      <td>2012-08-05</td>\n",
              "    </tr>\n",
              "    <tr>\n",
              "      <th>3</th>\n",
              "      <td>2012-11-30</td>\n",
              "      <td>7.763752e+05</td>\n",
              "      <td>7.763752e+05</td>\n",
              "      <td>7.763752e+05</td>\n",
              "      <td>25927</td>\n",
              "      <td>2012-08-05</td>\n",
              "    </tr>\n",
              "    <tr>\n",
              "      <th>4</th>\n",
              "      <td>2012-12-31</td>\n",
              "      <td>-2.324681e+05</td>\n",
              "      <td>-2.324681e+05</td>\n",
              "      <td>-2.324681e+05</td>\n",
              "      <td>25097</td>\n",
              "      <td>2012-08-05</td>\n",
              "    </tr>\n",
              "  </tbody>\n",
              "</table>\n",
              "</div>"
            ],
            "text/plain": [
              "          ds          yhat    yhat_lower    yhat_upper      y     cutoff\n",
              "0 2012-08-31 -1.996153e+06 -1.996153e+06 -1.996153e+06  29867 2012-08-05\n",
              "1 2012-09-30 -5.683445e+04 -5.683445e+04 -5.683445e+04  27619 2012-08-05\n",
              "2 2012-10-31  8.356161e+05  8.356161e+05  8.356161e+05  27815 2012-08-05\n",
              "3 2012-11-30  7.763752e+05  7.763752e+05  7.763752e+05  25927 2012-08-05\n",
              "4 2012-12-31 -2.324681e+05 -2.324681e+05 -2.324681e+05  25097 2012-08-05"
            ]
          },
          "metadata": {
            "tags": []
          },
          "execution_count": 62
        }
      ]
    },
    {
      "cell_type": "code",
      "metadata": {
        "colab": {
          "base_uri": "https://localhost:8080/",
          "height": 119,
          "referenced_widgets": [
            "92a1997966034ed9a05115450ee36885",
            "8896224a3bfc4e11965770afb6a9706b",
            "162b3f46c2c1480fa34130f116a6ea01",
            "a50ab8b751ab48d58c1141940822a81f",
            "c953d062c3f244f982f3a5c8793f152f",
            "b1a8bbf0bc974f6e9a131ee1043e5f9b",
            "02bbc7e1dfd24fdfa0d0f51d3b8f5538",
            "4c61666f00174dfd92053b95ac0aee54"
          ]
        },
        "id": "wwgtO938gd6Q",
        "outputId": "9e2f1188-ff8b-4ff5-a193-202fbaa4fc31"
      },
      "source": [
        "cutoffs = pd.to_datetime(['2013-02-15', '2013-08-15', '2014-02-15'])\n",
        "df_cv2 = cross_validation(m, cutoffs=cutoffs, horizon='365 days')"
      ],
      "execution_count": 63,
      "outputs": [
        {
          "output_type": "display_data",
          "data": {
            "application/vnd.jupyter.widget-view+json": {
              "model_id": "92a1997966034ed9a05115450ee36885",
              "version_minor": 0,
              "version_major": 2
            },
            "text/plain": [
              "HBox(children=(FloatProgress(value=0.0, max=3.0), HTML(value='')))"
            ]
          },
          "metadata": {
            "tags": []
          }
        },
        {
          "output_type": "stream",
          "text": [
            "INFO:fbprophet:n_changepoints greater than number of observations. Using 9.\n",
            "INFO:fbprophet:n_changepoints greater than number of observations. Using 14.\n",
            "INFO:fbprophet:n_changepoints greater than number of observations. Using 19.\n"
          ],
          "name": "stderr"
        },
        {
          "output_type": "stream",
          "text": [
            "\n"
          ],
          "name": "stdout"
        }
      ]
    },
    {
      "cell_type": "markdown",
      "metadata": {
        "id": "5AQRXNkFlBw0"
      },
      "source": [
        "This cross validation procedure can be done automatically for a range of historical cutoffs using the cross_validation function. We specify the forecast horizon (horizon), and then optionally the size of the initial training period (initial) and the spacing between cutoff dates (period). By default, the initial training period is set to three times the horizon, and cutoffs are made every half a horizon.\n",
        "\n",
        "The output of cross_validation is a dataframe with the true values y and the out-of-sample forecast values yhat, at each simulated forecast date and for each cutoff date. In particular, a forecast is made for every observed point between cutoff and cutoff + horizon. This dataframe can then be used to compute error measures of yhat vs. y.\n",
        "\n",
        "Here we do cross-validation to assess prediction performance on a horizon of 365 days, starting with 730 days of training data in the first cutoff and then making predictions every 180 days. On this 8 year time series, this corresponds to 11 total forecasts."
      ]
    },
    {
      "cell_type": "code",
      "metadata": {
        "id": "gqJojKbygwS3",
        "colab": {
          "base_uri": "https://localhost:8080/",
          "height": 223,
          "referenced_widgets": [
            "8ff9c820c327489fa60dfff52be9d3c2",
            "5ecf2538f29f44c6bc2cf1c5bace2db6",
            "5ca4cef416e94759ad6fa24f28cc7b06",
            "3cc35ae5bd774950b16b2e4a16341162",
            "a23d40660d874e99a6ec6583981b7ae5",
            "254e6c18c7f94fc1b790f7c90fbbaa7b",
            "99261d4a1755496d907097e69b378bb8",
            "c151eba972ae4974bad22095a13e38fc"
          ]
        },
        "outputId": "6659549f-a763-422d-feb5-f6790fa4d8f3"
      },
      "source": [
        "df3_cv = cross_validation(m, initial='730 days', period='30 days', horizon = '365 days')"
      ],
      "execution_count": 64,
      "outputs": [
        {
          "output_type": "stream",
          "text": [
            "INFO:fbprophet:Making 25 forecasts with cutoffs between 2014-02-11 00:00:00 and 2016-02-01 00:00:00\n"
          ],
          "name": "stderr"
        },
        {
          "output_type": "display_data",
          "data": {
            "application/vnd.jupyter.widget-view+json": {
              "model_id": "8ff9c820c327489fa60dfff52be9d3c2",
              "version_minor": 0,
              "version_major": 2
            },
            "text/plain": [
              "HBox(children=(FloatProgress(value=0.0, max=25.0), HTML(value='')))"
            ]
          },
          "metadata": {
            "tags": []
          }
        },
        {
          "output_type": "stream",
          "text": [
            "INFO:fbprophet:n_changepoints greater than number of observations. Using 19.\n",
            "INFO:fbprophet:n_changepoints greater than number of observations. Using 19.\n",
            "INFO:fbprophet:n_changepoints greater than number of observations. Using 20.\n",
            "INFO:fbprophet:n_changepoints greater than number of observations. Using 21.\n",
            "INFO:fbprophet:n_changepoints greater than number of observations. Using 22.\n",
            "INFO:fbprophet:n_changepoints greater than number of observations. Using 23.\n",
            "INFO:fbprophet:n_changepoints greater than number of observations. Using 23.\n",
            "INFO:fbprophet:n_changepoints greater than number of observations. Using 24.\n"
          ],
          "name": "stderr"
        },
        {
          "output_type": "stream",
          "text": [
            "\n"
          ],
          "name": "stdout"
        }
      ]
    },
    {
      "cell_type": "code",
      "metadata": {
        "id": "Gl9jTBEZkXI_",
        "colab": {
          "base_uri": "https://localhost:8080/",
          "height": 202
        },
        "outputId": "d5d761bf-0cf9-416b-cf90-4743b33a207a"
      },
      "source": [
        "df3_cv.head()"
      ],
      "execution_count": 65,
      "outputs": [
        {
          "output_type": "execute_result",
          "data": {
            "text/html": [
              "<div>\n",
              "<style scoped>\n",
              "    .dataframe tbody tr th:only-of-type {\n",
              "        vertical-align: middle;\n",
              "    }\n",
              "\n",
              "    .dataframe tbody tr th {\n",
              "        vertical-align: top;\n",
              "    }\n",
              "\n",
              "    .dataframe thead th {\n",
              "        text-align: right;\n",
              "    }\n",
              "</style>\n",
              "<table border=\"1\" class=\"dataframe\">\n",
              "  <thead>\n",
              "    <tr style=\"text-align: right;\">\n",
              "      <th></th>\n",
              "      <th>ds</th>\n",
              "      <th>yhat</th>\n",
              "      <th>yhat_lower</th>\n",
              "      <th>yhat_upper</th>\n",
              "      <th>y</th>\n",
              "      <th>cutoff</th>\n",
              "    </tr>\n",
              "  </thead>\n",
              "  <tbody>\n",
              "    <tr>\n",
              "      <th>0</th>\n",
              "      <td>2014-02-28</td>\n",
              "      <td>17684.130392</td>\n",
              "      <td>17651.842235</td>\n",
              "      <td>17724.287587</td>\n",
              "      <td>17892</td>\n",
              "      <td>2014-02-11</td>\n",
              "    </tr>\n",
              "    <tr>\n",
              "      <th>1</th>\n",
              "      <td>2014-03-31</td>\n",
              "      <td>19154.785912</td>\n",
              "      <td>19005.018380</td>\n",
              "      <td>19329.763119</td>\n",
              "      <td>22005</td>\n",
              "      <td>2014-02-11</td>\n",
              "    </tr>\n",
              "    <tr>\n",
              "      <th>2</th>\n",
              "      <td>2014-04-30</td>\n",
              "      <td>20948.892513</td>\n",
              "      <td>20650.548510</td>\n",
              "      <td>21307.432886</td>\n",
              "      <td>22519</td>\n",
              "      <td>2014-02-11</td>\n",
              "    </tr>\n",
              "    <tr>\n",
              "      <th>3</th>\n",
              "      <td>2014-05-31</td>\n",
              "      <td>22619.304176</td>\n",
              "      <td>22118.338196</td>\n",
              "      <td>23220.107141</td>\n",
              "      <td>24413</td>\n",
              "      <td>2014-02-11</td>\n",
              "    </tr>\n",
              "    <tr>\n",
              "      <th>4</th>\n",
              "      <td>2014-06-30</td>\n",
              "      <td>20203.426601</td>\n",
              "      <td>19452.341584</td>\n",
              "      <td>21072.313425</td>\n",
              "      <td>24867</td>\n",
              "      <td>2014-02-11</td>\n",
              "    </tr>\n",
              "  </tbody>\n",
              "</table>\n",
              "</div>"
            ],
            "text/plain": [
              "          ds          yhat    yhat_lower    yhat_upper      y     cutoff\n",
              "0 2014-02-28  17684.130392  17651.842235  17724.287587  17892 2014-02-11\n",
              "1 2014-03-31  19154.785912  19005.018380  19329.763119  22005 2014-02-11\n",
              "2 2014-04-30  20948.892513  20650.548510  21307.432886  22519 2014-02-11\n",
              "3 2014-05-31  22619.304176  22118.338196  23220.107141  24413 2014-02-11\n",
              "4 2014-06-30  20203.426601  19452.341584  21072.313425  24867 2014-02-11"
            ]
          },
          "metadata": {
            "tags": []
          },
          "execution_count": 65
        }
      ]
    },
    {
      "cell_type": "markdown",
      "metadata": {
        "id": "9tWQVyCqhAN4"
      },
      "source": [
        "The performance_metrics utility can be used to compute some useful statistics of the prediction performance (yhat, yhat_lower, and yhat_upper compared to y), as a function of the distance from the cutoff (how far into the future the prediction was). The statistics computed are mean squared error (MSE), root mean squared error (RMSE), mean absolute error (MAE), mean absolute percent error (MAPE), median absolute percent error (MDAPE) and coverage of the yhat_lower and yhat_upper estimates. These are computed on a rolling window of the predictions in df_cv after sorting by horizon (ds minus cutoff). By default 10% of the predictions will be included in each window, but this can be changed with the rolling_window argument."
      ]
    },
    {
      "cell_type": "code",
      "metadata": {
        "id": "bDuArpNblRZV",
        "colab": {
          "base_uri": "https://localhost:8080/",
          "height": 202
        },
        "outputId": "d139ab32-0917-4d32-cd13-b5b034388c7e"
      },
      "source": [
        "df_p = performance_metrics(df3_cv)\n",
        "df_p.head()"
      ],
      "execution_count": 66,
      "outputs": [
        {
          "output_type": "execute_result",
          "data": {
            "text/html": [
              "<div>\n",
              "<style scoped>\n",
              "    .dataframe tbody tr th:only-of-type {\n",
              "        vertical-align: middle;\n",
              "    }\n",
              "\n",
              "    .dataframe tbody tr th {\n",
              "        vertical-align: top;\n",
              "    }\n",
              "\n",
              "    .dataframe thead th {\n",
              "        text-align: right;\n",
              "    }\n",
              "</style>\n",
              "<table border=\"1\" class=\"dataframe\">\n",
              "  <thead>\n",
              "    <tr style=\"text-align: right;\">\n",
              "      <th></th>\n",
              "      <th>horizon</th>\n",
              "      <th>mse</th>\n",
              "      <th>rmse</th>\n",
              "      <th>mae</th>\n",
              "      <th>mape</th>\n",
              "      <th>mdape</th>\n",
              "      <th>coverage</th>\n",
              "    </tr>\n",
              "  </thead>\n",
              "  <tbody>\n",
              "    <tr>\n",
              "      <th>0</th>\n",
              "      <td>50 days</td>\n",
              "      <td>2.633279e+06</td>\n",
              "      <td>1622.737989</td>\n",
              "      <td>1222.574431</td>\n",
              "      <td>0.054790</td>\n",
              "      <td>0.050385</td>\n",
              "      <td>0.300000</td>\n",
              "    </tr>\n",
              "    <tr>\n",
              "      <th>1</th>\n",
              "      <td>51 days</td>\n",
              "      <td>2.473136e+06</td>\n",
              "      <td>1572.620684</td>\n",
              "      <td>1164.289102</td>\n",
              "      <td>0.052057</td>\n",
              "      <td>0.050385</td>\n",
              "      <td>0.366667</td>\n",
              "    </tr>\n",
              "    <tr>\n",
              "      <th>2</th>\n",
              "      <td>52 days</td>\n",
              "      <td>2.005403e+06</td>\n",
              "      <td>1416.122496</td>\n",
              "      <td>1054.674154</td>\n",
              "      <td>0.047935</td>\n",
              "      <td>0.049337</td>\n",
              "      <td>0.400000</td>\n",
              "    </tr>\n",
              "    <tr>\n",
              "      <th>3</th>\n",
              "      <td>53 days</td>\n",
              "      <td>1.870204e+06</td>\n",
              "      <td>1367.553928</td>\n",
              "      <td>1042.902773</td>\n",
              "      <td>0.048317</td>\n",
              "      <td>0.049337</td>\n",
              "      <td>0.366667</td>\n",
              "    </tr>\n",
              "    <tr>\n",
              "      <th>4</th>\n",
              "      <td>54 days</td>\n",
              "      <td>1.972341e+06</td>\n",
              "      <td>1404.400665</td>\n",
              "      <td>1043.110137</td>\n",
              "      <td>0.048052</td>\n",
              "      <td>0.045029</td>\n",
              "      <td>0.433333</td>\n",
              "    </tr>\n",
              "  </tbody>\n",
              "</table>\n",
              "</div>"
            ],
            "text/plain": [
              "  horizon           mse         rmse          mae      mape     mdape  coverage\n",
              "0 50 days  2.633279e+06  1622.737989  1222.574431  0.054790  0.050385  0.300000\n",
              "1 51 days  2.473136e+06  1572.620684  1164.289102  0.052057  0.050385  0.366667\n",
              "2 52 days  2.005403e+06  1416.122496  1054.674154  0.047935  0.049337  0.400000\n",
              "3 53 days  1.870204e+06  1367.553928  1042.902773  0.048317  0.049337  0.366667\n",
              "4 54 days  1.972341e+06  1404.400665  1043.110137  0.048052  0.045029  0.433333"
            ]
          },
          "metadata": {
            "tags": []
          },
          "execution_count": 66
        }
      ]
    },
    {
      "cell_type": "markdown",
      "metadata": {
        "id": "7eox7fDMmnjU"
      },
      "source": [
        "Cross validation performance metrics can be visualized with plot_cross_validation_metric, here shown for MAPE. Dots show the absolute percent error for each prediction in df_cv. The blue line shows the MAPE, where the mean is taken over a rolling window of the dots. We see for this forecast that errors around 5% are typical for predictions one month into the future, and that errors increase up to around 11% for predictions that are a year out"
      ]
    },
    {
      "cell_type": "code",
      "metadata": {
        "id": "ZyyU_9ajl8Ti",
        "colab": {
          "base_uri": "https://localhost:8080/",
          "height": 388
        },
        "outputId": "8d2284ed-c35b-43bd-e3a3-966cac020d37"
      },
      "source": [
        "fig = plot_cross_validation_metric(df_cv, metric='mape')"
      ],
      "execution_count": 67,
      "outputs": [
        {
          "output_type": "display_data",
          "data": {
            "image/png": "[encoded data removed]",
            "text/plain": [
              "<Figure size 720x432 with 1 Axes>"
            ]
          },
          "metadata": {
            "tags": []
          }
        }
      ]
    },
    {
      "cell_type": "code",
      "metadata": {
        "id": "TTOvcREEHK-4",
        "colab": {
          "base_uri": "https://localhost:8080/",
          "height": 388
        },
        "outputId": "81b11883-74d1-4c5d-dece-8e96256a7108"
      },
      "source": [
        "fig = plot_cross_validation_metric(df3_cv, metric='mape')"
      ],
      "execution_count": 68,
      "outputs": [
        {
          "output_type": "display_data",
          "data": {
            "image/png": "[encoded data removed]",
            "text/plain": [
              "<Figure size 720x432 with 1 Axes>"
            ]
          },
          "metadata": {
            "tags": []
          }
        }
      ]
    },
    {
      "cell_type": "code",
      "metadata": {
        "id": "r2TqUuOlmvVw"
      },
      "source": [
        "my_plot =forcast[['ds', 'yhat', 'trend']]"
      ],
      "execution_count": 69,
      "outputs": []
    },
    {
      "cell_type": "code",
      "metadata": {
        "id": "7DthJndYHuR5",
        "colab": {
          "base_uri": "https://localhost:8080/"
        },
        "outputId": "6ebcacb2-e94b-44d9-9d5c-a79c2e117e89"
      },
      "source": [
        "df3_cv.columns"
      ],
      "execution_count": 70,
      "outputs": [
        {
          "output_type": "execute_result",
          "data": {
            "text/plain": [
              "Index(['ds', 'yhat', 'yhat_lower', 'yhat_upper', 'y', 'cutoff'], dtype='object')"
            ]
          },
          "metadata": {
            "tags": []
          },
          "execution_count": 70
        }
      ]
    },
    {
      "cell_type": "code",
      "metadata": {
        "id": "2zADpQjzHwGS"
      },
      "source": [
        "df3_plot =df3_cv[['yhat','y' ]]"
      ],
      "execution_count": 71,
      "outputs": []
    },
    {
      "cell_type": "code",
      "metadata": {
        "id": "PuYGNcRLH8pM"
      },
      "source": [
        "from sklearn.metrics import mean_absolute_error, mean_squared_error, r2_score, max_error"
      ],
      "execution_count": 97,
      "outputs": []
    },
    {
      "cell_type": "code",
      "metadata": {
        "id": "QcbCXKSYITd-"
      },
      "source": [
        "actuals = df3_cv['y']\n",
        "prediction  = df3_cv['yhat']"
      ],
      "execution_count": 73,
      "outputs": []
    },
    {
      "cell_type": "code",
      "metadata": {
        "id": "pzWVLSKLIJQJ",
        "colab": {
          "base_uri": "https://localhost:8080/"
        },
        "outputId": "188658a6-7d19-492f-95cc-13a23d485cd6"
      },
      "source": [
        "print(mean_squared_error(actuals, prediction))"
      ],
      "execution_count": 74,
      "outputs": [
        {
          "output_type": "stream",
          "text": [
            "4514821.818536164\n"
          ],
          "name": "stdout"
        }
      ]
    },
    {
      "cell_type": "code",
      "metadata": {
        "id": "xC2mFJKFIpvz",
        "colab": {
          "base_uri": "https://localhost:8080/"
        },
        "outputId": "afd2cec4-835a-4339-ab87-42bbc71bb573"
      },
      "source": [
        "print(mean_absolute_error(actuals, prediction)) "
      ],
      "execution_count": 75,
      "outputs": [
        {
          "output_type": "stream",
          "text": [
            "1423.8261467497623\n"
          ],
          "name": "stdout"
        }
      ]
    },
    {
      "cell_type": "code",
      "metadata": {
        "id": "SNhwHPwcJBM0",
        "colab": {
          "base_uri": "https://localhost:8080/"
        },
        "outputId": "63e5d521-0ace-4520-cc2a-264552210445"
      },
      "source": [
        "print(np.sqrt(mean_squared_error(actuals, prediction)))"
      ],
      "execution_count": 76,
      "outputs": [
        {
          "output_type": "stream",
          "text": [
            "2124.811007721902\n"
          ],
          "name": "stdout"
        }
      ]
    },
    {
      "cell_type": "code",
      "metadata": {
        "colab": {
          "base_uri": "https://localhost:8080/"
        },
        "id": "9S6hGPmsRXVI",
        "outputId": "4fd067e0-c7b5-4e54-cbce-cd0b5ddf9538"
      },
      "source": [
        "r2_score(actuals, prediction)"
      ],
      "execution_count": 96,
      "outputs": [
        {
          "output_type": "execute_result",
          "data": {
            "text/plain": [
              "0.3531779619016452"
            ]
          },
          "metadata": {
            "tags": []
          },
          "execution_count": 96
        }
      ]
    },
    {
      "cell_type": "code",
      "metadata": {
        "colab": {
          "base_uri": "https://localhost:8080/"
        },
        "id": "lTFfKrlVSrY2",
        "outputId": "14960fb9-fc63-43b5-8b47-47f42ca31ed6"
      },
      "source": [
        "max_error(actuals, prediction)"
      ],
      "execution_count": 98,
      "outputs": [
        {
          "output_type": "execute_result",
          "data": {
            "text/plain": [
              "18666.703952318436"
            ]
          },
          "metadata": {
            "tags": []
          },
          "execution_count": 98
        }
      ]
    },
    {
      "cell_type": "code",
      "metadata": {
        "colab": {
          "base_uri": "https://localhost:8080/"
        },
        "id": "VUXU35NPpr0V",
        "outputId": "8bdd548d-0519-47f4-b392-3a26b415f8af"
      },
      "source": [
        "forcast.columns"
      ],
      "execution_count": 77,
      "outputs": [
        {
          "output_type": "execute_result",
          "data": {
            "text/plain": [
              "Index(['ds', 'trend', 'yhat_lower', 'yhat_upper', 'trend_lower', 'trend_upper',\n",
              "       'additive_terms', 'additive_terms_lower', 'additive_terms_upper',\n",
              "       'yearly', 'yearly_lower', 'yearly_upper', 'multiplicative_terms',\n",
              "       'multiplicative_terms_lower', 'multiplicative_terms_upper', 'yhat'],\n",
              "      dtype='object')"
            ]
          },
          "metadata": {
            "tags": []
          },
          "execution_count": 77
        }
      ]
    },
    {
      "cell_type": "code",
      "metadata": {
        "colab": {
          "base_uri": "https://localhost:8080/"
        },
        "id": "BHIG4VxvqFRs",
        "outputId": "1dbd3c04-fcab-4af1-e5f1-7cb008a0515b"
      },
      "source": [
        "df_2.columns"
      ],
      "execution_count": 78,
      "outputs": [
        {
          "output_type": "execute_result",
          "data": {
            "text/plain": [
              "Index(['ds', 'y'], dtype='object')"
            ]
          },
          "metadata": {
            "tags": []
          },
          "execution_count": 78
        }
      ]
    },
    {
      "cell_type": "code",
      "metadata": {
        "id": "maCKI9xtJKSZ"
      },
      "source": [
        "forcast_plot =forcast[['ds','yhat']]"
      ],
      "execution_count": 79,
      "outputs": []
    },
    {
      "cell_type": "code",
      "metadata": {
        "id": "J_jjRh8VqaLp"
      },
      "source": [
        "compared_df =pd.concat([df_2, forcast_plot])"
      ],
      "execution_count": 80,
      "outputs": []
    },
    {
      "cell_type": "code",
      "metadata": {
        "colab": {
          "base_uri": "https://localhost:8080/",
          "height": 202
        },
        "id": "2jg4BUj2qpJ1",
        "outputId": "fb12d163-447a-42cc-d937-a2687d45ce87"
      },
      "source": [
        "compared_df.head()"
      ],
      "execution_count": 81,
      "outputs": [
        {
          "output_type": "execute_result",
          "data": {
            "text/html": [
              "<div>\n",
              "<style scoped>\n",
              "    .dataframe tbody tr th:only-of-type {\n",
              "        vertical-align: middle;\n",
              "    }\n",
              "\n",
              "    .dataframe tbody tr th {\n",
              "        vertical-align: top;\n",
              "    }\n",
              "\n",
              "    .dataframe thead th {\n",
              "        text-align: right;\n",
              "    }\n",
              "</style>\n",
              "<table border=\"1\" class=\"dataframe\">\n",
              "  <thead>\n",
              "    <tr style=\"text-align: right;\">\n",
              "      <th></th>\n",
              "      <th>ds</th>\n",
              "      <th>y</th>\n",
              "      <th>yhat</th>\n",
              "    </tr>\n",
              "  </thead>\n",
              "  <tbody>\n",
              "    <tr>\n",
              "      <th>0</th>\n",
              "      <td>2012-01-31</td>\n",
              "      <td>26006.0</td>\n",
              "      <td>NaN</td>\n",
              "    </tr>\n",
              "    <tr>\n",
              "      <th>1</th>\n",
              "      <td>2012-02-29</td>\n",
              "      <td>23762.0</td>\n",
              "      <td>NaN</td>\n",
              "    </tr>\n",
              "    <tr>\n",
              "      <th>2</th>\n",
              "      <td>2012-03-31</td>\n",
              "      <td>28461.0</td>\n",
              "      <td>NaN</td>\n",
              "    </tr>\n",
              "    <tr>\n",
              "      <th>3</th>\n",
              "      <td>2012-04-30</td>\n",
              "      <td>27085.0</td>\n",
              "      <td>NaN</td>\n",
              "    </tr>\n",
              "    <tr>\n",
              "      <th>4</th>\n",
              "      <td>2012-05-31</td>\n",
              "      <td>29986.0</td>\n",
              "      <td>NaN</td>\n",
              "    </tr>\n",
              "  </tbody>\n",
              "</table>\n",
              "</div>"
            ],
            "text/plain": [
              "          ds        y  yhat\n",
              "0 2012-01-31  26006.0   NaN\n",
              "1 2012-02-29  23762.0   NaN\n",
              "2 2012-03-31  28461.0   NaN\n",
              "3 2012-04-30  27085.0   NaN\n",
              "4 2012-05-31  29986.0   NaN"
            ]
          },
          "metadata": {
            "tags": []
          },
          "execution_count": 81
        }
      ]
    },
    {
      "cell_type": "code",
      "metadata": {
        "id": "Y2PnUVSbqr0u"
      },
      "source": [
        "fd =forcast"
      ],
      "execution_count": 82,
      "outputs": []
    },
    {
      "cell_type": "code",
      "metadata": {
        "colab": {
          "base_uri": "https://localhost:8080/",
          "height": 609
        },
        "id": "4GXAc7WZqzM3",
        "outputId": "f534949d-56a9-47e3-9b36-7622742d40fe"
      },
      "source": [
        "#fd.groupby('ds')['yhat']\n",
        "#fd.loc[fd['ds']]\n",
        "fd.sort_values(by =['ds'], ascending=False)"
      ],
      "execution_count": 83,
      "outputs": [
        {
          "output_type": "execute_result",
          "data": {
            "text/html": [
              "<div>\n",
              "<style scoped>\n",
              "    .dataframe tbody tr th:only-of-type {\n",
              "        vertical-align: middle;\n",
              "    }\n",
              "\n",
              "    .dataframe tbody tr th {\n",
              "        vertical-align: top;\n",
              "    }\n",
              "\n",
              "    .dataframe thead th {\n",
              "        text-align: right;\n",
              "    }\n",
              "</style>\n",
              "<table border=\"1\" class=\"dataframe\">\n",
              "  <thead>\n",
              "    <tr style=\"text-align: right;\">\n",
              "      <th></th>\n",
              "      <th>ds</th>\n",
              "      <th>trend</th>\n",
              "      <th>yhat_lower</th>\n",
              "      <th>yhat_upper</th>\n",
              "      <th>trend_lower</th>\n",
              "      <th>trend_upper</th>\n",
              "      <th>additive_terms</th>\n",
              "      <th>additive_terms_lower</th>\n",
              "      <th>additive_terms_upper</th>\n",
              "      <th>yearly</th>\n",
              "      <th>yearly_lower</th>\n",
              "      <th>yearly_upper</th>\n",
              "      <th>multiplicative_terms</th>\n",
              "      <th>multiplicative_terms_lower</th>\n",
              "      <th>multiplicative_terms_upper</th>\n",
              "      <th>yhat</th>\n",
              "    </tr>\n",
              "  </thead>\n",
              "  <tbody>\n",
              "    <tr>\n",
              "      <th>1520</th>\n",
              "      <td>2021-01-30</td>\n",
              "      <td>11418.401984</td>\n",
              "      <td>8744.651804</td>\n",
              "      <td>13461.853821</td>\n",
              "      <td>11418.049300</td>\n",
              "      <td>11418.757889</td>\n",
              "      <td>-440.196288</td>\n",
              "      <td>-440.196288</td>\n",
              "      <td>-440.196288</td>\n",
              "      <td>-440.196288</td>\n",
              "      <td>-440.196288</td>\n",
              "      <td>-440.196288</td>\n",
              "      <td>0.0</td>\n",
              "      <td>0.0</td>\n",
              "      <td>0.0</td>\n",
              "      <td>10978.205696</td>\n",
              "    </tr>\n",
              "    <tr>\n",
              "      <th>1519</th>\n",
              "      <td>2021-01-29</td>\n",
              "      <td>11423.915335</td>\n",
              "      <td>17468.412150</td>\n",
              "      <td>22141.635969</td>\n",
              "      <td>11423.563011</td>\n",
              "      <td>11424.270876</td>\n",
              "      <td>8542.563405</td>\n",
              "      <td>8542.563405</td>\n",
              "      <td>8542.563405</td>\n",
              "      <td>8542.563405</td>\n",
              "      <td>8542.563405</td>\n",
              "      <td>8542.563405</td>\n",
              "      <td>0.0</td>\n",
              "      <td>0.0</td>\n",
              "      <td>0.0</td>\n",
              "      <td>19966.478740</td>\n",
              "    </tr>\n",
              "    <tr>\n",
              "      <th>1518</th>\n",
              "      <td>2021-01-28</td>\n",
              "      <td>11429.428687</td>\n",
              "      <td>26216.094158</td>\n",
              "      <td>31011.568946</td>\n",
              "      <td>11429.076722</td>\n",
              "      <td>11429.783862</td>\n",
              "      <td>17247.029939</td>\n",
              "      <td>17247.029939</td>\n",
              "      <td>17247.029939</td>\n",
              "      <td>17247.029939</td>\n",
              "      <td>17247.029939</td>\n",
              "      <td>17247.029939</td>\n",
              "      <td>0.0</td>\n",
              "      <td>0.0</td>\n",
              "      <td>0.0</td>\n",
              "      <td>28676.458626</td>\n",
              "    </tr>\n",
              "    <tr>\n",
              "      <th>1517</th>\n",
              "      <td>2021-01-27</td>\n",
              "      <td>11434.942038</td>\n",
              "      <td>34571.750268</td>\n",
              "      <td>39303.252560</td>\n",
              "      <td>11434.590403</td>\n",
              "      <td>11435.296883</td>\n",
              "      <td>25532.745753</td>\n",
              "      <td>25532.745753</td>\n",
              "      <td>25532.745753</td>\n",
              "      <td>25532.745753</td>\n",
              "      <td>25532.745753</td>\n",
              "      <td>25532.745753</td>\n",
              "      <td>0.0</td>\n",
              "      <td>0.0</td>\n",
              "      <td>0.0</td>\n",
              "      <td>36967.687791</td>\n",
              "    </tr>\n",
              "    <tr>\n",
              "      <th>1516</th>\n",
              "      <td>2021-01-26</td>\n",
              "      <td>11440.455389</td>\n",
              "      <td>42347.060278</td>\n",
              "      <td>47167.929200</td>\n",
              "      <td>11440.103924</td>\n",
              "      <td>11440.809969</td>\n",
              "      <td>33268.620351</td>\n",
              "      <td>33268.620351</td>\n",
              "      <td>33268.620351</td>\n",
              "      <td>33268.620351</td>\n",
              "      <td>33268.620351</td>\n",
              "      <td>33268.620351</td>\n",
              "      <td>0.0</td>\n",
              "      <td>0.0</td>\n",
              "      <td>0.0</td>\n",
              "      <td>44709.075740</td>\n",
              "    </tr>\n",
              "    <tr>\n",
              "      <th>...</th>\n",
              "      <td>...</td>\n",
              "      <td>...</td>\n",
              "      <td>...</td>\n",
              "      <td>...</td>\n",
              "      <td>...</td>\n",
              "      <td>...</td>\n",
              "      <td>...</td>\n",
              "      <td>...</td>\n",
              "      <td>...</td>\n",
              "      <td>...</td>\n",
              "      <td>...</td>\n",
              "      <td>...</td>\n",
              "      <td>...</td>\n",
              "      <td>...</td>\n",
              "      <td>...</td>\n",
              "      <td>...</td>\n",
              "    </tr>\n",
              "    <tr>\n",
              "      <th>4</th>\n",
              "      <td>2012-05-31</td>\n",
              "      <td>28874.467288</td>\n",
              "      <td>27284.862869</td>\n",
              "      <td>31858.970767</td>\n",
              "      <td>28874.467288</td>\n",
              "      <td>28874.467288</td>\n",
              "      <td>695.862086</td>\n",
              "      <td>695.862086</td>\n",
              "      <td>695.862086</td>\n",
              "      <td>695.862086</td>\n",
              "      <td>695.862086</td>\n",
              "      <td>695.862086</td>\n",
              "      <td>0.0</td>\n",
              "      <td>0.0</td>\n",
              "      <td>0.0</td>\n",
              "      <td>29570.329375</td>\n",
              "    </tr>\n",
              "    <tr>\n",
              "      <th>3</th>\n",
              "      <td>2012-04-30</td>\n",
              "      <td>29045.422563</td>\n",
              "      <td>24351.118713</td>\n",
              "      <td>29307.540149</td>\n",
              "      <td>29045.422563</td>\n",
              "      <td>29045.422563</td>\n",
              "      <td>-2216.438144</td>\n",
              "      <td>-2216.438144</td>\n",
              "      <td>-2216.438144</td>\n",
              "      <td>-2216.438144</td>\n",
              "      <td>-2216.438144</td>\n",
              "      <td>-2216.438144</td>\n",
              "      <td>0.0</td>\n",
              "      <td>0.0</td>\n",
              "      <td>0.0</td>\n",
              "      <td>26828.984419</td>\n",
              "    </tr>\n",
              "    <tr>\n",
              "      <th>2</th>\n",
              "      <td>2012-03-31</td>\n",
              "      <td>29210.863151</td>\n",
              "      <td>25389.605358</td>\n",
              "      <td>30138.347376</td>\n",
              "      <td>29210.863151</td>\n",
              "      <td>29210.863151</td>\n",
              "      <td>-1504.376430</td>\n",
              "      <td>-1504.376430</td>\n",
              "      <td>-1504.376430</td>\n",
              "      <td>-1504.376430</td>\n",
              "      <td>-1504.376430</td>\n",
              "      <td>-1504.376430</td>\n",
              "      <td>0.0</td>\n",
              "      <td>0.0</td>\n",
              "      <td>0.0</td>\n",
              "      <td>27706.486722</td>\n",
              "    </tr>\n",
              "    <tr>\n",
              "      <th>1</th>\n",
              "      <td>2012-02-29</td>\n",
              "      <td>29381.818426</td>\n",
              "      <td>22443.786470</td>\n",
              "      <td>27100.747277</td>\n",
              "      <td>29381.818426</td>\n",
              "      <td>29381.818426</td>\n",
              "      <td>-4615.270197</td>\n",
              "      <td>-4615.270197</td>\n",
              "      <td>-4615.270197</td>\n",
              "      <td>-4615.270197</td>\n",
              "      <td>-4615.270197</td>\n",
              "      <td>-4615.270197</td>\n",
              "      <td>0.0</td>\n",
              "      <td>0.0</td>\n",
              "      <td>0.0</td>\n",
              "      <td>24766.548229</td>\n",
              "    </tr>\n",
              "    <tr>\n",
              "      <th>0</th>\n",
              "      <td>2012-01-31</td>\n",
              "      <td>29541.744328</td>\n",
              "      <td>24497.357019</td>\n",
              "      <td>29128.700165</td>\n",
              "      <td>29541.744328</td>\n",
              "      <td>29541.744328</td>\n",
              "      <td>-2712.255011</td>\n",
              "      <td>-2712.255011</td>\n",
              "      <td>-2712.255011</td>\n",
              "      <td>-2712.255011</td>\n",
              "      <td>-2712.255011</td>\n",
              "      <td>-2712.255011</td>\n",
              "      <td>0.0</td>\n",
              "      <td>0.0</td>\n",
              "      <td>0.0</td>\n",
              "      <td>26829.489317</td>\n",
              "    </tr>\n",
              "  </tbody>\n",
              "</table>\n",
              "<p>1521 rows × 16 columns</p>\n",
              "</div>"
            ],
            "text/plain": [
              "             ds         trend  ...  multiplicative_terms_upper          yhat\n",
              "1520 2021-01-30  11418.401984  ...                         0.0  10978.205696\n",
              "1519 2021-01-29  11423.915335  ...                         0.0  19966.478740\n",
              "1518 2021-01-28  11429.428687  ...                         0.0  28676.458626\n",
              "1517 2021-01-27  11434.942038  ...                         0.0  36967.687791\n",
              "1516 2021-01-26  11440.455389  ...                         0.0  44709.075740\n",
              "...         ...           ...  ...                         ...           ...\n",
              "4    2012-05-31  28874.467288  ...                         0.0  29570.329375\n",
              "3    2012-04-30  29045.422563  ...                         0.0  26828.984419\n",
              "2    2012-03-31  29210.863151  ...                         0.0  27706.486722\n",
              "1    2012-02-29  29381.818426  ...                         0.0  24766.548229\n",
              "0    2012-01-31  29541.744328  ...                         0.0  26829.489317\n",
              "\n",
              "[1521 rows x 16 columns]"
            ]
          },
          "metadata": {
            "tags": []
          },
          "execution_count": 83
        }
      ]
    },
    {
      "cell_type": "code",
      "metadata": {
        "colab": {
          "base_uri": "https://localhost:8080/",
          "height": 388
        },
        "id": "lNB2lwuyrQjj",
        "outputId": "33f0be27-4d00-49f0-aeb4-0eceafb2f84d"
      },
      "source": [
        "fig = plot_cross_validation_metric(df3_cv, metric='rmse')"
      ],
      "execution_count": 84,
      "outputs": [
        {
          "output_type": "display_data",
          "data": {
            "image/png": "[encoded data removed]",
            "text/plain": [
              "<Figure size 720x432 with 1 Axes>"
            ]
          },
          "metadata": {
            "tags": []
          }
        }
      ]
    },
    {
      "cell_type": "code",
      "metadata": {
        "colab": {
          "base_uri": "https://localhost:8080/",
          "height": 311
        },
        "id": "S7QBDS4wr_Ay",
        "outputId": "a743af92-77f0-4796-f6a8-1e7f5f4e69a9"
      },
      "source": [
        "# fig, axe1, axe2 =subplots(1,2)\n",
        "# fig = plot_cross_validation_metric(df3_cv, metric='rmse')\n",
        "# fig =plot_cross_validation_netric(df3_cv, metrics='mae')\n",
        "fig, axes =plt.subplots(nrows=2, ncols=1)\n",
        "plt.tight_layout()\n",
        "axes[0].plot(df_p['rmse'])\n",
        "axes[1].plot(df_p['mse'])"
      ],
      "execution_count": 85,
      "outputs": [
        {
          "output_type": "execute_result",
          "data": {
            "text/plain": [
              "[<matplotlib.lines.Line2D at 0x7f0bcafefc50>]"
            ]
          },
          "metadata": {
            "tags": []
          },
          "execution_count": 85
        },
        {
          "output_type": "display_data",
          "data": {
            "image/png": "[encoded data removed]",
            "text/plain": [
              "<Figure size 432x288 with 2 Axes>"
            ]
          },
          "metadata": {
            "tags": [],
            "needs_background": "light"
          }
        }
      ]
    },
    {
      "cell_type": "code",
      "metadata": {
        "colab": {
          "base_uri": "https://localhost:8080/",
          "height": 307
        },
        "id": "KlkOSdOAsRGS",
        "outputId": "ff396ef7-4da2-4e48-8ccc-db3826a46e2d"
      },
      "source": [
        "sns.kdeplot(compared_df['yhat'])"
      ],
      "execution_count": 86,
      "outputs": [
        {
          "output_type": "execute_result",
          "data": {
            "text/plain": [
              "<matplotlib.axes._subplots.AxesSubplot at 0x7f0bc95ae8d0>"
            ]
          },
          "metadata": {
            "tags": []
          },
          "execution_count": 86
        },
        {
          "output_type": "display_data",
          "data": {
            "image/png": "[encoded data removed]",
            "text/plain": [
              "<Figure size 432x288 with 1 Axes>"
            ]
          },
          "metadata": {
            "tags": [],
            "needs_background": "light"
          }
        }
      ]
    },
    {
      "cell_type": "code",
      "metadata": {
        "colab": {
          "base_uri": "https://localhost:8080/"
        },
        "id": "yiHtYtFSsxJa",
        "outputId": "0f784027-46b2-4db6-9ffc-c1a5a366f459"
      },
      "source": [
        "df_p.columns"
      ],
      "execution_count": 87,
      "outputs": [
        {
          "output_type": "execute_result",
          "data": {
            "text/plain": [
              "Index(['horizon', 'mse', 'rmse', 'mae', 'mape', 'mdape', 'coverage'], dtype='object')"
            ]
          },
          "metadata": {
            "tags": []
          },
          "execution_count": 87
        }
      ]
    },
    {
      "cell_type": "code",
      "metadata": {
        "id": "A-UmZ8sP_5pI"
      },
      "source": [
        "df1_p =df_p[['horizon', 'mse', 'rmse', 'mae', 'mape']]"
      ],
      "execution_count": 88,
      "outputs": []
    },
    {
      "cell_type": "code",
      "metadata": {
        "colab": {
          "base_uri": "https://localhost:8080/",
          "height": 202
        },
        "id": "PZQHCapBAA_P",
        "outputId": "5f931549-7b1f-4293-9fac-78f8b9ca0cad"
      },
      "source": [
        "df1_p.head()"
      ],
      "execution_count": 89,
      "outputs": [
        {
          "output_type": "execute_result",
          "data": {
            "text/html": [
              "<div>\n",
              "<style scoped>\n",
              "    .dataframe tbody tr th:only-of-type {\n",
              "        vertical-align: middle;\n",
              "    }\n",
              "\n",
              "    .dataframe tbody tr th {\n",
              "        vertical-align: top;\n",
              "    }\n",
              "\n",
              "    .dataframe thead th {\n",
              "        text-align: right;\n",
              "    }\n",
              "</style>\n",
              "<table border=\"1\" class=\"dataframe\">\n",
              "  <thead>\n",
              "    <tr style=\"text-align: right;\">\n",
              "      <th></th>\n",
              "      <th>horizon</th>\n",
              "      <th>mse</th>\n",
              "      <th>rmse</th>\n",
              "      <th>mae</th>\n",
              "      <th>mape</th>\n",
              "    </tr>\n",
              "  </thead>\n",
              "  <tbody>\n",
              "    <tr>\n",
              "      <th>0</th>\n",
              "      <td>50 days</td>\n",
              "      <td>2.633279e+06</td>\n",
              "      <td>1622.737989</td>\n",
              "      <td>1222.574431</td>\n",
              "      <td>0.054790</td>\n",
              "    </tr>\n",
              "    <tr>\n",
              "      <th>1</th>\n",
              "      <td>51 days</td>\n",
              "      <td>2.473136e+06</td>\n",
              "      <td>1572.620684</td>\n",
              "      <td>1164.289102</td>\n",
              "      <td>0.052057</td>\n",
              "    </tr>\n",
              "    <tr>\n",
              "      <th>2</th>\n",
              "      <td>52 days</td>\n",
              "      <td>2.005403e+06</td>\n",
              "      <td>1416.122496</td>\n",
              "      <td>1054.674154</td>\n",
              "      <td>0.047935</td>\n",
              "    </tr>\n",
              "    <tr>\n",
              "      <th>3</th>\n",
              "      <td>53 days</td>\n",
              "      <td>1.870204e+06</td>\n",
              "      <td>1367.553928</td>\n",
              "      <td>1042.902773</td>\n",
              "      <td>0.048317</td>\n",
              "    </tr>\n",
              "    <tr>\n",
              "      <th>4</th>\n",
              "      <td>54 days</td>\n",
              "      <td>1.972341e+06</td>\n",
              "      <td>1404.400665</td>\n",
              "      <td>1043.110137</td>\n",
              "      <td>0.048052</td>\n",
              "    </tr>\n",
              "  </tbody>\n",
              "</table>\n",
              "</div>"
            ],
            "text/plain": [
              "  horizon           mse         rmse          mae      mape\n",
              "0 50 days  2.633279e+06  1622.737989  1222.574431  0.054790\n",
              "1 51 days  2.473136e+06  1572.620684  1164.289102  0.052057\n",
              "2 52 days  2.005403e+06  1416.122496  1054.674154  0.047935\n",
              "3 53 days  1.870204e+06  1367.553928  1042.902773  0.048317\n",
              "4 54 days  1.972341e+06  1404.400665  1043.110137  0.048052"
            ]
          },
          "metadata": {
            "tags": []
          },
          "execution_count": 89
        }
      ]
    },
    {
      "cell_type": "code",
      "metadata": {
        "colab": {
          "base_uri": "https://localhost:8080/",
          "height": 609
        },
        "id": "B6S-0lHBADdl",
        "outputId": "8c6b3648-8cc9-41b4-c3aa-d7a910d460c2"
      },
      "source": [
        "fd.sort_values(by =['ds'], ascending=False)"
      ],
      "execution_count": 90,
      "outputs": [
        {
          "output_type": "execute_result",
          "data": {
            "text/html": [
              "<div>\n",
              "<style scoped>\n",
              "    .dataframe tbody tr th:only-of-type {\n",
              "        vertical-align: middle;\n",
              "    }\n",
              "\n",
              "    .dataframe tbody tr th {\n",
              "        vertical-align: top;\n",
              "    }\n",
              "\n",
              "    .dataframe thead th {\n",
              "        text-align: right;\n",
              "    }\n",
              "</style>\n",
              "<table border=\"1\" class=\"dataframe\">\n",
              "  <thead>\n",
              "    <tr style=\"text-align: right;\">\n",
              "      <th></th>\n",
              "      <th>ds</th>\n",
              "      <th>trend</th>\n",
              "      <th>yhat_lower</th>\n",
              "      <th>yhat_upper</th>\n",
              "      <th>trend_lower</th>\n",
              "      <th>trend_upper</th>\n",
              "      <th>additive_terms</th>\n",
              "      <th>additive_terms_lower</th>\n",
              "      <th>additive_terms_upper</th>\n",
              "      <th>yearly</th>\n",
              "      <th>yearly_lower</th>\n",
              "      <th>yearly_upper</th>\n",
              "      <th>multiplicative_terms</th>\n",
              "      <th>multiplicative_terms_lower</th>\n",
              "      <th>multiplicative_terms_upper</th>\n",
              "      <th>yhat</th>\n",
              "    </tr>\n",
              "  </thead>\n",
              "  <tbody>\n",
              "    <tr>\n",
              "      <th>1520</th>\n",
              "      <td>2021-01-30</td>\n",
              "      <td>11418.401984</td>\n",
              "      <td>8744.651804</td>\n",
              "      <td>13461.853821</td>\n",
              "      <td>11418.049300</td>\n",
              "      <td>11418.757889</td>\n",
              "      <td>-440.196288</td>\n",
              "      <td>-440.196288</td>\n",
              "      <td>-440.196288</td>\n",
              "      <td>-440.196288</td>\n",
              "      <td>-440.196288</td>\n",
              "      <td>-440.196288</td>\n",
              "      <td>0.0</td>\n",
              "      <td>0.0</td>\n",
              "      <td>0.0</td>\n",
              "      <td>10978.205696</td>\n",
              "    </tr>\n",
              "    <tr>\n",
              "      <th>1519</th>\n",
              "      <td>2021-01-29</td>\n",
              "      <td>11423.915335</td>\n",
              "      <td>17468.412150</td>\n",
              "      <td>22141.635969</td>\n",
              "      <td>11423.563011</td>\n",
              "      <td>11424.270876</td>\n",
              "      <td>8542.563405</td>\n",
              "      <td>8542.563405</td>\n",
              "      <td>8542.563405</td>\n",
              "      <td>8542.563405</td>\n",
              "      <td>8542.563405</td>\n",
              "      <td>8542.563405</td>\n",
              "      <td>0.0</td>\n",
              "      <td>0.0</td>\n",
              "      <td>0.0</td>\n",
              "      <td>19966.478740</td>\n",
              "    </tr>\n",
              "    <tr>\n",
              "      <th>1518</th>\n",
              "      <td>2021-01-28</td>\n",
              "      <td>11429.428687</td>\n",
              "      <td>26216.094158</td>\n",
              "      <td>31011.568946</td>\n",
              "      <td>11429.076722</td>\n",
              "      <td>11429.783862</td>\n",
              "      <td>17247.029939</td>\n",
              "      <td>17247.029939</td>\n",
              "      <td>17247.029939</td>\n",
              "      <td>17247.029939</td>\n",
              "      <td>17247.029939</td>\n",
              "      <td>17247.029939</td>\n",
              "      <td>0.0</td>\n",
              "      <td>0.0</td>\n",
              "      <td>0.0</td>\n",
              "      <td>28676.458626</td>\n",
              "    </tr>\n",
              "    <tr>\n",
              "      <th>1517</th>\n",
              "      <td>2021-01-27</td>\n",
              "      <td>11434.942038</td>\n",
              "      <td>34571.750268</td>\n",
              "      <td>39303.252560</td>\n",
              "      <td>11434.590403</td>\n",
              "      <td>11435.296883</td>\n",
              "      <td>25532.745753</td>\n",
              "      <td>25532.745753</td>\n",
              "      <td>25532.745753</td>\n",
              "      <td>25532.745753</td>\n",
              "      <td>25532.745753</td>\n",
              "      <td>25532.745753</td>\n",
              "      <td>0.0</td>\n",
              "      <td>0.0</td>\n",
              "      <td>0.0</td>\n",
              "      <td>36967.687791</td>\n",
              "    </tr>\n",
              "    <tr>\n",
              "      <th>1516</th>\n",
              "      <td>2021-01-26</td>\n",
              "      <td>11440.455389</td>\n",
              "      <td>42347.060278</td>\n",
              "      <td>47167.929200</td>\n",
              "      <td>11440.103924</td>\n",
              "      <td>11440.809969</td>\n",
              "      <td>33268.620351</td>\n",
              "      <td>33268.620351</td>\n",
              "      <td>33268.620351</td>\n",
              "      <td>33268.620351</td>\n",
              "      <td>33268.620351</td>\n",
              "      <td>33268.620351</td>\n",
              "      <td>0.0</td>\n",
              "      <td>0.0</td>\n",
              "      <td>0.0</td>\n",
              "      <td>44709.075740</td>\n",
              "    </tr>\n",
              "    <tr>\n",
              "      <th>...</th>\n",
              "      <td>...</td>\n",
              "      <td>...</td>\n",
              "      <td>...</td>\n",
              "      <td>...</td>\n",
              "      <td>...</td>\n",
              "      <td>...</td>\n",
              "      <td>...</td>\n",
              "      <td>...</td>\n",
              "      <td>...</td>\n",
              "      <td>...</td>\n",
              "      <td>...</td>\n",
              "      <td>...</td>\n",
              "      <td>...</td>\n",
              "      <td>...</td>\n",
              "      <td>...</td>\n",
              "      <td>...</td>\n",
              "    </tr>\n",
              "    <tr>\n",
              "      <th>4</th>\n",
              "      <td>2012-05-31</td>\n",
              "      <td>28874.467288</td>\n",
              "      <td>27284.862869</td>\n",
              "      <td>31858.970767</td>\n",
              "      <td>28874.467288</td>\n",
              "      <td>28874.467288</td>\n",
              "      <td>695.862086</td>\n",
              "      <td>695.862086</td>\n",
              "      <td>695.862086</td>\n",
              "      <td>695.862086</td>\n",
              "      <td>695.862086</td>\n",
              "      <td>695.862086</td>\n",
              "      <td>0.0</td>\n",
              "      <td>0.0</td>\n",
              "      <td>0.0</td>\n",
              "      <td>29570.329375</td>\n",
              "    </tr>\n",
              "    <tr>\n",
              "      <th>3</th>\n",
              "      <td>2012-04-30</td>\n",
              "      <td>29045.422563</td>\n",
              "      <td>24351.118713</td>\n",
              "      <td>29307.540149</td>\n",
              "      <td>29045.422563</td>\n",
              "      <td>29045.422563</td>\n",
              "      <td>-2216.438144</td>\n",
              "      <td>-2216.438144</td>\n",
              "      <td>-2216.438144</td>\n",
              "      <td>-2216.438144</td>\n",
              "      <td>-2216.438144</td>\n",
              "      <td>-2216.438144</td>\n",
              "      <td>0.0</td>\n",
              "      <td>0.0</td>\n",
              "      <td>0.0</td>\n",
              "      <td>26828.984419</td>\n",
              "    </tr>\n",
              "    <tr>\n",
              "      <th>2</th>\n",
              "      <td>2012-03-31</td>\n",
              "      <td>29210.863151</td>\n",
              "      <td>25389.605358</td>\n",
              "      <td>30138.347376</td>\n",
              "      <td>29210.863151</td>\n",
              "      <td>29210.863151</td>\n",
              "      <td>-1504.376430</td>\n",
              "      <td>-1504.376430</td>\n",
              "      <td>-1504.376430</td>\n",
              "      <td>-1504.376430</td>\n",
              "      <td>-1504.376430</td>\n",
              "      <td>-1504.376430</td>\n",
              "      <td>0.0</td>\n",
              "      <td>0.0</td>\n",
              "      <td>0.0</td>\n",
              "      <td>27706.486722</td>\n",
              "    </tr>\n",
              "    <tr>\n",
              "      <th>1</th>\n",
              "      <td>2012-02-29</td>\n",
              "      <td>29381.818426</td>\n",
              "      <td>22443.786470</td>\n",
              "      <td>27100.747277</td>\n",
              "      <td>29381.818426</td>\n",
              "      <td>29381.818426</td>\n",
              "      <td>-4615.270197</td>\n",
              "      <td>-4615.270197</td>\n",
              "      <td>-4615.270197</td>\n",
              "      <td>-4615.270197</td>\n",
              "      <td>-4615.270197</td>\n",
              "      <td>-4615.270197</td>\n",
              "      <td>0.0</td>\n",
              "      <td>0.0</td>\n",
              "      <td>0.0</td>\n",
              "      <td>24766.548229</td>\n",
              "    </tr>\n",
              "    <tr>\n",
              "      <th>0</th>\n",
              "      <td>2012-01-31</td>\n",
              "      <td>29541.744328</td>\n",
              "      <td>24497.357019</td>\n",
              "      <td>29128.700165</td>\n",
              "      <td>29541.744328</td>\n",
              "      <td>29541.744328</td>\n",
              "      <td>-2712.255011</td>\n",
              "      <td>-2712.255011</td>\n",
              "      <td>-2712.255011</td>\n",
              "      <td>-2712.255011</td>\n",
              "      <td>-2712.255011</td>\n",
              "      <td>-2712.255011</td>\n",
              "      <td>0.0</td>\n",
              "      <td>0.0</td>\n",
              "      <td>0.0</td>\n",
              "      <td>26829.489317</td>\n",
              "    </tr>\n",
              "  </tbody>\n",
              "</table>\n",
              "<p>1521 rows × 16 columns</p>\n",
              "</div>"
            ],
            "text/plain": [
              "             ds         trend  ...  multiplicative_terms_upper          yhat\n",
              "1520 2021-01-30  11418.401984  ...                         0.0  10978.205696\n",
              "1519 2021-01-29  11423.915335  ...                         0.0  19966.478740\n",
              "1518 2021-01-28  11429.428687  ...                         0.0  28676.458626\n",
              "1517 2021-01-27  11434.942038  ...                         0.0  36967.687791\n",
              "1516 2021-01-26  11440.455389  ...                         0.0  44709.075740\n",
              "...         ...           ...  ...                         ...           ...\n",
              "4    2012-05-31  28874.467288  ...                         0.0  29570.329375\n",
              "3    2012-04-30  29045.422563  ...                         0.0  26828.984419\n",
              "2    2012-03-31  29210.863151  ...                         0.0  27706.486722\n",
              "1    2012-02-29  29381.818426  ...                         0.0  24766.548229\n",
              "0    2012-01-31  29541.744328  ...                         0.0  26829.489317\n",
              "\n",
              "[1521 rows x 16 columns]"
            ]
          },
          "metadata": {
            "tags": []
          },
          "execution_count": 90
        }
      ]
    },
    {
      "cell_type": "code",
      "metadata": {
        "id": "D0hV1E_POUke"
      },
      "source": [
        ""
      ],
      "execution_count": null,
      "outputs": []
    }
  ]
}